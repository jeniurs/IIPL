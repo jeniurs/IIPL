{
  "nbformat": 4,
  "nbformat_minor": 0,
  "metadata": {
    "colab": {
      "provenance": [],
      "machine_shape": "hm",
      "gpuType": "A100"
    },
    "kernelspec": {
      "name": "python3",
      "display_name": "Python 3"
    },
    "language_info": {
      "name": "python"
    },
    "accelerator": "GPU"
  },
  "cells": [
    {
      "cell_type": "code",
      "execution_count": 1,
      "metadata": {
        "colab": {
          "base_uri": "https://localhost:8080/"
        },
        "id": "dDjI1Z71D-ux",
        "outputId": "613f4dab-041a-446d-a948-fcb197240d85"
      },
      "outputs": [
        {
          "output_type": "stream",
          "name": "stdout",
          "text": [
            "Collecting portalocker\n",
            "  Downloading portalocker-2.8.2-py3-none-any.whl (17 kB)\n",
            "Installing collected packages: portalocker\n",
            "Successfully installed portalocker-2.8.2\n",
            "Collecting en-core-web-sm==3.7.1\n",
            "  Downloading https://github.com/explosion/spacy-models/releases/download/en_core_web_sm-3.7.1/en_core_web_sm-3.7.1-py3-none-any.whl (12.8 MB)\n",
            "\u001b[2K     \u001b[90m━━━━━━━━━━━━━━━━━━━━━━━━━━━━━━━━━━━━━━━━\u001b[0m \u001b[32m12.8/12.8 MB\u001b[0m \u001b[31m90.6 MB/s\u001b[0m eta \u001b[36m0:00:00\u001b[0m\n",
            "\u001b[?25hRequirement already satisfied: spacy<3.8.0,>=3.7.2 in /usr/local/lib/python3.10/dist-packages (from en-core-web-sm==3.7.1) (3.7.4)\n",
            "Requirement already satisfied: spacy-legacy<3.1.0,>=3.0.11 in /usr/local/lib/python3.10/dist-packages (from spacy<3.8.0,>=3.7.2->en-core-web-sm==3.7.1) (3.0.12)\n",
            "Requirement already satisfied: spacy-loggers<2.0.0,>=1.0.0 in /usr/local/lib/python3.10/dist-packages (from spacy<3.8.0,>=3.7.2->en-core-web-sm==3.7.1) (1.0.5)\n",
            "Requirement already satisfied: murmurhash<1.1.0,>=0.28.0 in /usr/local/lib/python3.10/dist-packages (from spacy<3.8.0,>=3.7.2->en-core-web-sm==3.7.1) (1.0.10)\n",
            "Requirement already satisfied: cymem<2.1.0,>=2.0.2 in /usr/local/lib/python3.10/dist-packages (from spacy<3.8.0,>=3.7.2->en-core-web-sm==3.7.1) (2.0.8)\n",
            "Requirement already satisfied: preshed<3.1.0,>=3.0.2 in /usr/local/lib/python3.10/dist-packages (from spacy<3.8.0,>=3.7.2->en-core-web-sm==3.7.1) (3.0.9)\n",
            "Requirement already satisfied: thinc<8.3.0,>=8.2.2 in /usr/local/lib/python3.10/dist-packages (from spacy<3.8.0,>=3.7.2->en-core-web-sm==3.7.1) (8.2.3)\n",
            "Requirement already satisfied: wasabi<1.2.0,>=0.9.1 in /usr/local/lib/python3.10/dist-packages (from spacy<3.8.0,>=3.7.2->en-core-web-sm==3.7.1) (1.1.2)\n",
            "Requirement already satisfied: srsly<3.0.0,>=2.4.3 in /usr/local/lib/python3.10/dist-packages (from spacy<3.8.0,>=3.7.2->en-core-web-sm==3.7.1) (2.4.8)\n",
            "Requirement already satisfied: catalogue<2.1.0,>=2.0.6 in /usr/local/lib/python3.10/dist-packages (from spacy<3.8.0,>=3.7.2->en-core-web-sm==3.7.1) (2.0.10)\n",
            "Requirement already satisfied: weasel<0.4.0,>=0.1.0 in /usr/local/lib/python3.10/dist-packages (from spacy<3.8.0,>=3.7.2->en-core-web-sm==3.7.1) (0.3.4)\n",
            "Requirement already satisfied: typer<0.10.0,>=0.3.0 in /usr/local/lib/python3.10/dist-packages (from spacy<3.8.0,>=3.7.2->en-core-web-sm==3.7.1) (0.9.4)\n",
            "Requirement already satisfied: smart-open<7.0.0,>=5.2.1 in /usr/local/lib/python3.10/dist-packages (from spacy<3.8.0,>=3.7.2->en-core-web-sm==3.7.1) (6.4.0)\n",
            "Requirement already satisfied: tqdm<5.0.0,>=4.38.0 in /usr/local/lib/python3.10/dist-packages (from spacy<3.8.0,>=3.7.2->en-core-web-sm==3.7.1) (4.66.4)\n",
            "Requirement already satisfied: requests<3.0.0,>=2.13.0 in /usr/local/lib/python3.10/dist-packages (from spacy<3.8.0,>=3.7.2->en-core-web-sm==3.7.1) (2.31.0)\n",
            "Requirement already satisfied: pydantic!=1.8,!=1.8.1,<3.0.0,>=1.7.4 in /usr/local/lib/python3.10/dist-packages (from spacy<3.8.0,>=3.7.2->en-core-web-sm==3.7.1) (2.7.1)\n",
            "Requirement already satisfied: jinja2 in /usr/local/lib/python3.10/dist-packages (from spacy<3.8.0,>=3.7.2->en-core-web-sm==3.7.1) (3.1.4)\n",
            "Requirement already satisfied: setuptools in /usr/local/lib/python3.10/dist-packages (from spacy<3.8.0,>=3.7.2->en-core-web-sm==3.7.1) (67.7.2)\n",
            "Requirement already satisfied: packaging>=20.0 in /usr/local/lib/python3.10/dist-packages (from spacy<3.8.0,>=3.7.2->en-core-web-sm==3.7.1) (24.0)\n",
            "Requirement already satisfied: langcodes<4.0.0,>=3.2.0 in /usr/local/lib/python3.10/dist-packages (from spacy<3.8.0,>=3.7.2->en-core-web-sm==3.7.1) (3.4.0)\n",
            "Requirement already satisfied: numpy>=1.19.0 in /usr/local/lib/python3.10/dist-packages (from spacy<3.8.0,>=3.7.2->en-core-web-sm==3.7.1) (1.25.2)\n",
            "Requirement already satisfied: language-data>=1.2 in /usr/local/lib/python3.10/dist-packages (from langcodes<4.0.0,>=3.2.0->spacy<3.8.0,>=3.7.2->en-core-web-sm==3.7.1) (1.2.0)\n",
            "Requirement already satisfied: annotated-types>=0.4.0 in /usr/local/lib/python3.10/dist-packages (from pydantic!=1.8,!=1.8.1,<3.0.0,>=1.7.4->spacy<3.8.0,>=3.7.2->en-core-web-sm==3.7.1) (0.7.0)\n",
            "Requirement already satisfied: pydantic-core==2.18.2 in /usr/local/lib/python3.10/dist-packages (from pydantic!=1.8,!=1.8.1,<3.0.0,>=1.7.4->spacy<3.8.0,>=3.7.2->en-core-web-sm==3.7.1) (2.18.2)\n",
            "Requirement already satisfied: typing-extensions>=4.6.1 in /usr/local/lib/python3.10/dist-packages (from pydantic!=1.8,!=1.8.1,<3.0.0,>=1.7.4->spacy<3.8.0,>=3.7.2->en-core-web-sm==3.7.1) (4.11.0)\n",
            "Requirement already satisfied: charset-normalizer<4,>=2 in /usr/local/lib/python3.10/dist-packages (from requests<3.0.0,>=2.13.0->spacy<3.8.0,>=3.7.2->en-core-web-sm==3.7.1) (3.3.2)\n",
            "Requirement already satisfied: idna<4,>=2.5 in /usr/local/lib/python3.10/dist-packages (from requests<3.0.0,>=2.13.0->spacy<3.8.0,>=3.7.2->en-core-web-sm==3.7.1) (3.7)\n",
            "Requirement already satisfied: urllib3<3,>=1.21.1 in /usr/local/lib/python3.10/dist-packages (from requests<3.0.0,>=2.13.0->spacy<3.8.0,>=3.7.2->en-core-web-sm==3.7.1) (2.0.7)\n",
            "Requirement already satisfied: certifi>=2017.4.17 in /usr/local/lib/python3.10/dist-packages (from requests<3.0.0,>=2.13.0->spacy<3.8.0,>=3.7.2->en-core-web-sm==3.7.1) (2024.2.2)\n",
            "Requirement already satisfied: blis<0.8.0,>=0.7.8 in /usr/local/lib/python3.10/dist-packages (from thinc<8.3.0,>=8.2.2->spacy<3.8.0,>=3.7.2->en-core-web-sm==3.7.1) (0.7.11)\n",
            "Requirement already satisfied: confection<1.0.0,>=0.0.1 in /usr/local/lib/python3.10/dist-packages (from thinc<8.3.0,>=8.2.2->spacy<3.8.0,>=3.7.2->en-core-web-sm==3.7.1) (0.1.4)\n",
            "Requirement already satisfied: click<9.0.0,>=7.1.1 in /usr/local/lib/python3.10/dist-packages (from typer<0.10.0,>=0.3.0->spacy<3.8.0,>=3.7.2->en-core-web-sm==3.7.1) (8.1.7)\n",
            "Requirement already satisfied: cloudpathlib<0.17.0,>=0.7.0 in /usr/local/lib/python3.10/dist-packages (from weasel<0.4.0,>=0.1.0->spacy<3.8.0,>=3.7.2->en-core-web-sm==3.7.1) (0.16.0)\n",
            "Requirement already satisfied: MarkupSafe>=2.0 in /usr/local/lib/python3.10/dist-packages (from jinja2->spacy<3.8.0,>=3.7.2->en-core-web-sm==3.7.1) (2.1.5)\n",
            "Requirement already satisfied: marisa-trie>=0.7.7 in /usr/local/lib/python3.10/dist-packages (from language-data>=1.2->langcodes<4.0.0,>=3.2.0->spacy<3.8.0,>=3.7.2->en-core-web-sm==3.7.1) (1.1.1)\n",
            "\u001b[38;5;2m✔ Download and installation successful\u001b[0m\n",
            "You can now load the package via spacy.load('en_core_web_sm')\n",
            "\u001b[38;5;3m⚠ Restart to reload dependencies\u001b[0m\n",
            "If you are in a Jupyter or Colab notebook, you may need to restart Python in\n",
            "order to load all the package's dependencies. You can do this by selecting the\n",
            "'Restart kernel' or 'Restart runtime' option.\n",
            "Collecting de-core-news-sm==3.7.0\n",
            "  Downloading https://github.com/explosion/spacy-models/releases/download/de_core_news_sm-3.7.0/de_core_news_sm-3.7.0-py3-none-any.whl (14.6 MB)\n",
            "\u001b[2K     \u001b[90m━━━━━━━━━━━━━━━━━━━━━━━━━━━━━━━━━━━━━━━━\u001b[0m \u001b[32m14.6/14.6 MB\u001b[0m \u001b[31m82.1 MB/s\u001b[0m eta \u001b[36m0:00:00\u001b[0m\n",
            "\u001b[?25hRequirement already satisfied: spacy<3.8.0,>=3.7.0 in /usr/local/lib/python3.10/dist-packages (from de-core-news-sm==3.7.0) (3.7.4)\n",
            "Requirement already satisfied: spacy-legacy<3.1.0,>=3.0.11 in /usr/local/lib/python3.10/dist-packages (from spacy<3.8.0,>=3.7.0->de-core-news-sm==3.7.0) (3.0.12)\n",
            "Requirement already satisfied: spacy-loggers<2.0.0,>=1.0.0 in /usr/local/lib/python3.10/dist-packages (from spacy<3.8.0,>=3.7.0->de-core-news-sm==3.7.0) (1.0.5)\n",
            "Requirement already satisfied: murmurhash<1.1.0,>=0.28.0 in /usr/local/lib/python3.10/dist-packages (from spacy<3.8.0,>=3.7.0->de-core-news-sm==3.7.0) (1.0.10)\n",
            "Requirement already satisfied: cymem<2.1.0,>=2.0.2 in /usr/local/lib/python3.10/dist-packages (from spacy<3.8.0,>=3.7.0->de-core-news-sm==3.7.0) (2.0.8)\n",
            "Requirement already satisfied: preshed<3.1.0,>=3.0.2 in /usr/local/lib/python3.10/dist-packages (from spacy<3.8.0,>=3.7.0->de-core-news-sm==3.7.0) (3.0.9)\n",
            "Requirement already satisfied: thinc<8.3.0,>=8.2.2 in /usr/local/lib/python3.10/dist-packages (from spacy<3.8.0,>=3.7.0->de-core-news-sm==3.7.0) (8.2.3)\n",
            "Requirement already satisfied: wasabi<1.2.0,>=0.9.1 in /usr/local/lib/python3.10/dist-packages (from spacy<3.8.0,>=3.7.0->de-core-news-sm==3.7.0) (1.1.2)\n",
            "Requirement already satisfied: srsly<3.0.0,>=2.4.3 in /usr/local/lib/python3.10/dist-packages (from spacy<3.8.0,>=3.7.0->de-core-news-sm==3.7.0) (2.4.8)\n",
            "Requirement already satisfied: catalogue<2.1.0,>=2.0.6 in /usr/local/lib/python3.10/dist-packages (from spacy<3.8.0,>=3.7.0->de-core-news-sm==3.7.0) (2.0.10)\n",
            "Requirement already satisfied: weasel<0.4.0,>=0.1.0 in /usr/local/lib/python3.10/dist-packages (from spacy<3.8.0,>=3.7.0->de-core-news-sm==3.7.0) (0.3.4)\n",
            "Requirement already satisfied: typer<0.10.0,>=0.3.0 in /usr/local/lib/python3.10/dist-packages (from spacy<3.8.0,>=3.7.0->de-core-news-sm==3.7.0) (0.9.4)\n",
            "Requirement already satisfied: smart-open<7.0.0,>=5.2.1 in /usr/local/lib/python3.10/dist-packages (from spacy<3.8.0,>=3.7.0->de-core-news-sm==3.7.0) (6.4.0)\n",
            "Requirement already satisfied: tqdm<5.0.0,>=4.38.0 in /usr/local/lib/python3.10/dist-packages (from spacy<3.8.0,>=3.7.0->de-core-news-sm==3.7.0) (4.66.4)\n",
            "Requirement already satisfied: requests<3.0.0,>=2.13.0 in /usr/local/lib/python3.10/dist-packages (from spacy<3.8.0,>=3.7.0->de-core-news-sm==3.7.0) (2.31.0)\n",
            "Requirement already satisfied: pydantic!=1.8,!=1.8.1,<3.0.0,>=1.7.4 in /usr/local/lib/python3.10/dist-packages (from spacy<3.8.0,>=3.7.0->de-core-news-sm==3.7.0) (2.7.1)\n",
            "Requirement already satisfied: jinja2 in /usr/local/lib/python3.10/dist-packages (from spacy<3.8.0,>=3.7.0->de-core-news-sm==3.7.0) (3.1.4)\n",
            "Requirement already satisfied: setuptools in /usr/local/lib/python3.10/dist-packages (from spacy<3.8.0,>=3.7.0->de-core-news-sm==3.7.0) (67.7.2)\n",
            "Requirement already satisfied: packaging>=20.0 in /usr/local/lib/python3.10/dist-packages (from spacy<3.8.0,>=3.7.0->de-core-news-sm==3.7.0) (24.0)\n",
            "Requirement already satisfied: langcodes<4.0.0,>=3.2.0 in /usr/local/lib/python3.10/dist-packages (from spacy<3.8.0,>=3.7.0->de-core-news-sm==3.7.0) (3.4.0)\n",
            "Requirement already satisfied: numpy>=1.19.0 in /usr/local/lib/python3.10/dist-packages (from spacy<3.8.0,>=3.7.0->de-core-news-sm==3.7.0) (1.25.2)\n",
            "Requirement already satisfied: language-data>=1.2 in /usr/local/lib/python3.10/dist-packages (from langcodes<4.0.0,>=3.2.0->spacy<3.8.0,>=3.7.0->de-core-news-sm==3.7.0) (1.2.0)\n",
            "Requirement already satisfied: annotated-types>=0.4.0 in /usr/local/lib/python3.10/dist-packages (from pydantic!=1.8,!=1.8.1,<3.0.0,>=1.7.4->spacy<3.8.0,>=3.7.0->de-core-news-sm==3.7.0) (0.7.0)\n",
            "Requirement already satisfied: pydantic-core==2.18.2 in /usr/local/lib/python3.10/dist-packages (from pydantic!=1.8,!=1.8.1,<3.0.0,>=1.7.4->spacy<3.8.0,>=3.7.0->de-core-news-sm==3.7.0) (2.18.2)\n",
            "Requirement already satisfied: typing-extensions>=4.6.1 in /usr/local/lib/python3.10/dist-packages (from pydantic!=1.8,!=1.8.1,<3.0.0,>=1.7.4->spacy<3.8.0,>=3.7.0->de-core-news-sm==3.7.0) (4.11.0)\n",
            "Requirement already satisfied: charset-normalizer<4,>=2 in /usr/local/lib/python3.10/dist-packages (from requests<3.0.0,>=2.13.0->spacy<3.8.0,>=3.7.0->de-core-news-sm==3.7.0) (3.3.2)\n",
            "Requirement already satisfied: idna<4,>=2.5 in /usr/local/lib/python3.10/dist-packages (from requests<3.0.0,>=2.13.0->spacy<3.8.0,>=3.7.0->de-core-news-sm==3.7.0) (3.7)\n",
            "Requirement already satisfied: urllib3<3,>=1.21.1 in /usr/local/lib/python3.10/dist-packages (from requests<3.0.0,>=2.13.0->spacy<3.8.0,>=3.7.0->de-core-news-sm==3.7.0) (2.0.7)\n",
            "Requirement already satisfied: certifi>=2017.4.17 in /usr/local/lib/python3.10/dist-packages (from requests<3.0.0,>=2.13.0->spacy<3.8.0,>=3.7.0->de-core-news-sm==3.7.0) (2024.2.2)\n",
            "Requirement already satisfied: blis<0.8.0,>=0.7.8 in /usr/local/lib/python3.10/dist-packages (from thinc<8.3.0,>=8.2.2->spacy<3.8.0,>=3.7.0->de-core-news-sm==3.7.0) (0.7.11)\n",
            "Requirement already satisfied: confection<1.0.0,>=0.0.1 in /usr/local/lib/python3.10/dist-packages (from thinc<8.3.0,>=8.2.2->spacy<3.8.0,>=3.7.0->de-core-news-sm==3.7.0) (0.1.4)\n",
            "Requirement already satisfied: click<9.0.0,>=7.1.1 in /usr/local/lib/python3.10/dist-packages (from typer<0.10.0,>=0.3.0->spacy<3.8.0,>=3.7.0->de-core-news-sm==3.7.0) (8.1.7)\n",
            "Requirement already satisfied: cloudpathlib<0.17.0,>=0.7.0 in /usr/local/lib/python3.10/dist-packages (from weasel<0.4.0,>=0.1.0->spacy<3.8.0,>=3.7.0->de-core-news-sm==3.7.0) (0.16.0)\n",
            "Requirement already satisfied: MarkupSafe>=2.0 in /usr/local/lib/python3.10/dist-packages (from jinja2->spacy<3.8.0,>=3.7.0->de-core-news-sm==3.7.0) (2.1.5)\n",
            "Requirement already satisfied: marisa-trie>=0.7.7 in /usr/local/lib/python3.10/dist-packages (from language-data>=1.2->langcodes<4.0.0,>=3.2.0->spacy<3.8.0,>=3.7.0->de-core-news-sm==3.7.0) (1.1.1)\n",
            "Installing collected packages: de-core-news-sm\n",
            "Successfully installed de-core-news-sm-3.7.0\n",
            "\u001b[38;5;2m✔ Download and installation successful\u001b[0m\n",
            "You can now load the package via spacy.load('de_core_news_sm')\n",
            "\u001b[38;5;3m⚠ Restart to reload dependencies\u001b[0m\n",
            "If you are in a Jupyter or Colab notebook, you may need to restart Python in\n",
            "order to load all the package's dependencies. You can do this by selecting the\n",
            "'Restart kernel' or 'Restart runtime' option.\n"
          ]
        }
      ],
      "source": [
        "!pip install portalocker\n",
        "!python -m spacy download en_core_web_sm\n",
        "!python -m spacy download de_core_news_sm"
      ]
    },
    {
      "cell_type": "code",
      "source": [
        "import torch\n",
        "import json\n",
        "import os\n",
        "from tqdm import tqdm\n",
        "import numpy as np\n",
        "import pandas as pd\n",
        "import math\n",
        "\n",
        "import matplotlib.pyplot as plt\n",
        "\n",
        "configs = {\n",
        "    \"train_source_data\":\"/content/train.en\",\n",
        "    \"train_target_data\":\"/content/train.de\",\n",
        "    \"valid_source_data\":\"/content/val.en\",\n",
        "    \"valid_target_data\":\"/content/val.de\",\n",
        "    \"test_source_data\": \"/content/trimmed_test.en\",\n",
        "    \"test_target_data\": \"/content/test_final.de\",\n",
        "    \"source_max_seq_len\":256,\n",
        "    \"target_max_seq_len\":256,\n",
        "    \"batch_size\":50,\n",
        "    \"device\":\"cuda:0\" if torch.cuda.is_available() else \"cpu\",\n",
        "    \"embedding_dim\": 512,\n",
        "    \"n_layers\": 6,\n",
        "    \"n_heads\": 8,\n",
        "    \"dropout\": 0.15,\n",
        "    \"lr\":math.exp(-9),\n",
        "    \"n_epochs\":100,\n",
        "    \"print_freq\": 5,\n",
        "    \"beam_size\":3,\n",
        "    \"model_path\":\"/content/model_transformer_translate_ptransformer.pt\",\n",
        "    \"early_stopping\":5\n",
        "}\n"
      ],
      "metadata": {
        "id": "wBTPph7yF5gI"
      },
      "execution_count": 2,
      "outputs": []
    },
    {
      "cell_type": "code",
      "source": [
        "def read_data(source_file, target_file):\n",
        "        source_data = open(source_file).read().strip().split(\"\\n\")\n",
        "        target_data = open(target_file).read().strip().split(\"\\n\")\n",
        "        return source_data, target_data\n",
        "\n",
        "train_src_data, train_trg_data = read_data(configs[\"train_source_data\"], configs[\"train_target_data\"])\n",
        "valid_src_data, valid_trg_data = read_data(configs[\"valid_source_data\"], configs[\"valid_target_data\"])\n",
        "\n",
        "\n",
        "# visualize log\n",
        "def plot_loss(log_path, log_dir):\n",
        "    log = json.load(open(log_path, \"r\"))\n",
        "\n",
        "    plt.figure()\n",
        "    plt.plot(log[\"train_loss\"], label=\"train loss\")\n",
        "    plt.plot(log[\"valid_loss\"], label=\"valid loss\")\n",
        "    plt.title(\"Loss per epoch\")\n",
        "    plt.xlabel(\"Epoch\")\n",
        "    plt.ylabel(\"Loss\")\n",
        "    plt.legend()\n",
        "    plt.savefig(os.path.join(log_dir, \"loss_epoch.png\"))\n",
        "\n",
        "    # plot batch loss\n",
        "    plt.figure()\n",
        "    lst = log[\"train_batch_loss\"]\n",
        "    n = int(len(log[\"train_batch_loss\"]) / len(log[\"valid_batch_loss\"]))\n",
        "    train_batch_loss = [lst[i:i + n][0] for i in range(0, len(lst), n)]\n",
        "    plt.plot(train_batch_loss, label=\"train loss\")\n",
        "    plt.plot(log[\"valid_batch_loss\"], label=\"valid loss\")\n",
        "    plt.title(\"Loss per batch\")\n",
        "    plt.xlabel(\"Batch\")\n",
        "    plt.ylabel(\"Loss\")\n",
        "    plt.legend()\n",
        "    plt.savefig(os.path.join(log_dir, \"loss_batch.png\"))\n",
        "\n",
        "import torch\n",
        "from torch.utils.data import Dataset\n",
        "from transformers import AutoTokenizer\n",
        "import re\n",
        "\n",
        "from torchtext.data.utils import get_tokenizer\n",
        "from torchtext.vocab import build_vocab_from_iterator\n",
        "from functools import partial\n",
        "en_tokenizer = get_tokenizer(tokenizer='spacy', language='en_core_web_sm')\n",
        "de_tokenizer = get_tokenizer(tokenizer='spacy', language='de_core_news_sm')\n",
        "\n",
        "def preprocess_seq(seq):\n",
        "        seq = re.sub(\n",
        "        r\"[\\*\\\"“”\\n\\\\…\\+\\-\\/\\=\\(\\)‘•:\\[\\]\\|’\\!;]\", \" \", str(seq))\n",
        "        seq = re.sub(r\"[ ]+\", \" \", seq)\n",
        "        seq = re.sub(r\"\\!+\", \"!\", seq)\n",
        "        seq = re.sub(r\"\\,+\", \",\", seq)\n",
        "        seq = re.sub(r\"\\?+\", \"?\", seq)\n",
        "        seq = seq.lower()\n",
        "        return seq\n",
        "\n",
        "preprocessed_srclist=[]\n",
        "for english_sentences in train_src_data:\n",
        " preprocessed_src=preprocess_seq(english_sentences)\n",
        " preprocessed_srclist.append(preprocessed_src)\n",
        "\n",
        "preprocessed_tgtlist=[]\n",
        "for german_sentences in train_trg_data:\n",
        " preprocessed_tgt=preprocess_seq(german_sentences)\n",
        " preprocessed_tgtlist.append(preprocessed_tgt)\n",
        "\n",
        "val_preprocessed_srclist=[]\n",
        "for english_sentences in valid_src_data:\n",
        " preprocessed_src=preprocess_seq(english_sentences)\n",
        " val_preprocessed_srclist.append(preprocessed_src)\n",
        "\n",
        "val_preprocessed_tgtlist=[]\n",
        "for german_sentences in valid_trg_data:\n",
        " preprocessed_tgt=preprocess_seq(german_sentences)\n",
        " val_preprocessed_tgtlist.append(preprocessed_tgt)\n",
        "\n",
        "en_vocab = build_vocab_from_iterator(map(en_tokenizer, [english for english in preprocessed_srclist]), min_freq=2, specials=[\"<unk>\", \"<sos>\", \"<eos>\", \"<pad>\"])\n",
        "de_vocab = build_vocab_from_iterator(map(de_tokenizer, [de for de in preprocessed_tgtlist]), min_freq=2, specials=[\"<unk>\", \"<sos>\", \"<eos>\", \"<pad>\"])\n",
        "\n",
        "en_token2id = en_vocab.get_stoi()\n",
        "de_token2id = de_vocab.get_stoi()\n",
        "en_id2token = en_vocab.get_itos()\n",
        "de_id2token = de_vocab.get_itos()\n",
        "\n",
        "unk_token_id = 0\n",
        "sos_token_id = 1\n",
        "eos_token_id = 2\n",
        "pad_token_id = 3\n",
        "\n",
        "def src_encode(src_text):\n",
        "        source_sentence = [ en_token2id.get(token, en_token2id['<unk>']) for token in en_tokenizer(src_text) ]\n",
        "        return source_sentence\n",
        "\n",
        "def tgt_encode(tgt_text):\n",
        "        target_sentence = [de_token2id['<sos>']] \\\n",
        "        + [ de_token2id.get(token, de_token2id['<unk>']) for token in de_tokenizer(tgt_text) ] \\\n",
        "        + [ de_token2id['<eos>']]\n",
        "        return target_sentence\n",
        "\n",
        "\n",
        "def src_decode(ids):\n",
        "     sentences = []\n",
        "     sentence = list(map(lambda x: en_id2token[x], ids))\n",
        "     sentences.append(\" \".join(sentence))\n",
        "     return sentences\n",
        "\n",
        "train_src_sentences = [ src_encode(eng) for eng in preprocessed_srclist if len(eng) > 0]\n",
        "train_tgt_sentences = [ tgt_encode(ger) for ger in preprocessed_tgtlist if len(ger) > 0]\n",
        "val_src_sentences = [ src_encode(eng) for eng in val_preprocessed_srclist if len(eng) > 0]\n",
        "val_tgt_sentences = [ tgt_encode(ger) for ger in val_preprocessed_tgtlist if len(ger) > 0]\n",
        "train_sentences = list(zip(train_src_sentences, train_tgt_sentences))\n",
        "val_sentences = list(zip(val_src_sentences, val_tgt_sentences))\n",
        "def pad_features(pad_id, s):\n",
        "     for i in range(len(s)):\n",
        "      src_padding = np.full(256-len(s[i][0]), pad_id, dtype=int)\n",
        "      src_features= s[i][0].extend(src_padding)\n",
        "      tgt_padding = np.full(256-len(s[i][1]), pad_id, dtype=int)\n",
        "      tgt_features=s[i][1].extend(tgt_padding)\n",
        "     return s\n",
        "\n",
        "train_features=pad_features(pad_token_id,train_sentences)\n",
        "val_features=pad_features(pad_token_id,val_sentences)"
      ],
      "metadata": {
        "colab": {
          "base_uri": "https://localhost:8080/"
        },
        "id": "Nc5OSXUAF8k6",
        "outputId": "cabab27c-1302-4e79-ab3d-fc87907b7081"
      },
      "execution_count": 3,
      "outputs": [
        {
          "output_type": "stream",
          "name": "stderr",
          "text": [
            "/usr/local/lib/python3.10/dist-packages/torchtext/data/__init__.py:4: UserWarning: \n",
            "/!\\ IMPORTANT WARNING ABOUT TORCHTEXT STATUS /!\\ \n",
            "Torchtext is deprecated and the last released version will be 0.18 (this one). You can silence this warning by calling the following at the beginnign of your scripts: `import torchtext; torchtext.disable_torchtext_deprecation_warning()`\n",
            "  warnings.warn(torchtext._TORCHTEXT_DEPRECATION_MSG)\n",
            "/usr/local/lib/python3.10/dist-packages/torchtext/vocab/__init__.py:4: UserWarning: \n",
            "/!\\ IMPORTANT WARNING ABOUT TORCHTEXT STATUS /!\\ \n",
            "Torchtext is deprecated and the last released version will be 0.18 (this one). You can silence this warning by calling the following at the beginnign of your scripts: `import torchtext; torchtext.disable_torchtext_deprecation_warning()`\n",
            "  warnings.warn(torchtext._TORCHTEXT_DEPRECATION_MSG)\n",
            "/usr/local/lib/python3.10/dist-packages/torchtext/utils.py:4: UserWarning: \n",
            "/!\\ IMPORTANT WARNING ABOUT TORCHTEXT STATUS /!\\ \n",
            "Torchtext is deprecated and the last released version will be 0.18 (this one). You can silence this warning by calling the following at the beginnign of your scripts: `import torchtext; torchtext.disable_torchtext_deprecation_warning()`\n",
            "  warnings.warn(torchtext._TORCHTEXT_DEPRECATION_MSG)\n"
          ]
        }
      ]
    },
    {
      "cell_type": "code",
      "source": [
        "class TrainTranslateDataset(Dataset):\n",
        "\n",
        "    def __init__(self, source_tokenizer, target_tokenizer, source_max_seq_len=256, target_max_seq_len=256):\n",
        "        self.source_tokenizer = source_tokenizer\n",
        "        self.target_tokenizer = target_tokenizer\n",
        "        self.source_max_seq_len = source_max_seq_len\n",
        "        self.target_max_seq_len = target_max_seq_len\n",
        "        self.sentences=train_features\n",
        "\n",
        "\n",
        "\n",
        "    def __len__(self):\n",
        "        return len(self.sentences)\n",
        "\n",
        "    # create decoder input mask\n",
        "    def create_decoder_mask(self, seq_len):\n",
        "        mask = torch.ones(seq_len, seq_len).tril()\n",
        "        return mask\n",
        "\n",
        "    def __getitem__(self, index):\n",
        "\n",
        "            tensor_source=torch.tensor(self.sentences[index][0])\n",
        "            tensor_target=torch.tensor(self.sentences[index][1])\n",
        "            return {\n",
        "                \"source_ids\": tensor_source,\n",
        "                \"target_ids\": tensor_target\n",
        "            }\n",
        "\n",
        "\n",
        "a=TrainTranslateDataset(source_tokenizer=en_tokenizer, target_tokenizer=de_tokenizer, source_max_seq_len=256, target_max_seq_len=256)\n",
        "print(a[0])\n",
        "print(len(a[0][\"source_ids\"]))"
      ],
      "metadata": {
        "colab": {
          "base_uri": "https://localhost:8080/"
        },
        "id": "TnKcMcy7GE9o",
        "outputId": "0c5721ba-a1e3-47f7-9ec8-95166c85089f"
      },
      "execution_count": 5,
      "outputs": [
        {
          "output_type": "stream",
          "name": "stdout",
          "text": [
            "{'source_ids': tensor([  16,   24,   15,   25,  776,   17,   56,   79,  200, 1306,    5,    3,\n",
            "           3,    3,    3,    3,    3,    3,    3,    3,    3,    3,    3,    3,\n",
            "           3,    3,    3,    3,    3,    3,    3,    3,    3,    3,    3,    3,\n",
            "           3,    3,    3,    3,    3,    3,    3,    3,    3,    3,    3,    3,\n",
            "           3,    3,    3,    3,    3,    3,    3,    3,    3,    3,    3,    3,\n",
            "           3,    3,    3,    3,    3,    3,    3,    3,    3,    3,    3,    3,\n",
            "           3,    3,    3,    3,    3,    3,    3,    3,    3,    3,    3,    3,\n",
            "           3,    3,    3,    3,    3,    3,    3,    3,    3,    3,    3,    3,\n",
            "           3,    3,    3,    3,    3,    3,    3,    3,    3,    3,    3,    3,\n",
            "           3,    3,    3,    3,    3,    3,    3,    3,    3,    3,    3,    3,\n",
            "           3,    3,    3,    3,    3,    3,    3,    3,    3,    3,    3,    3,\n",
            "           3,    3,    3,    3,    3,    3,    3,    3,    3,    3,    3,    3,\n",
            "           3,    3,    3,    3,    3,    3,    3,    3,    3,    3,    3,    3,\n",
            "           3,    3,    3,    3,    3,    3,    3,    3,    3,    3,    3,    3,\n",
            "           3,    3,    3,    3,    3,    3,    3,    3,    3,    3,    3,    3,\n",
            "           3,    3,    3,    3,    3,    3,    3,    3,    3,    3,    3,    3,\n",
            "           3,    3,    3,    3,    3,    3,    3,    3,    3,    3,    3,    3,\n",
            "           3,    3,    3,    3,    3,    3,    3,    3,    3,    3,    3,    3,\n",
            "           3,    3,    3,    3,    3,    3,    3,    3,    3,    3,    3,    3,\n",
            "           3,    3,    3,    3,    3,    3,    3,    3,    3,    3,    3,    3,\n",
            "           3,    3,    3,    3,    3,    3,    3,    3,    3,    3,    3,    3,\n",
            "           3,    3,    3,    3]), 'target_ids': tensor([   1,   18,   26,  214,   30,   84,   20,   88,    7,   15,  114, 7662,\n",
            "        3211,    4,    2,    3,    3,    3,    3,    3,    3,    3,    3,    3,\n",
            "           3,    3,    3,    3,    3,    3,    3,    3,    3,    3,    3,    3,\n",
            "           3,    3,    3,    3,    3,    3,    3,    3,    3,    3,    3,    3,\n",
            "           3,    3,    3,    3,    3,    3,    3,    3,    3,    3,    3,    3,\n",
            "           3,    3,    3,    3,    3,    3,    3,    3,    3,    3,    3,    3,\n",
            "           3,    3,    3,    3,    3,    3,    3,    3,    3,    3,    3,    3,\n",
            "           3,    3,    3,    3,    3,    3,    3,    3,    3,    3,    3,    3,\n",
            "           3,    3,    3,    3,    3,    3,    3,    3,    3,    3,    3,    3,\n",
            "           3,    3,    3,    3,    3,    3,    3,    3,    3,    3,    3,    3,\n",
            "           3,    3,    3,    3,    3,    3,    3,    3,    3,    3,    3,    3,\n",
            "           3,    3,    3,    3,    3,    3,    3,    3,    3,    3,    3,    3,\n",
            "           3,    3,    3,    3,    3,    3,    3,    3,    3,    3,    3,    3,\n",
            "           3,    3,    3,    3,    3,    3,    3,    3,    3,    3,    3,    3,\n",
            "           3,    3,    3,    3,    3,    3,    3,    3,    3,    3,    3,    3,\n",
            "           3,    3,    3,    3,    3,    3,    3,    3,    3,    3,    3,    3,\n",
            "           3,    3,    3,    3,    3,    3,    3,    3,    3,    3,    3,    3,\n",
            "           3,    3,    3,    3,    3,    3,    3,    3,    3,    3,    3,    3,\n",
            "           3,    3,    3,    3,    3,    3,    3,    3,    3,    3,    3,    3,\n",
            "           3,    3,    3,    3,    3,    3,    3,    3,    3,    3,    3,    3,\n",
            "           3,    3,    3,    3,    3,    3,    3,    3,    3,    3,    3,    3,\n",
            "           3,    3,    3,    3])}\n",
            "256\n"
          ]
        }
      ]
    },
    {
      "cell_type": "code",
      "source": [
        "class ValidTranslateDataset(Dataset):\n",
        "\n",
        "    def __init__(self, source_tokenizer, target_tokenizer, source_max_seq_len=256, target_max_seq_len=256):\n",
        "        self.source_tokenizer = source_tokenizer\n",
        "        self.target_tokenizer = target_tokenizer\n",
        "        self.source_max_seq_len = source_max_seq_len\n",
        "        self.target_max_seq_len = target_max_seq_len\n",
        "        self.sentences=val_features\n",
        "\n",
        "\n",
        "\n",
        "    def __len__(self):\n",
        "        return len(self.sentences)\n",
        "\n",
        "    # create decoder input mask\n",
        "    def create_decoder_mask(self, seq_len):\n",
        "        mask = torch.ones(seq_len, seq_len).tril()\n",
        "        return mask\n",
        "\n",
        "    def __getitem__(self, index):\n",
        "\n",
        "            tensor_source=torch.tensor(self.sentences[index][0])\n",
        "            tensor_target=torch.tensor(self.sentences[index][1])\n",
        "            return {\n",
        "                \"source_ids\": tensor_source,\n",
        "                \"target_ids\": tensor_target\n",
        "            }"
      ],
      "metadata": {
        "id": "TZFPvkEJGGll"
      },
      "execution_count": 6,
      "outputs": []
    },
    {
      "cell_type": "code",
      "source": [
        "\n",
        "def main():\n",
        "\n",
        "    def read_data(source_file, target_file):\n",
        "        source_data = open(source_file).read().strip().split(\"\\n\")\n",
        "        target_data = open(target_file).read().strip().split(\"\\n\")\n",
        "        return source_data, target_data\n",
        "\n",
        "    train_src_data, train_trg_data = read_data(configs[\"train_source_data\"], configs[\"train_target_data\"])\n",
        "    valid_src_data, valid_trg_data = read_data(configs[\"valid_source_data\"], configs[\"valid_target_data\"])\n",
        "\n",
        "    source_tokenizer = en_tokenizer\n",
        "    target_tokenizer = de_tokenizer\n",
        "    train_dataset = TrainTranslateDataset(\n",
        "        source_tokenizer=source_tokenizer,\n",
        "        target_tokenizer=target_tokenizer,\n",
        "        source_max_seq_len=configs[\"source_max_seq_len\"],\n",
        "        target_max_seq_len=configs[\"target_max_seq_len\"]\n",
        "    )\n",
        "\n",
        "    train_loader = torch.utils.data.DataLoader(\n",
        "        train_dataset,\n",
        "        batch_size=configs[\"batch_size\"],\n",
        "        shuffle=False\n",
        "    )\n",
        "    for batch in train_loader:\n",
        "        print(batch[\"source_ids\"])\n",
        "        print(batch[\"target_ids\"])\n",
        "        break\n",
        "\n",
        "\n",
        "if __name__ == \"__main__\":\n",
        "    main()"
      ],
      "metadata": {
        "colab": {
          "base_uri": "https://localhost:8080/"
        },
        "id": "XHUVqZIGGKNk",
        "outputId": "8d0cb840-ac39-4e88-9bf2-041a138c4fac"
      },
      "execution_count": 7,
      "outputs": [
        {
          "output_type": "stream",
          "name": "stdout",
          "text": [
            "tensor([[ 16,  24,  15,  ...,   3,   3,   3],\n",
            "        [112,  30,   6,  ...,   3,   3,   3],\n",
            "        [  4,  52,  33,  ...,   3,   3,   3],\n",
            "        ...,\n",
            "        [  4,   9,   6,  ...,   3,   3,   3],\n",
            "        [  4,   9,  13,  ...,   3,   3,   3],\n",
            "        [  4,  34, 268,  ...,   3,   3,   3]])\n",
            "tensor([[ 1, 18, 26,  ...,  3,  3,  3],\n",
            "        [ 1, 76, 30,  ...,  3,  3,  3],\n",
            "        [ 1,  5, 66,  ...,  3,  3,  3],\n",
            "        ...,\n",
            "        [ 1,  5, 13,  ...,  3,  3,  3],\n",
            "        [ 1,  5, 13,  ...,  3,  3,  3],\n",
            "        [ 1,  5, 26,  ...,  3,  3,  3]])\n"
          ]
        }
      ]
    },
    {
      "cell_type": "code",
      "source": [
        "import torch\n",
        "import torch.nn as nn\n",
        "import numpy as np\n",
        "import math\n",
        "from torch.autograd import Variable\n",
        "\n",
        "# Embedding the input sequence\n",
        "class Embedding(nn.Module):\n",
        "    def __init__(self, vocab_size, embedding_dim):\n",
        "        super(Embedding, self).__init__()\n",
        "        self.embedding = nn.Embedding(vocab_size, embedding_dim)\n",
        "\n",
        "    def forward(self, x):\n",
        "        return self.embedding(x)\n",
        "\n",
        "# The positional encoding vector\n",
        "class PositionalEncoder(nn.Module):\n",
        "    def __init__(self, embedding_dim, max_seq_length=512, dropout=0.1):\n",
        "        super(PositionalEncoder, self).__init__()\n",
        "        self.embedding_dim = embedding_dim\n",
        "        self.dropout = nn.Dropout(dropout)\n",
        "        pe = torch.zeros(max_seq_length, embedding_dim)\n",
        "        for pos in range(max_seq_length):\n",
        "            for i in range(0, embedding_dim, 2):\n",
        "                pe[pos, i] = math.sin(pos/(10000**(2*i/embedding_dim)))\n",
        "                pe[pos, i+1] = math.cos(pos/(10000**((2*i+1)/embedding_dim)))\n",
        "        pe = pe.unsqueeze(0)\n",
        "        self.register_buffer('pe', pe)\n",
        "\n",
        "    def forward(self, x):\n",
        "        x = x*math.sqrt(self.embedding_dim)\n",
        "        seq_length = x.size(1)\n",
        "        pe = Variable(self.pe[:, :seq_length], requires_grad=False).to(x.device)\n",
        "        # Add the positional encoding vector to the embedding vector\n",
        "        x = x + pe\n",
        "        x = self.dropout(x)\n",
        "        return x\n",
        "\n",
        "# Self-attention layer\n",
        "class SelfAttention(nn.Module):\n",
        "    ''' Scaled Dot-Product Attention '''\n",
        "\n",
        "    def __init__(self, dropout=0.1):\n",
        "        super(SelfAttention, self).__init__()\n",
        "        self.dropout = nn.Dropout(dropout)\n",
        "\n",
        "    def forward(self, query, key, value, mask=None):\n",
        "        key_dim = key.size(-1)\n",
        "        attn = torch.matmul(query / np.sqrt(key_dim), key.transpose(2, 3))\n",
        "        if mask is not None:\n",
        "            mask = mask.unsqueeze(1)\n",
        "            attn = attn.masked_fill(mask == 0, -1e9)\n",
        "        attn = self.dropout(torch.softmax(attn, dim=-1))\n",
        "        output = torch.matmul(attn, value)\n",
        "\n",
        "        return output\n",
        "\n",
        "# Multi-head attention layer\n",
        "class MultiHeadAttention(nn.Module):\n",
        "    def __init__(self, embedding_dim, num_heads, dropout=0.1):\n",
        "        super(MultiHeadAttention, self).__init__()\n",
        "        self.embedding_dim = embedding_dim\n",
        "        self.self_attention = SelfAttention(dropout)\n",
        "        # The number of heads\n",
        "        self.num_heads = num_heads\n",
        "        # The dimension of each head\n",
        "        self.dim_per_head = embedding_dim // num_heads\n",
        "        # The linear projections\n",
        "        self.query_projection = nn.Linear(embedding_dim, embedding_dim)\n",
        "        self.key_projection = nn.Linear(embedding_dim, embedding_dim)\n",
        "        self.value_projection = nn.Linear(embedding_dim, embedding_dim)\n",
        "        self.dropout = nn.Dropout(dropout)\n",
        "        self.out = nn.Linear(embedding_dim, embedding_dim)\n",
        "\n",
        "    def forward(self, query, key, value, mask=None):\n",
        "        # Apply the linear projections\n",
        "        batch_size = query.size(0)\n",
        "        query = self.query_projection(query)\n",
        "        key = self.key_projection(key)\n",
        "        value = self.value_projection(value)\n",
        "        # Reshape the input\n",
        "        query = query.view(batch_size, -1, self.num_heads, self.dim_per_head).transpose(1, 2)\n",
        "        key = key.view(batch_size, -1, self.num_heads, self.dim_per_head).transpose(1, 2)\n",
        "        value = value.view(batch_size, -1, self.num_heads, self.dim_per_head).transpose(1, 2)\n",
        "        # Calculate the attention\n",
        "        scores = self.self_attention(query, key, value, mask)\n",
        "        # Reshape the output\n",
        "        output = scores.transpose(1, 2).contiguous().view(batch_size, -1, self.embedding_dim)\n",
        "        # Apply the linear projection\n",
        "        output = self.out(output)\n",
        "        return output\n",
        "\n",
        "# Norm layer\n",
        "class Norm(nn.Module):\n",
        "    def __init__(self, embedding_dim):\n",
        "        super(Norm, self).__init__()\n",
        "        self.norm = nn.LayerNorm(embedding_dim)\n",
        "\n",
        "    def forward(self, x):\n",
        "        return self.norm(x)\n",
        "\n",
        "\n",
        "# Transformer encoder layer\n",
        "class EncoderLayer(nn.Module):\n",
        "    def __init__(self, embedding_dim, num_heads, ff_dim=2048, dropout=0.1):\n",
        "        super(EncoderLayer, self).__init__()\n",
        "        self.self_attention = MultiHeadAttention(embedding_dim, num_heads, dropout)\n",
        "        self.feed_forward = nn.Sequential(\n",
        "            nn.Linear(embedding_dim, ff_dim),\n",
        "            nn.ReLU(),\n",
        "            nn.Linear(ff_dim, embedding_dim)\n",
        "        )\n",
        "        self.dropout1 = nn.Dropout(dropout)\n",
        "        self.dropout2 = nn.Dropout(dropout)\n",
        "        self.norm1 = Norm(embedding_dim)\n",
        "        self.norm2 = Norm(embedding_dim)\n",
        "\n",
        "    def forward(self, x, mask=None):\n",
        "        x2 = self.norm1(x)\n",
        "        # Add and Muti-head attention\n",
        "        x = x + self.dropout1(self.self_attention(x2, x2, x2, mask))\n",
        "        x2 = self.norm2(x)\n",
        "        x = x + self.dropout2(self.feed_forward(x2))\n",
        "        return x\n",
        "\n",
        "# Transformer decoder layer\n",
        "class DecoderLayer(nn.Module):\n",
        "    def __init__(self, embedding_dim, num_heads, ff_dim=2048, dropout=0.1):\n",
        "        super(DecoderLayer, self).__init__()\n",
        "        self.self_attention = MultiHeadAttention(embedding_dim, num_heads, dropout)\n",
        "        self.encoder_attention = MultiHeadAttention(embedding_dim, num_heads, dropout)\n",
        "        self.feed_forward = nn.Sequential(\n",
        "            nn.Linear(embedding_dim, ff_dim),\n",
        "            nn.ReLU(),\n",
        "            nn.Linear(ff_dim, embedding_dim)\n",
        "        )\n",
        "        self.dropout1 = nn.Dropout(dropout)\n",
        "        self.dropout2 = nn.Dropout(dropout)\n",
        "        self.dropout3 = nn.Dropout(dropout)\n",
        "        self.norm1 = Norm(embedding_dim)\n",
        "        self.norm2 = Norm(embedding_dim)\n",
        "        self.norm3 = Norm(embedding_dim)\n",
        "\n",
        "    def forward(self, x, memory, source_mask, target_mask):\n",
        "        x2 = self.norm1(x)\n",
        "        x = x + self.dropout1(self.self_attention(x2, x2, x2, target_mask))\n",
        "        x2 = self.norm2(x)\n",
        "        x = x + self.dropout2(self.encoder_attention(x2, memory, memory, source_mask))\n",
        "        x2 = self.norm3(x)\n",
        "        x = x + self.dropout3(self.feed_forward(x2))\n",
        "        return x\n",
        "\n",
        "# Encoder transformer\n",
        "class Encoder(nn.Module):\n",
        "    def __init__(self, vocab_size, embedding_dim, max_seq_len, num_heads, num_layers, dropout=0.1):\n",
        "        super(Encoder, self).__init__()\n",
        "        self.embedding = nn.Embedding(vocab_size, embedding_dim)\n",
        "        self.num_layers = num_layers\n",
        "        self.num_heads = num_heads\n",
        "        self.embedding_dim = embedding_dim\n",
        "        self.layers = nn.ModuleList([EncoderLayer(embedding_dim, num_heads, 2048, dropout) for _ in range(num_layers)])\n",
        "        self.norm = Norm(embedding_dim)\n",
        "        self.position_embedding = PositionalEncoder(embedding_dim, max_seq_len, dropout)\n",
        "\n",
        "    encoder_output=[]\n",
        "    def forward(self, source, source_mask):\n",
        "        self.encoder_output=[]\n",
        "        # Embed the source\n",
        "        x = self.embedding(source)\n",
        "        # Add the position embeddings\n",
        "        x = self.position_embedding(x)\n",
        "        # Propagate through the layers\n",
        "        for layer in self.layers:\n",
        "            x = layer(x, source_mask)\n",
        "            self.encoder_output.append(x)\n",
        "        # Normalize\n",
        "        x = self.norm(x)\n",
        "        return x\n",
        "\n",
        "# Decoder transformer\n",
        "class Decoder(nn.Module):\n",
        "    def __init__(self, vocab_size, embedding_dim, max_seq_len,num_heads, num_layers, dropout=0.1):\n",
        "        super(Decoder, self).__init__()\n",
        "        self.embedding = nn.Embedding(vocab_size, embedding_dim)\n",
        "        self.num_layers = num_layers\n",
        "        self.num_heads = num_heads\n",
        "        self.embedding_dim = embedding_dim\n",
        "        self.layers = nn.ModuleList([DecoderLayer(embedding_dim, num_heads, 2048, dropout) for _ in range(num_layers)])\n",
        "        self.norm = Norm(embedding_dim)\n",
        "        self.position_embedding = PositionalEncoder(embedding_dim, max_seq_len, dropout)\n",
        "\n",
        "    def forward(self, target, memory, source_mask, target_mask):\n",
        "        # Embed the source\n",
        "        x = self.embedding(target)\n",
        "        # Add the position embeddings\n",
        "        x = self.position_embedding(x)\n",
        "        # Propagate through the layers\n",
        "        for layer in self.layers:\n",
        "            x = layer(x, memory, source_mask, target_mask)\n",
        "        # Normalize\n",
        "        x = self.norm(x)\n",
        "        return x\n",
        "\n",
        "\n",
        "# Transformers\n",
        "class Transformer(nn.Module):\n",
        "    def __init__(self, source_vocab_size, target_vocab_size, source_max_seq_len, target_max_seq_len, embedding_dim, num_heads, num_layers, dropout=0.1):\n",
        "        super(Transformer, self).__init__()\n",
        "        self.source_vocab_size = source_vocab_size\n",
        "        self.target_vocab_size = target_vocab_size\n",
        "        self.source_max_seq_len = source_max_seq_len\n",
        "        self.target_max_seq_len = target_max_seq_len\n",
        "        self.embedding_dim = embedding_dim\n",
        "        self.num_heads = num_heads\n",
        "        self.num_layers = num_layers\n",
        "        self.dropout = dropout\n",
        "\n",
        "        self.encoder = Encoder(source_vocab_size, embedding_dim, source_max_seq_len, num_heads, num_layers, dropout)\n",
        "        self.decoder = Decoder(target_vocab_size, embedding_dim, target_max_seq_len, num_heads, num_layers, dropout)\n",
        "        self.final_linear = nn.Linear(embedding_dim, target_vocab_size)\n",
        "        self.dropout = nn.Dropout(dropout)\n",
        "\n",
        "    def forward(self, source, target, source_mask, target_mask):\n",
        "        # Encoder forward pass\n",
        "        memory = self.encoder(source, source_mask)\n",
        "        for s in self.encoder.encoder_output:\n",
        "        # Decoder forward pass\n",
        "         output = self.decoder(target, s, source_mask, target_mask)\n",
        "        # Final linear layer\n",
        "        output = self.dropout(output)\n",
        "        output = self.final_linear(output)\n",
        "        return output\n",
        "\n",
        "    def make_source_mask(self, source_ids, source_pad_id):\n",
        "        return (source_ids != source_pad_id).unsqueeze(-2)\n",
        "\n",
        "    def make_target_mask(self, target_ids):\n",
        "        batch_size, len_target = target_ids.size()\n",
        "        subsequent_mask = (1 - torch.triu(torch.ones((1, len_target, len_target), device=target_ids.device), diagonal=1)).bool()\n",
        "        return subsequent_mask"
      ],
      "metadata": {
        "id": "SUMOgOPqGMvi"
      },
      "execution_count": 4,
      "outputs": []
    },
    {
      "cell_type": "code",
      "source": [
        "import torch\n",
        "import torch.nn as nn\n",
        "import time\n",
        "import torch.nn.functional as F\n",
        "from transformers import AutoTokenizer\n",
        "from tqdm import tqdm\n",
        "import numpy as np\n",
        "from datetime import datetime, timedelta\n",
        "import json\n",
        "import os\n",
        "os.environ[\"TOKENIZERS_PARALLELISM\"] = \"false\"\n",
        "\n",
        "\n",
        "\n",
        "\n",
        "\n",
        "def read_data(source_file, target_file):\n",
        "    source_data = open(source_file).read().strip().split(\"\\n\")\n",
        "    target_data = open(target_file).read().strip().split(\"\\n\")\n",
        "    return source_data, target_data\n",
        "\n",
        "\n",
        "def validate_epoch(model, valid_loader, epoch, n_epochs, source_pad_id, target_pad_id, device):\n",
        "    model.eval()\n",
        "    total_loss = []\n",
        "    bar = tqdm(enumerate(valid_loader), total=len(valid_loader), desc=f\"Validating epoch {epoch+1}/{n_epochs}\")\n",
        "    for i, batch in bar:\n",
        "        source, target = batch[\"source_ids\"].to(device), batch[\"target_ids\"].to(device)\n",
        "        target_input = target[:, :-1]\n",
        "        source_mask, target_mask = model.make_source_mask(source, source_pad_id), model.make_target_mask(target_input)\n",
        "        preds = model(source, target_input, source_mask, target_mask)\n",
        "        gold = target[:, 1:].contiguous().view(-1)\n",
        "        loss = F.cross_entropy(preds.view(-1, preds.size(-1)), gold, ignore_index=target_pad_id)\n",
        "        total_loss.append(loss.item())\n",
        "        bar.set_postfix(loss=total_loss[-1])\n",
        "\n",
        "    valid_loss = sum(total_loss) / len(total_loss)\n",
        "    return valid_loss, total_loss\n",
        "\n",
        "\n",
        "def train_epoch(model, train_loader, optim, epoch, n_epochs, source_pad_id, target_pad_id, device):\n",
        "    model.train()\n",
        "    total_loss = []\n",
        "    bar = tqdm(enumerate(train_loader), total=len(train_loader), desc=f\"Training epoch {epoch+1}/{n_epochs}\")\n",
        "    for i, batch in bar:\n",
        "        source, target = batch[\"source_ids\"].to(device), batch[\"target_ids\"].to(device)\n",
        "        target_input = target[:, :-1]\n",
        "        source_mask, target_mask = model.make_source_mask(source, source_pad_id), model.make_target_mask(target_input)\n",
        "        preds = model(source, target_input, source_mask, target_mask)\n",
        "        optim.zero_grad()\n",
        "        gold = target[:, 1:].contiguous().view(-1)\n",
        "        loss = F.cross_entropy(preds.view(-1, preds.size(-1)), gold, ignore_index=target_pad_id)\n",
        "        loss.backward()\n",
        "        optim.step()\n",
        "        total_loss.append(loss.item())\n",
        "        bar.set_postfix(loss=total_loss[-1])\n",
        "\n",
        "    train_loss = sum(total_loss) / len(total_loss)\n",
        "    return train_loss, total_loss\n",
        "\n",
        "\n",
        "def train(model, train_loader, valid_loader, optim, n_epochs, source_pad_id, target_pad_id, device, model_path, early_stopping):\n",
        "    log_dir = \"./logs\"\n",
        "    if not os.path.exists(log_dir):\n",
        "        os.makedirs(log_dir)\n",
        "\n",
        "    best_val_loss = np.Inf\n",
        "    best_epoch = 1\n",
        "    count_early_stop = 0\n",
        "    log = {\"train_loss\": [], \"valid_loss\": [], \"train_batch_loss\": [], \"valid_batch_loss\": []}\n",
        "    for epoch in range(n_epochs):\n",
        "        train_loss, train_losses = train_epoch(\n",
        "            model=model,\n",
        "            train_loader=train_loader,\n",
        "            optim=optim,\n",
        "            epoch=epoch,\n",
        "            n_epochs=n_epochs,\n",
        "            source_pad_id=source_pad_id,\n",
        "            target_pad_id=target_pad_id,\n",
        "            device=device\n",
        "        )\n",
        "        valid_loss, valid_losses = validate_epoch(\n",
        "            model=model,\n",
        "            valid_loader=valid_loader,\n",
        "            epoch=epoch,\n",
        "            n_epochs=n_epochs,\n",
        "            source_pad_id=source_pad_id,\n",
        "            target_pad_id=target_pad_id,\n",
        "            device=device\n",
        "        )\n",
        "\n",
        "        if valid_loss < best_val_loss:\n",
        "            best_val_loss = valid_loss\n",
        "            best_epoch = epoch + 1\n",
        "            # save model\n",
        "            torch.save(model.state_dict(), model_path)\n",
        "            print(\"---- Detect improment and save the best model ----\")\n",
        "            count_early_stop = 0\n",
        "        else:\n",
        "            count_early_stop += 1\n",
        "            if count_early_stop >= early_stopping:\n",
        "                print(\"---- Early stopping ----\")\n",
        "                break\n",
        "\n",
        "        torch.cuda.empty_cache()\n",
        "\n",
        "        log[\"train_loss\"].append(train_loss)\n",
        "        log[\"valid_loss\"].append(valid_loss)\n",
        "        log[\"train_batch_loss\"].extend(train_losses)\n",
        "        log[\"valid_batch_loss\"].extend(valid_losses)\n",
        "        log[\"best_epoch\"] = best_epoch\n",
        "        log[\"best_val_loss\"] = best_val_loss\n",
        "        log[\"last_epoch\"] = epoch + 1\n",
        "\n",
        "        with open(os.path.join(log_dir, \"log.json\"), \"w\") as f:\n",
        "            json.dump(log, f)\n",
        "\n",
        "        print(f\"---- Epoch {epoch+1}/{n_epochs} | Train loss: {train_loss:.4f} | Valid loss: {valid_loss:.4f} | Best Valid loss: {best_val_loss:.4f} | Best epoch: {best_epoch}\")\n",
        "\n",
        "    return log\n",
        "\n",
        "\n",
        "def main():\n",
        "    train_src_data, train_trg_data = read_data(configs[\"train_source_data\"], configs[\"train_target_data\"])\n",
        "    valid_src_data, valid_trg_data = read_data(configs[\"valid_source_data\"], configs[\"valid_target_data\"])\n",
        "    source_tokenizer = en_tokenizer\n",
        "    target_tokenizer = de_tokenizer\n",
        "\n",
        "    model = Transformer(\n",
        "        source_vocab_size=10000,\n",
        "        target_vocab_size=10000,\n",
        "        embedding_dim=configs[\"embedding_dim\"],\n",
        "        source_max_seq_len=configs[\"source_max_seq_len\"],\n",
        "        target_max_seq_len=configs[\"target_max_seq_len\"],\n",
        "        num_layers=configs[\"n_layers\"],\n",
        "        num_heads=configs[\"n_heads\"],\n",
        "        dropout=configs[\"dropout\"]\n",
        "    )\n",
        "\n",
        "    for p in model.parameters():\n",
        "        if p.dim() > 1:\n",
        "            nn.init.xavier_uniform_(p)\n",
        "\n",
        "    optim = torch.optim.Adam(model.parameters(), lr=configs[\"lr\"], betas=(0.9, 0.98), eps=1e-9)\n",
        "\n",
        "    train_dataset = TrainTranslateDataset(\n",
        "        source_tokenizer=source_tokenizer,\n",
        "        target_tokenizer=target_tokenizer,\n",
        "        source_max_seq_len=configs[\"source_max_seq_len\"],\n",
        "        target_max_seq_len=configs[\"target_max_seq_len\"],\n",
        "    )\n",
        "    valid_dataset = ValidTranslateDataset(\n",
        "        source_tokenizer=source_tokenizer,\n",
        "        target_tokenizer=target_tokenizer,\n",
        "        source_max_seq_len=configs[\"source_max_seq_len\"],\n",
        "        target_max_seq_len=configs[\"target_max_seq_len\"],\n",
        "    )\n",
        "\n",
        "    device = torch.device(configs[\"device\"])\n",
        "    train_loader = torch.utils.data.DataLoader(\n",
        "        train_dataset,\n",
        "        batch_size=configs[\"batch_size\"],\n",
        "        shuffle=True\n",
        "    )\n",
        "    valid_loader = torch.utils.data.DataLoader(\n",
        "        valid_dataset,\n",
        "        batch_size=configs[\"batch_size\"],\n",
        "        shuffle=False\n",
        "    )\n",
        "\n",
        "    model.to(configs[\"device\"])\n",
        "    train(model=model,\n",
        "        train_loader=train_loader,\n",
        "        valid_loader=valid_loader,\n",
        "        optim=optim,\n",
        "        n_epochs=configs[\"n_epochs\"],\n",
        "        source_pad_id=pad_token_id,\n",
        "        target_pad_id=pad_token_id,\n",
        "        device=device,\n",
        "        model_path=configs[\"model_path\"],\n",
        "        early_stopping=configs[\"early_stopping\"]\n",
        "    )\n",
        "\n",
        "    plot_loss(log_path=\"./logs/log.json\", log_dir=\"./logs\")\n",
        "\n",
        "if __name__ == \"__main__\":\n",
        "    main()"
      ],
      "metadata": {
        "colab": {
          "base_uri": "https://localhost:8080/",
          "height": 1000
        },
        "id": "OoAM9GNUGPtX",
        "outputId": "50d2fa9d-7912-469e-a0d5-e1925dd29687"
      },
      "execution_count": 9,
      "outputs": [
        {
          "metadata": {
            "tags": null
          },
          "name": "stderr",
          "output_type": "stream",
          "text": [
            "Training epoch 1/100: 100%|██████████| 580/580 [06:12<00:00,  1.56it/s, loss=3.64]\n",
            "Validating epoch 1/100: 100%|██████████| 21/21 [00:08<00:00,  2.54it/s, loss=3.3]\n"
          ]
        },
        {
          "metadata": {
            "tags": null
          },
          "name": "stdout",
          "output_type": "stream",
          "text": [
            "---- Detect improment and save the best model ----\n",
            "---- Epoch 1/100 | Train loss: 4.5613 | Valid loss: 3.3930 | Best Valid loss: 3.3930 | Best epoch: 1\n"
          ]
        },
        {
          "metadata": {
            "tags": null
          },
          "name": "stderr",
          "output_type": "stream",
          "text": [
            "Training epoch 2/100: 100%|██████████| 580/580 [06:11<00:00,  1.56it/s, loss=2.96]\n",
            "Validating epoch 2/100: 100%|██████████| 21/21 [00:08<00:00,  2.54it/s, loss=2.5]\n"
          ]
        },
        {
          "metadata": {
            "tags": null
          },
          "name": "stdout",
          "output_type": "stream",
          "text": [
            "---- Detect improment and save the best model ----\n",
            "---- Epoch 2/100 | Train loss: 3.2298 | Valid loss: 2.6982 | Best Valid loss: 2.6982 | Best epoch: 2\n"
          ]
        },
        {
          "output_type": "stream",
          "name": "stderr",
          "text": [
            "Training epoch 3/100: 100%|██████████| 580/580 [06:11<00:00,  1.56it/s, loss=2.64]\n",
            "Validating epoch 3/100: 100%|██████████| 21/21 [00:08<00:00,  2.54it/s, loss=2.07]\n"
          ]
        },
        {
          "output_type": "stream",
          "name": "stdout",
          "text": [
            "---- Detect improment and save the best model ----\n",
            "---- Epoch 3/100 | Train loss: 2.7077 | Valid loss: 2.3228 | Best Valid loss: 2.3228 | Best epoch: 3\n"
          ]
        },
        {
          "output_type": "stream",
          "name": "stderr",
          "text": [
            "Training epoch 4/100: 100%|██████████| 580/580 [06:11<00:00,  1.56it/s, loss=2.2]\n",
            "Validating epoch 4/100: 100%|██████████| 21/21 [00:08<00:00,  2.54it/s, loss=1.87]\n"
          ]
        },
        {
          "output_type": "stream",
          "name": "stdout",
          "text": [
            "---- Detect improment and save the best model ----\n",
            "---- Epoch 4/100 | Train loss: 2.3729 | Valid loss: 2.0863 | Best Valid loss: 2.0863 | Best epoch: 4\n"
          ]
        },
        {
          "output_type": "stream",
          "name": "stderr",
          "text": [
            "Training epoch 5/100: 100%|██████████| 580/580 [06:11<00:00,  1.56it/s, loss=2.25]\n",
            "Validating epoch 5/100: 100%|██████████| 21/21 [00:08<00:00,  2.54it/s, loss=1.75]\n"
          ]
        },
        {
          "output_type": "stream",
          "name": "stdout",
          "text": [
            "---- Detect improment and save the best model ----\n",
            "---- Epoch 5/100 | Train loss: 2.1344 | Valid loss: 1.9191 | Best Valid loss: 1.9191 | Best epoch: 5\n"
          ]
        },
        {
          "output_type": "stream",
          "name": "stderr",
          "text": [
            "Training epoch 6/100: 100%|██████████| 580/580 [06:11<00:00,  1.56it/s, loss=1.82]\n",
            "Validating epoch 6/100: 100%|██████████| 21/21 [00:08<00:00,  2.54it/s, loss=1.62]\n"
          ]
        },
        {
          "output_type": "stream",
          "name": "stdout",
          "text": [
            "---- Detect improment and save the best model ----\n",
            "---- Epoch 6/100 | Train loss: 1.9548 | Valid loss: 1.8065 | Best Valid loss: 1.8065 | Best epoch: 6\n"
          ]
        },
        {
          "output_type": "stream",
          "name": "stderr",
          "text": [
            "Training epoch 7/100: 100%|██████████| 580/580 [06:11<00:00,  1.56it/s, loss=1.67]\n",
            "Validating epoch 7/100: 100%|██████████| 21/21 [00:08<00:00,  2.54it/s, loss=1.5]\n"
          ]
        },
        {
          "output_type": "stream",
          "name": "stdout",
          "text": [
            "---- Detect improment and save the best model ----\n",
            "---- Epoch 7/100 | Train loss: 1.8079 | Valid loss: 1.7237 | Best Valid loss: 1.7237 | Best epoch: 7\n"
          ]
        },
        {
          "output_type": "stream",
          "name": "stderr",
          "text": [
            "Training epoch 8/100: 100%|██████████| 580/580 [06:11<00:00,  1.56it/s, loss=1.82]\n",
            "Validating epoch 8/100: 100%|██████████| 21/21 [00:08<00:00,  2.54it/s, loss=1.49]\n"
          ]
        },
        {
          "output_type": "stream",
          "name": "stdout",
          "text": [
            "---- Detect improment and save the best model ----\n",
            "---- Epoch 8/100 | Train loss: 1.6883 | Valid loss: 1.6597 | Best Valid loss: 1.6597 | Best epoch: 8\n"
          ]
        },
        {
          "output_type": "stream",
          "name": "stderr",
          "text": [
            "Training epoch 9/100: 100%|██████████| 580/580 [06:11<00:00,  1.56it/s, loss=1.62]\n",
            "Validating epoch 9/100: 100%|██████████| 21/21 [00:08<00:00,  2.54it/s, loss=1.44]\n"
          ]
        },
        {
          "output_type": "stream",
          "name": "stdout",
          "text": [
            "---- Detect improment and save the best model ----\n",
            "---- Epoch 9/100 | Train loss: 1.5847 | Valid loss: 1.6106 | Best Valid loss: 1.6106 | Best epoch: 9\n"
          ]
        },
        {
          "output_type": "stream",
          "name": "stderr",
          "text": [
            "Training epoch 10/100: 100%|██████████| 580/580 [06:11<00:00,  1.56it/s, loss=1.36]\n",
            "Validating epoch 10/100: 100%|██████████| 21/21 [00:08<00:00,  2.53it/s, loss=1.39]\n"
          ]
        },
        {
          "output_type": "stream",
          "name": "stdout",
          "text": [
            "---- Detect improment and save the best model ----\n",
            "---- Epoch 10/100 | Train loss: 1.4947 | Valid loss: 1.5999 | Best Valid loss: 1.5999 | Best epoch: 10\n"
          ]
        },
        {
          "output_type": "stream",
          "name": "stderr",
          "text": [
            "Training epoch 11/100: 100%|██████████| 580/580 [06:11<00:00,  1.56it/s, loss=1.45]\n",
            "Validating epoch 11/100: 100%|██████████| 21/21 [00:08<00:00,  2.53it/s, loss=1.34]\n"
          ]
        },
        {
          "output_type": "stream",
          "name": "stdout",
          "text": [
            "---- Detect improment and save the best model ----\n",
            "---- Epoch 11/100 | Train loss: 1.4162 | Valid loss: 1.5582 | Best Valid loss: 1.5582 | Best epoch: 11\n"
          ]
        },
        {
          "output_type": "stream",
          "name": "stderr",
          "text": [
            "Training epoch 12/100: 100%|██████████| 580/580 [06:11<00:00,  1.56it/s, loss=1.43]\n",
            "Validating epoch 12/100: 100%|██████████| 21/21 [00:08<00:00,  2.54it/s, loss=1.35]\n"
          ]
        },
        {
          "output_type": "stream",
          "name": "stdout",
          "text": [
            "---- Detect improment and save the best model ----\n",
            "---- Epoch 12/100 | Train loss: 1.3443 | Valid loss: 1.5353 | Best Valid loss: 1.5353 | Best epoch: 12\n"
          ]
        },
        {
          "output_type": "stream",
          "name": "stderr",
          "text": [
            "Training epoch 13/100: 100%|██████████| 580/580 [06:11<00:00,  1.56it/s, loss=1.24]\n",
            "Validating epoch 13/100: 100%|██████████| 21/21 [00:08<00:00,  2.54it/s, loss=1.31]\n"
          ]
        },
        {
          "output_type": "stream",
          "name": "stdout",
          "text": [
            "---- Detect improment and save the best model ----\n",
            "---- Epoch 13/100 | Train loss: 1.2788 | Valid loss: 1.5211 | Best Valid loss: 1.5211 | Best epoch: 13\n"
          ]
        },
        {
          "output_type": "stream",
          "name": "stderr",
          "text": [
            "Training epoch 14/100: 100%|██████████| 580/580 [06:11<00:00,  1.56it/s, loss=1.28]\n",
            "Validating epoch 14/100: 100%|██████████| 21/21 [00:08<00:00,  2.54it/s, loss=1.3]\n"
          ]
        },
        {
          "output_type": "stream",
          "name": "stdout",
          "text": [
            "---- Detect improment and save the best model ----\n",
            "---- Epoch 14/100 | Train loss: 1.2167 | Valid loss: 1.4991 | Best Valid loss: 1.4991 | Best epoch: 14\n"
          ]
        },
        {
          "output_type": "stream",
          "name": "stderr",
          "text": [
            "Training epoch 15/100: 100%|██████████| 580/580 [06:11<00:00,  1.56it/s, loss=1.04]\n",
            "Validating epoch 15/100: 100%|██████████| 21/21 [00:08<00:00,  2.54it/s, loss=1.29]\n"
          ]
        },
        {
          "output_type": "stream",
          "name": "stdout",
          "text": [
            "---- Epoch 15/100 | Train loss: 1.1626 | Valid loss: 1.5219 | Best Valid loss: 1.4991 | Best epoch: 14\n"
          ]
        },
        {
          "output_type": "stream",
          "name": "stderr",
          "text": [
            "Training epoch 16/100: 100%|██████████| 580/580 [06:11<00:00,  1.56it/s, loss=1.17]\n",
            "Validating epoch 16/100: 100%|██████████| 21/21 [00:08<00:00,  2.53it/s, loss=1.32]\n"
          ]
        },
        {
          "output_type": "stream",
          "name": "stdout",
          "text": [
            "---- Epoch 16/100 | Train loss: 1.1102 | Valid loss: 1.5079 | Best Valid loss: 1.4991 | Best epoch: 14\n"
          ]
        },
        {
          "output_type": "stream",
          "name": "stderr",
          "text": [
            "Training epoch 17/100: 100%|██████████| 580/580 [06:11<00:00,  1.56it/s, loss=1.08]\n",
            "Validating epoch 17/100: 100%|██████████| 21/21 [00:08<00:00,  2.54it/s, loss=1.29]\n"
          ]
        },
        {
          "output_type": "stream",
          "name": "stdout",
          "text": [
            "---- Detect improment and save the best model ----\n",
            "---- Epoch 17/100 | Train loss: 1.0603 | Valid loss: 1.4927 | Best Valid loss: 1.4927 | Best epoch: 17\n"
          ]
        },
        {
          "output_type": "stream",
          "name": "stderr",
          "text": [
            "Training epoch 18/100: 100%|██████████| 580/580 [06:11<00:00,  1.56it/s, loss=1.23]\n",
            "Validating epoch 18/100: 100%|██████████| 21/21 [00:08<00:00,  2.54it/s, loss=1.32]\n"
          ]
        },
        {
          "output_type": "stream",
          "name": "stdout",
          "text": [
            "---- Epoch 18/100 | Train loss: 1.0117 | Valid loss: 1.5144 | Best Valid loss: 1.4927 | Best epoch: 17\n"
          ]
        },
        {
          "output_type": "stream",
          "name": "stderr",
          "text": [
            "Training epoch 19/100: 100%|██████████| 580/580 [06:11<00:00,  1.56it/s, loss=0.956]\n",
            "Validating epoch 19/100: 100%|██████████| 21/21 [00:08<00:00,  2.54it/s, loss=1.28]\n"
          ]
        },
        {
          "output_type": "stream",
          "name": "stdout",
          "text": [
            "---- Epoch 19/100 | Train loss: 0.9676 | Valid loss: 1.5264 | Best Valid loss: 1.4927 | Best epoch: 17\n"
          ]
        },
        {
          "output_type": "stream",
          "name": "stderr",
          "text": [
            "Training epoch 20/100: 100%|██████████| 580/580 [06:11<00:00,  1.56it/s, loss=0.953]\n",
            "Validating epoch 20/100: 100%|██████████| 21/21 [00:08<00:00,  2.53it/s, loss=1.29]\n"
          ]
        },
        {
          "output_type": "stream",
          "name": "stdout",
          "text": [
            "---- Epoch 20/100 | Train loss: 0.9254 | Valid loss: 1.5428 | Best Valid loss: 1.4927 | Best epoch: 17\n"
          ]
        },
        {
          "output_type": "stream",
          "name": "stderr",
          "text": [
            "Training epoch 21/100: 100%|██████████| 580/580 [06:11<00:00,  1.56it/s, loss=0.899]\n",
            "Validating epoch 21/100: 100%|██████████| 21/21 [00:08<00:00,  2.54it/s, loss=1.41]\n"
          ]
        },
        {
          "output_type": "stream",
          "name": "stdout",
          "text": [
            "---- Epoch 21/100 | Train loss: 0.8806 | Valid loss: 1.5447 | Best Valid loss: 1.4927 | Best epoch: 17\n"
          ]
        },
        {
          "output_type": "stream",
          "name": "stderr",
          "text": [
            "Training epoch 22/100: 100%|██████████| 580/580 [06:11<00:00,  1.56it/s, loss=0.936]\n",
            "Validating epoch 22/100: 100%|██████████| 21/21 [00:08<00:00,  2.53it/s, loss=1.38]\n"
          ]
        },
        {
          "output_type": "stream",
          "name": "stdout",
          "text": [
            "---- Early stopping ----\n"
          ]
        },
        {
          "output_type": "display_data",
          "data": {
            "text/plain": [
              "<Figure size 640x480 with 1 Axes>"
            ],
            "image/png": "[encoded data removed]"
          },
          "metadata": {}
        },
        {
          "output_type": "display_data",
          "data": {
            "text/plain": [
              "<Figure size 640x480 with 1 Axes>"
            ],
            "image/png": "[encoded data removed]"
          },
          "metadata": {}
        }
      ]
    },
    {
      "cell_type": "code",
      "source": [
        "import torch\n",
        "import torch.nn as nn\n",
        "import torch.nn.functional as F\n",
        "import time\n",
        "import re\n",
        "import json\n",
        "from tqdm import tqdm\n",
        "from torchtext.data.metrics import bleu_score\n",
        "\n",
        "\n",
        "from nltk.translate.bleu_score import corpus_bleu, sentence_bleu\n",
        "\n",
        "from nltk.translate.bleu_score import SmoothingFunction\n",
        "smoothie = SmoothingFunction()\n",
        "\n",
        "def tgt_decode(ids):\n",
        "        sentence = list(map(lambda x: de_id2token[x], ids))[1:-1]\n",
        "        return \" \".join(sentence)\n",
        "\n",
        "\n",
        "def load_model_tokenizer(configs):\n",
        "    \"\"\"\n",
        "    This function will load model and tokenizer from pretrained model and tokenizer\n",
        "    \"\"\"\n",
        "    device = torch.device(configs[\"device\"])\n",
        "    source_tokenizer = en_tokenizer\n",
        "    target_tokenizer = de_tokenizer\n",
        "\n",
        "    # Load model Transformer\n",
        "    model = Transformer(\n",
        "        source_vocab_size=10000,\n",
        "        target_vocab_size=10000,\n",
        "        embedding_dim=configs[\"embedding_dim\"],\n",
        "        source_max_seq_len=configs[\"source_max_seq_len\"],\n",
        "        target_max_seq_len=configs[\"target_max_seq_len\"],\n",
        "        num_layers=configs[\"n_layers\"],\n",
        "        num_heads=configs[\"n_heads\"],\n",
        "        dropout=configs[\"dropout\"]\n",
        "    )\n",
        "    model.load_state_dict(torch.load(configs[\"model_path\"],map_location=torch.device('cpu')))\n",
        "    model.eval()\n",
        "    model.to(device)\n",
        "    print(f\"Done load model on the {device} device\")\n",
        "    return model, source_tokenizer, target_tokenizer\n",
        "\n",
        "def test_pad_features(pad_id, s):\n",
        "     for i in range(len(s)):\n",
        "      src_padding = np.full(256-len(s), pad_id, dtype=int)\n",
        "      src_features= s.extend(src_padding)\n",
        "     return s\n",
        "\n",
        "test_source_data, test_target_data = read_data(configs[\"test_source_data\"], configs[\"test_target_data\"])\n",
        "\n",
        "\n",
        "def translate(model, sentence, source_tokenizer, target_tokenizer, source_max_seq_len=256,\n",
        "    target_max_seq_len=256, beam_size=3, device=torch.device(\"cpu\"), print_process=False):\n",
        "    \"\"\"\n",
        "    This funciton will translate give a source sentence and return target sentence using beam search\n",
        "    \"\"\"\n",
        "    source_tensor = torch.tensor(sentence).unsqueeze(0).to(device)\n",
        "    # Create source sentence mask\n",
        "    source_mask = model.make_source_mask(source_tensor, pad_token_id).to(device)\n",
        "    # Feed forward Encoder\n",
        "    encoder_output = model.encoder.forward(source_tensor, source_mask)\n",
        "    # Initialize beam list\n",
        "    beams = [([sos_token_id], 0)]\n",
        "    completed = []\n",
        "\n",
        "    # Start decoding\n",
        "    for _ in range(target_max_seq_len):\n",
        "        new_beams = []\n",
        "        for beam in beams:\n",
        "            # Get input token\n",
        "            input_token = torch.tensor([beam[0]]).to(device)\n",
        "            # Create mask\n",
        "            target_mask = model.make_target_mask(input_token).to(device)\n",
        "            # Decoder forward pass\n",
        "            pred = model.decoder.forward(input_token, encoder_output, source_mask, target_mask)\n",
        "            # Forward to linear classify token in vocab and Softmax\n",
        "            pred = F.softmax(model.final_linear(pred), dim=-1)\n",
        "            # Get tail predict token\n",
        "            pred = pred[:, -1, :].view(-1)\n",
        "            # Get top k tokens\n",
        "            top_k_scores, top_k_tokens = pred.topk(beam_size)\n",
        "            # Update beams\n",
        "            for i in range(beam_size):\n",
        "                new_beams.append((beam[0] + [top_k_tokens[i].item()], beam[1] + top_k_scores[i].item()))\n",
        "\n",
        "        import copy\n",
        "        beams = copy.deepcopy(new_beams)\n",
        "        # Sort beams by score\n",
        "        beams = sorted(beams, key=lambda x: x[1], reverse=True)[:beam_size]\n",
        "        # Add completed beams to completed list and reduce beam size\n",
        "        for beam in beams:\n",
        "            if beam[0][-1] == eos_token_id:\n",
        "                completed.append(beam)\n",
        "                beams.remove(beam)\n",
        "                beam_size -= 1\n",
        "\n",
        "        if beam_size == 0:\n",
        "            break\n",
        "\n",
        "\n",
        "    # Sort the completed beams\n",
        "    completed.sort(key=lambda x: x[1], reverse=True)\n",
        "    # Get target sentence tokens\n",
        "    target_tokens = completed[0][0]\n",
        "    # Convert target sentence from tokens to string\n",
        "    target_sentence = tgt_decode(target_tokens)\n",
        "\n",
        "    return target_sentence\n",
        "\n",
        "\n",
        "def preprocess_seq(seq):\n",
        "        seq = re.sub(\n",
        "        r\"[\\*\\\"“”\\n\\\\…\\+\\-\\/\\=\\(\\)‘•:\\[\\]\\|’\\!;]\", \" \", str(seq))\n",
        "        seq = re.sub(r\"[ ]+\", \" \", seq)\n",
        "        seq = re.sub(r\"\\!+\", \"!\", seq)\n",
        "        seq = re.sub(r\"\\,+\", \",\", seq)\n",
        "        seq = re.sub(r\"\\?+\", \"?\", seq)\n",
        "        seq = seq.lower()\n",
        "        return seq\n",
        "\n",
        "def calculate_bleu_score(model, source_tokenizer, target_tokenizer, configs):\n",
        "    device = torch.device(configs[\"device\"])\n",
        "    valid_src_data, valid_trg_data = read_data(configs[\"test_source_data\"], configs[\"test_target_data\"])\n",
        "\n",
        "    pred_sents = []\n",
        "\n",
        "    hypotheses=[]\n",
        "    for sentence in tqdm(valid_src_data):\n",
        "      preprocessed=preprocess_seq(sentence)\n",
        "      pred_sents.append(preprocessed)\n",
        "      for en in pred_sents:\n",
        "        source_before_padding=src_encode(en)\n",
        "      source_after_padding=test_pad_features(pad_token_id,source_before_padding)\n",
        "\n",
        "      pred_trg = translate(model, source_after_padding, source_tokenizer, target_tokenizer, configs[\"source_max_seq_len\"], configs[\"target_max_seq_len\"], configs[\"beam_size\"], device)\n",
        "      hypotheses.append(pred_trg)\n",
        "\n",
        "    references=[[preprocess_seq(sent).split()] for sent in valid_trg_data]\n",
        "    hypothesis=[sent.split() for sent in hypotheses]\n",
        "    print(references)\n",
        "    print(hypothesis)\n",
        "    bleu_score=corpus_bleu(references, hypothesis, weights=(0.25,0.25,0.25,0.25))\n",
        "    print(bleu_score)\n",
        "\n",
        "\n",
        "\n",
        "def main():\n",
        "    model, source_tokenizer, target_tokenizer = load_model_tokenizer(configs)\n",
        "    bleus = calculate_bleu_score(model, source_tokenizer, target_tokenizer, configs)\n",
        "\n",
        "if __name__ == \"__main__\":\n",
        "    main()"
      ],
      "metadata": {
        "colab": {
          "base_uri": "https://localhost:8080/"
        },
        "id": "JS8xHRPAHJFz",
        "outputId": "c1126463-c562-4035-b71f-ec4dbe31f63d"
      },
      "execution_count": 21,
      "outputs": [
        {
          "output_type": "stream",
          "name": "stdout",
          "text": [
            "Done load model on the cuda:0 device\n"
          ]
        },
        {
          "output_type": "stream",
          "name": "stderr",
          "text": [
            "100%|██████████| 30/30 [00:13<00:00,  2.15it/s]"
          ]
        },
        {
          "output_type": "stream",
          "name": "stdout",
          "text": [
            "[[['ein', 'mann', 'mit', 'einem', 'orangefarbenen', 'hut,', 'der', 'etwas', 'anstarrt.']], [['ein', 'boston', 'terrier', 'läuft', 'über', 'saftig', 'grünes', 'gras', 'vor', 'einem', 'weißen', 'zaun.']], [['ein', 'mädchen', 'in', 'einem', 'karateanzug', 'bricht', 'ein', 'brett', 'mit', 'einem', 'tritt.']], [['fünf', 'leute', 'in', 'winterjacken', 'und', 'mit', 'helmen', 'stehen', 'im', 'schnee', 'mit', 'schneemobilen', 'im', 'hintergrund.']], [['leute', 'reparieren', 'das', 'dach', 'eines', 'hauses.']], [['ein', 'hell', 'gekleideter', 'mann', 'fotografiert', 'eine', 'gruppe', 'von', 'männern', 'in', 'dunklen', 'anzügen', 'und', 'mit', 'hüten,', 'die', 'um', 'eine', 'frau', 'in', 'einem', 'trägerlosen', 'kleid', 'herum', 'stehen.']], [['eine', 'gruppe', 'von', 'menschen', 'steht', 'vor', 'einem', 'iglu.']], [['ein', 'junge', 'in', 'einem', 'roten', 'trikot', 'versucht,', 'die', 'home', 'base', 'zu', 'erreichen,', 'während', 'der', 'catcher', 'im', 'blauen', 'trikot', 'versucht,', 'ihn', 'zu', 'fangen.']], [['ein', 'typ', 'arbeitet', 'an', 'einem', 'gebäude.']], [['ein', 'mann', 'in', 'einer', 'weste', 'sitzt', 'auf', 'einem', 'stuhl', 'und', 'hält', 'magazine.']], [['eine', 'mutter', 'und', 'ihr', 'kleiner', 'sohn', 'genießen', 'einen', 'schönen', 'tag', 'im', 'freien.']], [['männer,', 'die', 'volleyball', 'spielen,', 'wobei', 'ein', 'mann', 'den', 'ball', 'nicht', 'trifft,', 'während', 'seine', 'hände', 'immer', 'noch', 'in', 'der', 'luft', 'sind.']], [['eine', 'frau,', 'die', 'in', 'einer', 'küche', 'eine', 'schale', 'mit', 'essen', 'hält.']], [['ein', 'sitzender', 'mann,', 'der', 'an', 'einem', 'tisch', 'in', 'seinem', 'haus', 'mit', 'einem', 'werkzeug', 'arbeitet.']], [['drei', 'leute', 'sitzen', 'in', 'einer', 'höhle.']], [['ein', 'mädchen', 'in', 'einem', 'jeanskleid', 'läuft', 'über', 'einen', 'erhöhten', 'schwebebalken.']], [['eine', 'blondine', 'hält', 'mit', 'einem', 'mann', 'im', 'sand', 'händchen.']], [['eine', 'frau', 'in', 'einem', 'grauen', 'pulli', 'und', 'mit', 'einer', 'schwarzen', 'baseballmütze', 'steht', 'in', 'einem', 'geschäft', 'in', 'der', 'schlange.']], [['die', 'person', 'im', 'gestreiften', 'shirt', 'klettert', 'auf', 'einen', 'berg.']], [['zwei', 'männer', 'tun', 'so', 'als', 'seien', 'sie', 'statuen,', 'während', 'frauen', 'ihnen', 'zusehen.']], [['leute,', 'die', 'vor', 'einem', 'gebäude', 'stehen.']], [['eine', 'teenagerin', 'spielt', 'bei', 'einem', 'spiel', 'trompete', 'auf', 'dem', 'feld.']], [['eine', 'frau', 'macht', 'einen', 'salto', 'auf', 'einem', 'trampolin', 'am', 'strand.']], [['ein', 'mann', 'steht', 'bei', 'einigen', 'spielautomaten', 'in', 'einer', 'bar.']], [['eine', 'frau', 'verwendet', 'eine', 'bohrmaschine', 'während', 'ein', 'mann', 'sie', 'fotografiert.']], [['eine', 'frau', 'in', 'einem', 'pinken', 'pulli', 'und', 'einer', 'schürze', 'putzt', 'einen', 'tisch', 'mit', 'einem', 'schwamm.']], [['ein', 'mann', 'schneidet', 'äste', 'von', 'bäumen.']], [['eine', 'gruppe', 'asiatischer', 'jungen', 'wartet', 'am', 'grill', 'darauf,', 'dass', 'fleisch', 'gar', 'wird.']], [['frauen,', 'die', 'traditionelle', 'kleidung', 'tragen,', 'spielen', 'das', 'leben', 'einheimischer', 'nach.']], [['ein', 'mann', 'drückt', 'den', 'kopf', 'eines', 'anderen', 'mannes', 'nach', 'unten', 'und', 'will', 'ihm', 'ins', 'gesicht', 'schlagen.']]]\n",
            "[['ein', 'mann', ',', 'der', 'einen', 'orangefarbenen', 'hut', 'trägt', ',', 'greift', 'auf', 'etwas', '.', '<eos>', '.', 'er', 'etwas', 'zu', 'sehen', '.'], ['ein', 'holzfäller', 'läuft', 'auf', 'einer', '<unk>', 'wiese', 'vor', 'einem', 'weißen', 'trikot', '.', '<eos>', '.'], ['ein', 'mädchen', 'in', 'karateanzügen', 'macht', 'einen', 'stock', 'mit', 'einem', 'stab', '.', '<eos>', '.'], ['vier', 'personen', 'in', '<unk>', 'und', 'mit', 'helmen', 'stehen', 'im', 'hintergrund', '.', 'im', 'hintergrund', 'sind', '<unk>', 'zu', 'sehen', '.'], ['mehrere', 'personen', 'reparieren', 'das', 'dach', 'eines', 'gebäudes', 'mit', 'dem', 'dach', '.', 'er', '<unk>', '.'], ['ein', 'mann', 'in', 'traditioneller', 'kleidung', 'macht', 'eine', 'gruppe', 'von', 'männern', 'in', 'der', 'hand', 'und', 'steht', 'dabei', 'auf', 'einem', '<unk>', 'herum', '.'], ['eine', 'gruppe', 'von', 'menschen', 'steht', 'vor', 'einem', 'überhang', '.', '<eos>', '.'], ['ein', 'junge', 'in', 'einem', 'roten', 'trikot', 'versucht', ',', 'den', 'ball', 'zu', 'sehen', '.', '<eos>', 'zu', '.', 'er', 'zu', '.'], ['ein', 'mann', 'arbeitet', 'an', 'einem', 'gebäude', 'und', 'wird', 'dabei', 'von', 'einem', 'gebäudes', 'beschäftigt', '.'], ['ein', 'mann', 'in', 'einer', 'robe', 'sitzt', 'auf', 'einem', 'stuhl', 'und', 'hält', 'dabei', 'zeitschriften', '.', '<eos>', '.'], ['eine', 'person', ',', 'die', 'in', 'der', 'hand', 'trägt', ',', 'genießt', 'einen', '<unk>', 'im', 'freien', '.'], ['männer', 'spielen', 'volleyball', ',', 'während', 'er', 'ein', 'anderer', 'mit', 'dem', 'ball', 'in', 'der', 'hand', '<unk>', 'hat', '.', 'er', 'noch', '.'], ['eine', 'frau', 'hält', 'eine', '<unk>', 'in', 'der', 'hand', 'und', 'hat', 'dabei', 'eine', '<unk>', 'aus', '.'], ['ein', 'mann', ',', 'der', 'mit', 'seinem', 'werkzeug', 'an', 'einem', 'tisch', 'im', 'hintergrund', 'sitzt', '.'], ['mehrere', 'personen', 'sitzen', 'in', 'einer', '<unk>', '.', '<eos>', '.'], ['ein', 'mädchen', 'in', 'einer', '<unk>', 'kleidung', 'geht', 'auf', 'einem', 'schwebebalken', 'vorbei', '.'], ['ein', 'typ', 'hält', 'sich', 'an', 'den', 'händen', 'und', 'ist', 'dabei', 'dabei', 'einen', 'jungen', 'in', 'den', 'händen', '.', '<eos>', 'zu', 'sehen', '.'], ['eine', 'frau', 'in', 'einem', 'blauen', 'pullover', 'und', 'mit', 'einer', '<unk>', 'steht', 'in', 'einer', '<unk>', '.', 'er', '.', '<eos>', '.'], ['eine', 'person', 'in', 'einem', 'gestreiften', 'oberteil', 'klettert', 'auf', 'den', 'berg', '.', '<eos>', '.'], ['zwei', 'männer', 'zeigen', 'eine', '<unk>', ',', 'während', 'sie', 'dabei', 'zusehen', '.', 'er', 'zusehen', '.'], ['mehrere', 'personen', 'stehen', 'vor', 'einem', 'gebäude', 'und', 'werden', 'von', 'einem', 'gebäude', 'teil', '.', '<eos>', '.'], ['ein', 'jugendlicher', 'spielt', 'in', 'einem', 'spiel', 'auf', 'dem', 'spielfeld', 'und', 'spielt', 'dabei', 'ein', 'spiel', '.', '<eos>', '.'], ['eine', 'frau', 'macht', 'einen', 'salto', 'auf', 'einem', 'trampolin', 'mit', 'dem', 'namen', 'aufschrift', '.'], ['ein', 'mann', 'steht', 'in', 'einer', '<unk>', 'und', 'wird', 'dabei', 'von', 'einer', '<unk>', 'in', 'der', 'hand', '.'], ['eine', 'frau', 'macht', 'eine', '<unk>', ',', 'während', 'ein', 'anderer', 'mann', 'ein', 'foto', '<unk>', 'macht', '.', '<eos>', '.'], ['eine', 'frau', 'in', 'einem', 'pinkfarbenen', 'pullover', 'und', 'mit', 'der', 'aufschrift', 'teil', 'eines', '<unk>', '.', '<eos>', 'ist', '<eos>', '.'], ['ein', 'mann', ',', 'der', 'mit', 'dem', 'kopf', 'nach', 'oben', 'bedeckt', 'ist', ',', 'macht', 'eine', '<unk>', '.'], ['eine', 'gruppe', 'von', 'personen', 'wartet', 'darauf', ',', 'dass', 'er', 'sich', 'etwas', 'im', 'begriff', 'zu', 'reparieren', '.', '<eos>', 'gibt', '.'], ['eine', 'frau', 'in', 'traditioneller', 'kleidung', 'sammelt', '<unk>', 'ein', '.', '<unk>', '.'], ['ein', 'mann', ',', 'der', 'einen', 'anderen', 'mann', 'auf', 'dem', 'kopf', 'hält', ',', 'bereitet', 'sich', 'darauf', 'vor', ',', 'eine', '<unk>', 'ins', 'gesicht', 'zu', 'schlagen', '.', '<eos>', '.']]\n",
            "0.1345612581919522\n"
          ]
        },
        {
          "output_type": "stream",
          "name": "stderr",
          "text": [
            "\n"
          ]
        }
      ]
    },
    {
      "cell_type": "code",
      "source": [
        "from nltk.translate.bleu_score import corpus_bleu\n",
        "\n",
        "# 참조 문장 (각 문장마다 여러 참조 문장이 있을 수 있음)\n",
        "references = [\n",
        "    [[\"this\", \"is\", \"a\", \"test\"]],\n",
        "    [[\"another\", \"test\", \"sentence\"]]\n",
        "]\n",
        "\n",
        "# 가설 문장 (각 문장은 하나의 가설 문장으로 구성됨)\n",
        "hypotheses = [\n",
        "    [\"this\", \"is\", \"a\", \"test\"],\n",
        "    [\"another\", \"test\"]\n",
        "]\n",
        "\n",
        "# BLEU 점수 계산\n",
        "bleu_score = corpus_bleu(references, hypotheses)\n",
        "print(bleu_score)\n",
        "\n",
        "from nltk.translate.bleu_score import sentence_bleu\n",
        "\n",
        "# 참조 문장들 (각 문장은 토큰으로 구성된 리스트)\n",
        "references = [\n",
        "    [\"this\", \"is\", \"a\", \"test\"],\n",
        "    [\"this\", \"is\", \"test\"]\n",
        "]\n",
        "\n",
        "# 가설 문장 (토큰으로 구성된 리스트)\n",
        "hypothesis = [\"this\", \"is\", \"a\", \"test\"]\n",
        "\n",
        "# BLEU 점수 계산\n",
        "bleu_score = sentence_bleu(references, hypothesis)\n",
        "print(bleu_score)\n"
      ],
      "metadata": {
        "colab": {
          "base_uri": "https://localhost:8080/"
        },
        "id": "9WejBceaLUYq",
        "outputId": "f36ca7d0-e56c-41a5-c73e-5195fad718ea"
      },
      "execution_count": 17,
      "outputs": [
        {
          "output_type": "stream",
          "name": "stdout",
          "text": [
            "0.6431870218238024\n",
            "1.0\n"
          ]
        }
      ]
    }
  ]
}