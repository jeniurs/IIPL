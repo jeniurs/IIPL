{
  "cells": [
    {
      "cell_type": "code",
      "execution_count": 17,
      "metadata": {
        "id": "F2aHFJxe25kv"
      },
      "outputs": [],
      "source": [
        "import torch\n",
        "import json\n",
        "import os\n",
        "import math\n",
        "import numpy as np\n",
        "configs = {\n",
        "    \"train_source_data\":\"/content/train.en\",\n",
        "    \"train_target_data\":\"/content/train.de\",\n",
        "    \"valid_source_data\":\"/content/val.en\",\n",
        "    \"valid_target_data\":\"/content/val.de\",\n",
        "    \"test_source_data\": \"/content/trimmed_test.en\",\n",
        "    \"test_target_data\": \"/content/trimmed_test.de\",\n",
        "    \"source_max_seq_len\":256,\n",
        "    \"target_max_seq_len\":256,\n",
        "    \"batch_size\":50,\n",
        "    \"device\":\"cuda:0\" if torch.cuda.is_available() else \"cpu\",\n",
        "    \"embedding_dim\": 512,\n",
        "    \"n_layers\": 6,\n",
        "    \"n_heads\": 8,\n",
        "    \"dropout\": 0.25,\n",
        "    \"lr\":math.exp(-9),\n",
        "    \"n_epochs\":500,\n",
        "    \"print_freq\": 5,\n",
        "    \"model_path\":\"/content/model_transformer_translate_en_de.pt\",\n",
        "    \"early_stopping\":5,\n",
        "    \"beam_size\":3\n",
        "}\n",
        "\n",
        "\n",
        "import matplotlib.pyplot as plt\n",
        "\n",
        "# visualize log\n",
        "def plot_loss(log_path, log_dir):\n",
        "    log = json.load(open(log_path, \"r\"))\n",
        "\n",
        "    plt.figure()\n",
        "    plt.plot(log[\"train_loss\"], label=\"train loss\")\n",
        "    plt.plot(log[\"valid_loss\"], label=\"valid loss\")\n",
        "    plt.title(\"Loss per epoch\")\n",
        "    plt.xlabel(\"Epoch\")\n",
        "    plt.ylabel(\"Loss\")\n",
        "    plt.legend()\n",
        "    plt.savefig(os.path.join(log_dir, \"loss_epoch.png\"))\n",
        "\n",
        "    # plot batch loss\n",
        "    plt.figure()\n",
        "    lst = log[\"train_batch_loss\"]\n",
        "    n = int(len(log[\"train_batch_loss\"]) / len(log[\"valid_batch_loss\"]))\n",
        "    train_batch_loss = [lst[i:i + n][0] for i in range(0, len(lst), n)]\n",
        "    plt.plot(train_batch_loss, label=\"train loss\")\n",
        "    plt.plot(log[\"valid_batch_loss\"], label=\"valid loss\")\n",
        "    plt.title(\"Loss per batch\")\n",
        "    plt.xlabel(\"Batch\")\n",
        "    plt.ylabel(\"Loss\")\n",
        "    plt.legend()\n",
        "    plt.savefig(os.path.join(log_dir, \"loss_batch.png\"))"
      ]
    },
    {
      "cell_type": "code",
      "execution_count": 2,
      "metadata": {
        "colab": {
          "base_uri": "https://localhost:8080/"
        },
        "id": "ojcQmYWDwSaA",
        "outputId": "bfa7cb46-87aa-43d6-b484-314b21615336"
      },
      "outputs": [
        {
          "output_type": "stream",
          "name": "stdout",
          "text": [
            "Requirement already satisfied: portalocker==2.8.2 in /usr/local/lib/python3.10/dist-packages (2.8.2)\n"
          ]
        }
      ],
      "source": [
        "!pip install portalocker==2.8.2"
      ]
    },
    {
      "cell_type": "code",
      "source": [
        "!pip install torchtext==0.16.0"
      ],
      "metadata": {
        "colab": {
          "base_uri": "https://localhost:8080/"
        },
        "id": "Yw9OoKu8_vQJ",
        "outputId": "abc6a17b-bbe8-493b-fb63-ee2155703865"
      },
      "execution_count": 3,
      "outputs": [
        {
          "output_type": "stream",
          "name": "stdout",
          "text": [
            "Requirement already satisfied: torchtext==0.16.0 in /usr/local/lib/python3.10/dist-packages (0.16.0)\n",
            "Requirement already satisfied: tqdm in /usr/local/lib/python3.10/dist-packages (from torchtext==0.16.0) (4.66.6)\n",
            "Requirement already satisfied: requests in /usr/local/lib/python3.10/dist-packages (from torchtext==0.16.0) (2.32.3)\n",
            "Requirement already satisfied: torch==2.1.0 in /usr/local/lib/python3.10/dist-packages (from torchtext==0.16.0) (2.1.0)\n",
            "Requirement already satisfied: numpy in /usr/local/lib/python3.10/dist-packages (from torchtext==0.16.0) (1.26.4)\n",
            "Requirement already satisfied: torchdata==0.7.0 in /usr/local/lib/python3.10/dist-packages (from torchtext==0.16.0) (0.7.0)\n",
            "Requirement already satisfied: filelock in /usr/local/lib/python3.10/dist-packages (from torch==2.1.0->torchtext==0.16.0) (3.16.1)\n",
            "Requirement already satisfied: typing-extensions in /usr/local/lib/python3.10/dist-packages (from torch==2.1.0->torchtext==0.16.0) (4.12.2)\n",
            "Requirement already satisfied: sympy in /usr/local/lib/python3.10/dist-packages (from torch==2.1.0->torchtext==0.16.0) (1.13.1)\n",
            "Requirement already satisfied: networkx in /usr/local/lib/python3.10/dist-packages (from torch==2.1.0->torchtext==0.16.0) (3.4.2)\n",
            "Requirement already satisfied: jinja2 in /usr/local/lib/python3.10/dist-packages (from torch==2.1.0->torchtext==0.16.0) (3.1.4)\n",
            "Requirement already satisfied: fsspec in /usr/local/lib/python3.10/dist-packages (from torch==2.1.0->torchtext==0.16.0) (2024.10.0)\n",
            "Requirement already satisfied: nvidia-cuda-nvrtc-cu12==12.1.105 in /usr/local/lib/python3.10/dist-packages (from torch==2.1.0->torchtext==0.16.0) (12.1.105)\n",
            "Requirement already satisfied: nvidia-cuda-runtime-cu12==12.1.105 in /usr/local/lib/python3.10/dist-packages (from torch==2.1.0->torchtext==0.16.0) (12.1.105)\n",
            "Requirement already satisfied: nvidia-cuda-cupti-cu12==12.1.105 in /usr/local/lib/python3.10/dist-packages (from torch==2.1.0->torchtext==0.16.0) (12.1.105)\n",
            "Requirement already satisfied: nvidia-cudnn-cu12==8.9.2.26 in /usr/local/lib/python3.10/dist-packages (from torch==2.1.0->torchtext==0.16.0) (8.9.2.26)\n",
            "Requirement already satisfied: nvidia-cublas-cu12==12.1.3.1 in /usr/local/lib/python3.10/dist-packages (from torch==2.1.0->torchtext==0.16.0) (12.1.3.1)\n",
            "Requirement already satisfied: nvidia-cufft-cu12==11.0.2.54 in /usr/local/lib/python3.10/dist-packages (from torch==2.1.0->torchtext==0.16.0) (11.0.2.54)\n",
            "Requirement already satisfied: nvidia-curand-cu12==10.3.2.106 in /usr/local/lib/python3.10/dist-packages (from torch==2.1.0->torchtext==0.16.0) (10.3.2.106)\n",
            "Requirement already satisfied: nvidia-cusolver-cu12==11.4.5.107 in /usr/local/lib/python3.10/dist-packages (from torch==2.1.0->torchtext==0.16.0) (11.4.5.107)\n",
            "Requirement already satisfied: nvidia-cusparse-cu12==12.1.0.106 in /usr/local/lib/python3.10/dist-packages (from torch==2.1.0->torchtext==0.16.0) (12.1.0.106)\n",
            "Requirement already satisfied: nvidia-nccl-cu12==2.18.1 in /usr/local/lib/python3.10/dist-packages (from torch==2.1.0->torchtext==0.16.0) (2.18.1)\n",
            "Requirement already satisfied: nvidia-nvtx-cu12==12.1.105 in /usr/local/lib/python3.10/dist-packages (from torch==2.1.0->torchtext==0.16.0) (12.1.105)\n",
            "Requirement already satisfied: triton==2.1.0 in /usr/local/lib/python3.10/dist-packages (from torch==2.1.0->torchtext==0.16.0) (2.1.0)\n",
            "Requirement already satisfied: urllib3>=1.25 in /usr/local/lib/python3.10/dist-packages (from torchdata==0.7.0->torchtext==0.16.0) (2.2.3)\n",
            "Requirement already satisfied: nvidia-nvjitlink-cu12 in /usr/local/lib/python3.10/dist-packages (from nvidia-cusolver-cu12==11.4.5.107->torch==2.1.0->torchtext==0.16.0) (12.6.77)\n",
            "Requirement already satisfied: charset-normalizer<4,>=2 in /usr/local/lib/python3.10/dist-packages (from requests->torchtext==0.16.0) (3.4.0)\n",
            "Requirement already satisfied: idna<4,>=2.5 in /usr/local/lib/python3.10/dist-packages (from requests->torchtext==0.16.0) (3.10)\n",
            "Requirement already satisfied: certifi>=2017.4.17 in /usr/local/lib/python3.10/dist-packages (from requests->torchtext==0.16.0) (2024.8.30)\n",
            "Requirement already satisfied: MarkupSafe>=2.0 in /usr/local/lib/python3.10/dist-packages (from jinja2->torch==2.1.0->torchtext==0.16.0) (3.0.2)\n",
            "Requirement already satisfied: mpmath<1.4,>=1.1.0 in /usr/local/lib/python3.10/dist-packages (from sympy->torch==2.1.0->torchtext==0.16.0) (1.3.0)\n"
          ]
        }
      ]
    },
    {
      "cell_type": "code",
      "execution_count": 4,
      "metadata": {
        "colab": {
          "base_uri": "https://localhost:8080/"
        },
        "id": "hM1UwvQuwk7K",
        "outputId": "04bad679-8a45-41a8-8640-a09de44d8ad7"
      },
      "outputs": [
        {
          "output_type": "stream",
          "name": "stdout",
          "text": [
            "Collecting en-core-web-sm==3.7.1\n",
            "  Downloading https://github.com/explosion/spacy-models/releases/download/en_core_web_sm-3.7.1/en_core_web_sm-3.7.1-py3-none-any.whl (12.8 MB)\n",
            "\u001b[2K     \u001b[90m━━━━━━━━━━━━━━━━━━━━━━━━━━━━━━━━━━━━━━━━\u001b[0m \u001b[32m12.8/12.8 MB\u001b[0m \u001b[31m107.9 MB/s\u001b[0m eta \u001b[36m0:00:00\u001b[0m\n",
            "\u001b[?25hRequirement already satisfied: spacy<3.8.0,>=3.7.2 in /usr/local/lib/python3.10/dist-packages (from en-core-web-sm==3.7.1) (3.7.5)\n",
            "Requirement already satisfied: spacy-legacy<3.1.0,>=3.0.11 in /usr/local/lib/python3.10/dist-packages (from spacy<3.8.0,>=3.7.2->en-core-web-sm==3.7.1) (3.0.12)\n",
            "Requirement already satisfied: spacy-loggers<2.0.0,>=1.0.0 in /usr/local/lib/python3.10/dist-packages (from spacy<3.8.0,>=3.7.2->en-core-web-sm==3.7.1) (1.0.5)\n",
            "Requirement already satisfied: murmurhash<1.1.0,>=0.28.0 in /usr/local/lib/python3.10/dist-packages (from spacy<3.8.0,>=3.7.2->en-core-web-sm==3.7.1) (1.0.10)\n",
            "Requirement already satisfied: cymem<2.1.0,>=2.0.2 in /usr/local/lib/python3.10/dist-packages (from spacy<3.8.0,>=3.7.2->en-core-web-sm==3.7.1) (2.0.8)\n",
            "Requirement already satisfied: preshed<3.1.0,>=3.0.2 in /usr/local/lib/python3.10/dist-packages (from spacy<3.8.0,>=3.7.2->en-core-web-sm==3.7.1) (3.0.9)\n",
            "Requirement already satisfied: thinc<8.3.0,>=8.2.2 in /usr/local/lib/python3.10/dist-packages (from spacy<3.8.0,>=3.7.2->en-core-web-sm==3.7.1) (8.2.5)\n",
            "Requirement already satisfied: wasabi<1.2.0,>=0.9.1 in /usr/local/lib/python3.10/dist-packages (from spacy<3.8.0,>=3.7.2->en-core-web-sm==3.7.1) (1.1.3)\n",
            "Requirement already satisfied: srsly<3.0.0,>=2.4.3 in /usr/local/lib/python3.10/dist-packages (from spacy<3.8.0,>=3.7.2->en-core-web-sm==3.7.1) (2.4.8)\n",
            "Requirement already satisfied: catalogue<2.1.0,>=2.0.6 in /usr/local/lib/python3.10/dist-packages (from spacy<3.8.0,>=3.7.2->en-core-web-sm==3.7.1) (2.0.10)\n",
            "Requirement already satisfied: weasel<0.5.0,>=0.1.0 in /usr/local/lib/python3.10/dist-packages (from spacy<3.8.0,>=3.7.2->en-core-web-sm==3.7.1) (0.4.1)\n",
            "Requirement already satisfied: typer<1.0.0,>=0.3.0 in /usr/local/lib/python3.10/dist-packages (from spacy<3.8.0,>=3.7.2->en-core-web-sm==3.7.1) (0.13.0)\n",
            "Requirement already satisfied: tqdm<5.0.0,>=4.38.0 in /usr/local/lib/python3.10/dist-packages (from spacy<3.8.0,>=3.7.2->en-core-web-sm==3.7.1) (4.66.6)\n",
            "Requirement already satisfied: requests<3.0.0,>=2.13.0 in /usr/local/lib/python3.10/dist-packages (from spacy<3.8.0,>=3.7.2->en-core-web-sm==3.7.1) (2.32.3)\n",
            "Requirement already satisfied: pydantic!=1.8,!=1.8.1,<3.0.0,>=1.7.4 in /usr/local/lib/python3.10/dist-packages (from spacy<3.8.0,>=3.7.2->en-core-web-sm==3.7.1) (2.9.2)\n",
            "Requirement already satisfied: jinja2 in /usr/local/lib/python3.10/dist-packages (from spacy<3.8.0,>=3.7.2->en-core-web-sm==3.7.1) (3.1.4)\n",
            "Requirement already satisfied: setuptools in /usr/local/lib/python3.10/dist-packages (from spacy<3.8.0,>=3.7.2->en-core-web-sm==3.7.1) (75.1.0)\n",
            "Requirement already satisfied: packaging>=20.0 in /usr/local/lib/python3.10/dist-packages (from spacy<3.8.0,>=3.7.2->en-core-web-sm==3.7.1) (24.2)\n",
            "Requirement already satisfied: langcodes<4.0.0,>=3.2.0 in /usr/local/lib/python3.10/dist-packages (from spacy<3.8.0,>=3.7.2->en-core-web-sm==3.7.1) (3.4.1)\n",
            "Requirement already satisfied: numpy>=1.19.0 in /usr/local/lib/python3.10/dist-packages (from spacy<3.8.0,>=3.7.2->en-core-web-sm==3.7.1) (1.26.4)\n",
            "Requirement already satisfied: language-data>=1.2 in /usr/local/lib/python3.10/dist-packages (from langcodes<4.0.0,>=3.2.0->spacy<3.8.0,>=3.7.2->en-core-web-sm==3.7.1) (1.2.0)\n",
            "Requirement already satisfied: annotated-types>=0.6.0 in /usr/local/lib/python3.10/dist-packages (from pydantic!=1.8,!=1.8.1,<3.0.0,>=1.7.4->spacy<3.8.0,>=3.7.2->en-core-web-sm==3.7.1) (0.7.0)\n",
            "Requirement already satisfied: pydantic-core==2.23.4 in /usr/local/lib/python3.10/dist-packages (from pydantic!=1.8,!=1.8.1,<3.0.0,>=1.7.4->spacy<3.8.0,>=3.7.2->en-core-web-sm==3.7.1) (2.23.4)\n",
            "Requirement already satisfied: typing-extensions>=4.6.1 in /usr/local/lib/python3.10/dist-packages (from pydantic!=1.8,!=1.8.1,<3.0.0,>=1.7.4->spacy<3.8.0,>=3.7.2->en-core-web-sm==3.7.1) (4.12.2)\n",
            "Requirement already satisfied: charset-normalizer<4,>=2 in /usr/local/lib/python3.10/dist-packages (from requests<3.0.0,>=2.13.0->spacy<3.8.0,>=3.7.2->en-core-web-sm==3.7.1) (3.4.0)\n",
            "Requirement already satisfied: idna<4,>=2.5 in /usr/local/lib/python3.10/dist-packages (from requests<3.0.0,>=2.13.0->spacy<3.8.0,>=3.7.2->en-core-web-sm==3.7.1) (3.10)\n",
            "Requirement already satisfied: urllib3<3,>=1.21.1 in /usr/local/lib/python3.10/dist-packages (from requests<3.0.0,>=2.13.0->spacy<3.8.0,>=3.7.2->en-core-web-sm==3.7.1) (2.2.3)\n",
            "Requirement already satisfied: certifi>=2017.4.17 in /usr/local/lib/python3.10/dist-packages (from requests<3.0.0,>=2.13.0->spacy<3.8.0,>=3.7.2->en-core-web-sm==3.7.1) (2024.8.30)\n",
            "Requirement already satisfied: blis<0.8.0,>=0.7.8 in /usr/local/lib/python3.10/dist-packages (from thinc<8.3.0,>=8.2.2->spacy<3.8.0,>=3.7.2->en-core-web-sm==3.7.1) (0.7.11)\n",
            "Requirement already satisfied: confection<1.0.0,>=0.0.1 in /usr/local/lib/python3.10/dist-packages (from thinc<8.3.0,>=8.2.2->spacy<3.8.0,>=3.7.2->en-core-web-sm==3.7.1) (0.1.5)\n",
            "Requirement already satisfied: click>=8.0.0 in /usr/local/lib/python3.10/dist-packages (from typer<1.0.0,>=0.3.0->spacy<3.8.0,>=3.7.2->en-core-web-sm==3.7.1) (8.1.7)\n",
            "Requirement already satisfied: shellingham>=1.3.0 in /usr/local/lib/python3.10/dist-packages (from typer<1.0.0,>=0.3.0->spacy<3.8.0,>=3.7.2->en-core-web-sm==3.7.1) (1.5.4)\n",
            "Requirement already satisfied: rich>=10.11.0 in /usr/local/lib/python3.10/dist-packages (from typer<1.0.0,>=0.3.0->spacy<3.8.0,>=3.7.2->en-core-web-sm==3.7.1) (13.9.4)\n",
            "Requirement already satisfied: cloudpathlib<1.0.0,>=0.7.0 in /usr/local/lib/python3.10/dist-packages (from weasel<0.5.0,>=0.1.0->spacy<3.8.0,>=3.7.2->en-core-web-sm==3.7.1) (0.20.0)\n",
            "Requirement already satisfied: smart-open<8.0.0,>=5.2.1 in /usr/local/lib/python3.10/dist-packages (from weasel<0.5.0,>=0.1.0->spacy<3.8.0,>=3.7.2->en-core-web-sm==3.7.1) (7.0.5)\n",
            "Requirement already satisfied: MarkupSafe>=2.0 in /usr/local/lib/python3.10/dist-packages (from jinja2->spacy<3.8.0,>=3.7.2->en-core-web-sm==3.7.1) (3.0.2)\n",
            "Requirement already satisfied: marisa-trie>=0.7.7 in /usr/local/lib/python3.10/dist-packages (from language-data>=1.2->langcodes<4.0.0,>=3.2.0->spacy<3.8.0,>=3.7.2->en-core-web-sm==3.7.1) (1.2.1)\n",
            "Requirement already satisfied: markdown-it-py>=2.2.0 in /usr/local/lib/python3.10/dist-packages (from rich>=10.11.0->typer<1.0.0,>=0.3.0->spacy<3.8.0,>=3.7.2->en-core-web-sm==3.7.1) (3.0.0)\n",
            "Requirement already satisfied: pygments<3.0.0,>=2.13.0 in /usr/local/lib/python3.10/dist-packages (from rich>=10.11.0->typer<1.0.0,>=0.3.0->spacy<3.8.0,>=3.7.2->en-core-web-sm==3.7.1) (2.18.0)\n",
            "Requirement already satisfied: wrapt in /usr/local/lib/python3.10/dist-packages (from smart-open<8.0.0,>=5.2.1->weasel<0.5.0,>=0.1.0->spacy<3.8.0,>=3.7.2->en-core-web-sm==3.7.1) (1.16.0)\n",
            "Requirement already satisfied: mdurl~=0.1 in /usr/local/lib/python3.10/dist-packages (from markdown-it-py>=2.2.0->rich>=10.11.0->typer<1.0.0,>=0.3.0->spacy<3.8.0,>=3.7.2->en-core-web-sm==3.7.1) (0.1.2)\n",
            "\u001b[38;5;2m✔ Download and installation successful\u001b[0m\n",
            "You can now load the package via spacy.load('en_core_web_sm')\n",
            "\u001b[38;5;3m⚠ Restart to reload dependencies\u001b[0m\n",
            "If you are in a Jupyter or Colab notebook, you may need to restart Python in\n",
            "order to load all the package's dependencies. You can do this by selecting the\n",
            "'Restart kernel' or 'Restart runtime' option.\n",
            "Collecting de-core-news-sm==3.7.0\n",
            "  Downloading https://github.com/explosion/spacy-models/releases/download/de_core_news_sm-3.7.0/de_core_news_sm-3.7.0-py3-none-any.whl (14.6 MB)\n",
            "\u001b[2K     \u001b[90m━━━━━━━━━━━━━━━━━━━━━━━━━━━━━━━━━━━━━━━━\u001b[0m \u001b[32m14.6/14.6 MB\u001b[0m \u001b[31m96.7 MB/s\u001b[0m eta \u001b[36m0:00:00\u001b[0m\n",
            "\u001b[?25hRequirement already satisfied: spacy<3.8.0,>=3.7.0 in /usr/local/lib/python3.10/dist-packages (from de-core-news-sm==3.7.0) (3.7.5)\n",
            "Requirement already satisfied: spacy-legacy<3.1.0,>=3.0.11 in /usr/local/lib/python3.10/dist-packages (from spacy<3.8.0,>=3.7.0->de-core-news-sm==3.7.0) (3.0.12)\n",
            "Requirement already satisfied: spacy-loggers<2.0.0,>=1.0.0 in /usr/local/lib/python3.10/dist-packages (from spacy<3.8.0,>=3.7.0->de-core-news-sm==3.7.0) (1.0.5)\n",
            "Requirement already satisfied: murmurhash<1.1.0,>=0.28.0 in /usr/local/lib/python3.10/dist-packages (from spacy<3.8.0,>=3.7.0->de-core-news-sm==3.7.0) (1.0.10)\n",
            "Requirement already satisfied: cymem<2.1.0,>=2.0.2 in /usr/local/lib/python3.10/dist-packages (from spacy<3.8.0,>=3.7.0->de-core-news-sm==3.7.0) (2.0.8)\n",
            "Requirement already satisfied: preshed<3.1.0,>=3.0.2 in /usr/local/lib/python3.10/dist-packages (from spacy<3.8.0,>=3.7.0->de-core-news-sm==3.7.0) (3.0.9)\n",
            "Requirement already satisfied: thinc<8.3.0,>=8.2.2 in /usr/local/lib/python3.10/dist-packages (from spacy<3.8.0,>=3.7.0->de-core-news-sm==3.7.0) (8.2.5)\n",
            "Requirement already satisfied: wasabi<1.2.0,>=0.9.1 in /usr/local/lib/python3.10/dist-packages (from spacy<3.8.0,>=3.7.0->de-core-news-sm==3.7.0) (1.1.3)\n",
            "Requirement already satisfied: srsly<3.0.0,>=2.4.3 in /usr/local/lib/python3.10/dist-packages (from spacy<3.8.0,>=3.7.0->de-core-news-sm==3.7.0) (2.4.8)\n",
            "Requirement already satisfied: catalogue<2.1.0,>=2.0.6 in /usr/local/lib/python3.10/dist-packages (from spacy<3.8.0,>=3.7.0->de-core-news-sm==3.7.0) (2.0.10)\n",
            "Requirement already satisfied: weasel<0.5.0,>=0.1.0 in /usr/local/lib/python3.10/dist-packages (from spacy<3.8.0,>=3.7.0->de-core-news-sm==3.7.0) (0.4.1)\n",
            "Requirement already satisfied: typer<1.0.0,>=0.3.0 in /usr/local/lib/python3.10/dist-packages (from spacy<3.8.0,>=3.7.0->de-core-news-sm==3.7.0) (0.13.0)\n",
            "Requirement already satisfied: tqdm<5.0.0,>=4.38.0 in /usr/local/lib/python3.10/dist-packages (from spacy<3.8.0,>=3.7.0->de-core-news-sm==3.7.0) (4.66.6)\n",
            "Requirement already satisfied: requests<3.0.0,>=2.13.0 in /usr/local/lib/python3.10/dist-packages (from spacy<3.8.0,>=3.7.0->de-core-news-sm==3.7.0) (2.32.3)\n",
            "Requirement already satisfied: pydantic!=1.8,!=1.8.1,<3.0.0,>=1.7.4 in /usr/local/lib/python3.10/dist-packages (from spacy<3.8.0,>=3.7.0->de-core-news-sm==3.7.0) (2.9.2)\n",
            "Requirement already satisfied: jinja2 in /usr/local/lib/python3.10/dist-packages (from spacy<3.8.0,>=3.7.0->de-core-news-sm==3.7.0) (3.1.4)\n",
            "Requirement already satisfied: setuptools in /usr/local/lib/python3.10/dist-packages (from spacy<3.8.0,>=3.7.0->de-core-news-sm==3.7.0) (75.1.0)\n",
            "Requirement already satisfied: packaging>=20.0 in /usr/local/lib/python3.10/dist-packages (from spacy<3.8.0,>=3.7.0->de-core-news-sm==3.7.0) (24.2)\n",
            "Requirement already satisfied: langcodes<4.0.0,>=3.2.0 in /usr/local/lib/python3.10/dist-packages (from spacy<3.8.0,>=3.7.0->de-core-news-sm==3.7.0) (3.4.1)\n",
            "Requirement already satisfied: numpy>=1.19.0 in /usr/local/lib/python3.10/dist-packages (from spacy<3.8.0,>=3.7.0->de-core-news-sm==3.7.0) (1.26.4)\n",
            "Requirement already satisfied: language-data>=1.2 in /usr/local/lib/python3.10/dist-packages (from langcodes<4.0.0,>=3.2.0->spacy<3.8.0,>=3.7.0->de-core-news-sm==3.7.0) (1.2.0)\n",
            "Requirement already satisfied: annotated-types>=0.6.0 in /usr/local/lib/python3.10/dist-packages (from pydantic!=1.8,!=1.8.1,<3.0.0,>=1.7.4->spacy<3.8.0,>=3.7.0->de-core-news-sm==3.7.0) (0.7.0)\n",
            "Requirement already satisfied: pydantic-core==2.23.4 in /usr/local/lib/python3.10/dist-packages (from pydantic!=1.8,!=1.8.1,<3.0.0,>=1.7.4->spacy<3.8.0,>=3.7.0->de-core-news-sm==3.7.0) (2.23.4)\n",
            "Requirement already satisfied: typing-extensions>=4.6.1 in /usr/local/lib/python3.10/dist-packages (from pydantic!=1.8,!=1.8.1,<3.0.0,>=1.7.4->spacy<3.8.0,>=3.7.0->de-core-news-sm==3.7.0) (4.12.2)\n",
            "Requirement already satisfied: charset-normalizer<4,>=2 in /usr/local/lib/python3.10/dist-packages (from requests<3.0.0,>=2.13.0->spacy<3.8.0,>=3.7.0->de-core-news-sm==3.7.0) (3.4.0)\n",
            "Requirement already satisfied: idna<4,>=2.5 in /usr/local/lib/python3.10/dist-packages (from requests<3.0.0,>=2.13.0->spacy<3.8.0,>=3.7.0->de-core-news-sm==3.7.0) (3.10)\n",
            "Requirement already satisfied: urllib3<3,>=1.21.1 in /usr/local/lib/python3.10/dist-packages (from requests<3.0.0,>=2.13.0->spacy<3.8.0,>=3.7.0->de-core-news-sm==3.7.0) (2.2.3)\n",
            "Requirement already satisfied: certifi>=2017.4.17 in /usr/local/lib/python3.10/dist-packages (from requests<3.0.0,>=2.13.0->spacy<3.8.0,>=3.7.0->de-core-news-sm==3.7.0) (2024.8.30)\n",
            "Requirement already satisfied: blis<0.8.0,>=0.7.8 in /usr/local/lib/python3.10/dist-packages (from thinc<8.3.0,>=8.2.2->spacy<3.8.0,>=3.7.0->de-core-news-sm==3.7.0) (0.7.11)\n",
            "Requirement already satisfied: confection<1.0.0,>=0.0.1 in /usr/local/lib/python3.10/dist-packages (from thinc<8.3.0,>=8.2.2->spacy<3.8.0,>=3.7.0->de-core-news-sm==3.7.0) (0.1.5)\n",
            "Requirement already satisfied: click>=8.0.0 in /usr/local/lib/python3.10/dist-packages (from typer<1.0.0,>=0.3.0->spacy<3.8.0,>=3.7.0->de-core-news-sm==3.7.0) (8.1.7)\n",
            "Requirement already satisfied: shellingham>=1.3.0 in /usr/local/lib/python3.10/dist-packages (from typer<1.0.0,>=0.3.0->spacy<3.8.0,>=3.7.0->de-core-news-sm==3.7.0) (1.5.4)\n",
            "Requirement already satisfied: rich>=10.11.0 in /usr/local/lib/python3.10/dist-packages (from typer<1.0.0,>=0.3.0->spacy<3.8.0,>=3.7.0->de-core-news-sm==3.7.0) (13.9.4)\n",
            "Requirement already satisfied: cloudpathlib<1.0.0,>=0.7.0 in /usr/local/lib/python3.10/dist-packages (from weasel<0.5.0,>=0.1.0->spacy<3.8.0,>=3.7.0->de-core-news-sm==3.7.0) (0.20.0)\n",
            "Requirement already satisfied: smart-open<8.0.0,>=5.2.1 in /usr/local/lib/python3.10/dist-packages (from weasel<0.5.0,>=0.1.0->spacy<3.8.0,>=3.7.0->de-core-news-sm==3.7.0) (7.0.5)\n",
            "Requirement already satisfied: MarkupSafe>=2.0 in /usr/local/lib/python3.10/dist-packages (from jinja2->spacy<3.8.0,>=3.7.0->de-core-news-sm==3.7.0) (3.0.2)\n",
            "Requirement already satisfied: marisa-trie>=0.7.7 in /usr/local/lib/python3.10/dist-packages (from language-data>=1.2->langcodes<4.0.0,>=3.2.0->spacy<3.8.0,>=3.7.0->de-core-news-sm==3.7.0) (1.2.1)\n",
            "Requirement already satisfied: markdown-it-py>=2.2.0 in /usr/local/lib/python3.10/dist-packages (from rich>=10.11.0->typer<1.0.0,>=0.3.0->spacy<3.8.0,>=3.7.0->de-core-news-sm==3.7.0) (3.0.0)\n",
            "Requirement already satisfied: pygments<3.0.0,>=2.13.0 in /usr/local/lib/python3.10/dist-packages (from rich>=10.11.0->typer<1.0.0,>=0.3.0->spacy<3.8.0,>=3.7.0->de-core-news-sm==3.7.0) (2.18.0)\n",
            "Requirement already satisfied: wrapt in /usr/local/lib/python3.10/dist-packages (from smart-open<8.0.0,>=5.2.1->weasel<0.5.0,>=0.1.0->spacy<3.8.0,>=3.7.0->de-core-news-sm==3.7.0) (1.16.0)\n",
            "Requirement already satisfied: mdurl~=0.1 in /usr/local/lib/python3.10/dist-packages (from markdown-it-py>=2.2.0->rich>=10.11.0->typer<1.0.0,>=0.3.0->spacy<3.8.0,>=3.7.0->de-core-news-sm==3.7.0) (0.1.2)\n",
            "Installing collected packages: de-core-news-sm\n",
            "Successfully installed de-core-news-sm-3.7.0\n",
            "\u001b[38;5;2m✔ Download and installation successful\u001b[0m\n",
            "You can now load the package via spacy.load('de_core_news_sm')\n",
            "\u001b[38;5;3m⚠ Restart to reload dependencies\u001b[0m\n",
            "If you are in a Jupyter or Colab notebook, you may need to restart Python in\n",
            "order to load all the package's dependencies. You can do this by selecting the\n",
            "'Restart kernel' or 'Restart runtime' option.\n"
          ]
        }
      ],
      "source": [
        "!python -m spacy download en_core_web_sm\n",
        "!python -m spacy download de_core_news_sm"
      ]
    },
    {
      "cell_type": "code",
      "source": [
        "def read_data(source_file, target_file):\n",
        "        source_data = open(source_file).read().strip().split(\"\\n\")\n",
        "        target_data = open(target_file).read().strip().split(\"\\n\")\n",
        "        return source_data, target_data\n",
        "\n",
        "train_src_data, train_trg_data = read_data(configs[\"train_source_data\"], configs[\"train_target_data\"])\n",
        "valid_src_data, valid_trg_data = read_data(configs[\"valid_source_data\"], configs[\"valid_target_data\"])\n",
        "\n",
        "\n",
        "# visualize log\n",
        "def plot_loss(log_path, log_dir):\n",
        "    log = json.load(open(log_path, \"r\"))\n",
        "\n",
        "    plt.figure()\n",
        "    plt.plot(log[\"train_loss\"], label=\"train loss\")\n",
        "    plt.plot(log[\"valid_loss\"], label=\"valid loss\")\n",
        "    plt.title(\"Loss per epoch\")\n",
        "    plt.xlabel(\"Epoch\")\n",
        "    plt.ylabel(\"Loss\")\n",
        "    plt.legend()\n",
        "    plt.savefig(os.path.join(log_dir, \"loss_epoch.png\"))\n",
        "\n",
        "    # plot batch loss\n",
        "    plt.figure()\n",
        "    lst = log[\"train_batch_loss\"]\n",
        "    n = int(len(log[\"train_batch_loss\"]) / len(log[\"valid_batch_loss\"]))\n",
        "    train_batch_loss = [lst[i:i + n][0] for i in range(0, len(lst), n)]\n",
        "    plt.plot(train_batch_loss, label=\"train loss\")\n",
        "    plt.plot(log[\"valid_batch_loss\"], label=\"valid loss\")\n",
        "    plt.title(\"Loss per batch\")\n",
        "    plt.xlabel(\"Batch\")\n",
        "    plt.ylabel(\"Loss\")\n",
        "    plt.legend()\n",
        "    plt.savefig(os.path.join(log_dir, \"loss_batch.png\"))\n",
        "\n",
        "import torch\n",
        "from torch.utils.data import Dataset\n",
        "from transformers import AutoTokenizer\n",
        "import re\n",
        "\n",
        "from torchtext.data.utils import get_tokenizer\n",
        "from torchtext.vocab import build_vocab_from_iterator\n",
        "from functools import partial\n",
        "en_tokenizer = get_tokenizer(tokenizer='spacy', language='en_core_web_sm')\n",
        "de_tokenizer = get_tokenizer(tokenizer='spacy', language='de_core_news_sm')\n",
        "\n",
        "def preprocess_seq(seq):\n",
        "        seq = re.sub(r\"[\\*\\\"“”\\n\\…\\+\\-\\/\\=‘•:\\|’\\!;]\", \" \", str(seq))\n",
        "        seq = re.sub(r\"[ ]+\", \" \", seq)\n",
        "        seq = re.sub(r\"\\!+\", \"!\", seq)\n",
        "        seq = re.sub(r\"\\,+\", \",\", seq)\n",
        "        seq = re.sub(r\"\\?+\", \"?\", seq)\n",
        "        seq = seq.lower()\n",
        "        return seq\n",
        "\n",
        "preprocessed_srclist=[]\n",
        "for english_sentences in train_src_data:\n",
        " preprocessed_src=preprocess_seq(english_sentences)\n",
        " preprocessed_srclist.append(preprocessed_src)\n",
        "\n",
        "preprocessed_tgtlist=[]\n",
        "for german_sentences in train_trg_data:\n",
        " preprocessed_tgt=preprocess_seq(german_sentences)\n",
        " preprocessed_tgtlist.append(preprocessed_tgt)\n",
        "\n",
        "val_preprocessed_srclist=[]\n",
        "for english_sentences in valid_src_data:\n",
        " preprocessed_src=preprocess_seq(english_sentences)\n",
        " val_preprocessed_srclist.append(preprocessed_src)\n",
        "\n",
        "val_preprocessed_tgtlist=[]\n",
        "for german_sentences in valid_trg_data:\n",
        " preprocessed_tgt=preprocess_seq(german_sentences)\n",
        " val_preprocessed_tgtlist.append(preprocessed_tgt)\n",
        "en_vocab = build_vocab_from_iterator(map(en_tokenizer, [english for english in preprocessed_srclist]), min_freq=2, specials=['<unk>', '<sos>', '<eos>', '<pad>'])\n",
        "de_vocab = build_vocab_from_iterator(map(de_tokenizer, [de for de in preprocessed_tgtlist]), min_freq=2, specials=['<unk>', '<sos>', '<eos>', '<pad>'])\n",
        "en_token2id = en_vocab.get_stoi()\n",
        "de_token2id = de_vocab.get_stoi()\n",
        "en_id2token = en_vocab.get_itos()\n",
        "de_id2token = de_vocab.get_itos()\n",
        "\n",
        "unk_token_id = 0\n",
        "sos_token_id = 1\n",
        "eos_token_id = 2\n",
        "pad_token_id = 3\n",
        "\n",
        "def src_encode(src_text):\n",
        "        source_sentence = [ en_token2id.get(token, en_token2id['<unk>']) for token in en_tokenizer(src_text) ]\n",
        "        return source_sentence\n",
        "\n",
        "def tgt_encode(tgt_text):\n",
        "        target_sentence = [de_token2id['<sos>']] \\\n",
        "        + [ de_token2id.get(token, de_token2id['<unk>']) for token in de_tokenizer(tgt_text) ] \\\n",
        "        + [ de_token2id['<eos>']]\n",
        "        return target_sentence\n",
        "\n",
        "def src_decode(ids):\n",
        "     sentences = []\n",
        "     sentence = list(map(lambda x: en_id2token[x], ids))\n",
        "     sentences.append(\" \".join(sentence))\n",
        "     return sentences\n",
        "\n",
        "train_src_sentences = [ src_encode(eng) for eng in preprocessed_srclist if len(eng) > 0]\n",
        "train_tgt_sentences = [ tgt_encode(ger) for ger in preprocessed_tgtlist if len(ger) > 0]\n",
        "val_src_sentences = [ src_encode(eng) for eng in val_preprocessed_srclist if len(eng) > 0]\n",
        "val_tgt_sentences = [ tgt_encode(ger) for ger in val_preprocessed_tgtlist if len(ger) > 0]\n",
        "train_sentences = list(zip(train_src_sentences, train_tgt_sentences))\n",
        "val_sentences = list(zip(val_src_sentences, val_tgt_sentences))\n",
        "def pad_features(pad_id, s):\n",
        "     for i in range(len(s)):\n",
        "      src_padding = np.full(256-len(s[i][0]), en_token2id['<pad>'], dtype=int)\n",
        "      src_features= s[i][0].extend(src_padding)\n",
        "      tgt_padding = np.full(256-len(s[i][1]), de_token2id['<pad>'], dtype=int)\n",
        "      tgt_features=s[i][1].extend(tgt_padding)\n",
        "     return s\n",
        "\n",
        "train_features=pad_features(pad_token_id,train_sentences)\n",
        "val_features=pad_features(pad_token_id,val_sentences)"
      ],
      "metadata": {
        "colab": {
          "base_uri": "https://localhost:8080/"
        },
        "id": "u45b0jn6uab3",
        "outputId": "c7696827-4d1f-493a-d3e2-016a170c7c49"
      },
      "execution_count": 18,
      "outputs": [
        {
          "output_type": "stream",
          "name": "stderr",
          "text": [
            "/usr/local/lib/python3.10/dist-packages/spacy/util.py:1740: UserWarning: [W111] Jupyter notebook detected: if using `prefer_gpu()` or `require_gpu()`, include it in the same cell right before `spacy.load()` to ensure that the model is loaded on the correct device. More information: http://spacy.io/usage/v3#jupyter-notebook-gpu\n",
            "  warnings.warn(Warnings.W111)\n"
          ]
        }
      ]
    },
    {
      "cell_type": "code",
      "execution_count": 19,
      "metadata": {
        "id": "WtL-AEczy2W0",
        "colab": {
          "base_uri": "https://localhost:8080/"
        },
        "outputId": "f25a780d-c732-4e4a-c706-a80efdee57eb"
      },
      "outputs": [
        {
          "output_type": "stream",
          "name": "stdout",
          "text": [
            "{'source_ids': tensor([  16,   24,   15,   25,  776,   17,   56,   79,  200, 1308,    5,    3,\n",
            "           3,    3,    3,    3,    3,    3,    3,    3,    3,    3,    3,    3,\n",
            "           3,    3,    3,    3,    3,    3,    3,    3,    3,    3,    3,    3,\n",
            "           3,    3,    3,    3,    3,    3,    3,    3,    3,    3,    3,    3,\n",
            "           3,    3,    3,    3,    3,    3,    3,    3,    3,    3,    3,    3,\n",
            "           3,    3,    3,    3,    3,    3,    3,    3,    3,    3,    3,    3,\n",
            "           3,    3,    3,    3,    3,    3,    3,    3,    3,    3,    3,    3,\n",
            "           3,    3,    3,    3,    3,    3,    3,    3,    3,    3,    3,    3,\n",
            "           3,    3,    3,    3,    3,    3,    3,    3,    3,    3,    3,    3,\n",
            "           3,    3,    3,    3,    3,    3,    3,    3,    3,    3,    3,    3,\n",
            "           3,    3,    3,    3,    3,    3,    3,    3,    3,    3,    3,    3,\n",
            "           3,    3,    3,    3,    3,    3,    3,    3,    3,    3,    3,    3,\n",
            "           3,    3,    3,    3,    3,    3,    3,    3,    3,    3,    3,    3,\n",
            "           3,    3,    3,    3,    3,    3,    3,    3,    3,    3,    3,    3,\n",
            "           3,    3,    3,    3,    3,    3,    3,    3,    3,    3,    3,    3,\n",
            "           3,    3,    3,    3,    3,    3,    3,    3,    3,    3,    3,    3,\n",
            "           3,    3,    3,    3,    3,    3,    3,    3,    3,    3,    3,    3,\n",
            "           3,    3,    3,    3,    3,    3,    3,    3,    3,    3,    3,    3,\n",
            "           3,    3,    3,    3,    3,    3,    3,    3,    3,    3,    3,    3,\n",
            "           3,    3,    3,    3,    3,    3,    3,    3,    3,    3,    3,    3,\n",
            "           3,    3,    3,    3,    3,    3,    3,    3,    3,    3,    3,    3,\n",
            "           3,    3,    3,    3]), 'target_ids': tensor([   1,   18,   26,  214,   30,   84,   20,   88,    7,   15,  114, 7664,\n",
            "        3213,    4,    2,    3,    3,    3,    3,    3,    3,    3,    3,    3,\n",
            "           3,    3,    3,    3,    3,    3,    3,    3,    3,    3,    3,    3,\n",
            "           3,    3,    3,    3,    3,    3,    3,    3,    3,    3,    3,    3,\n",
            "           3,    3,    3,    3,    3,    3,    3,    3,    3,    3,    3,    3,\n",
            "           3,    3,    3,    3,    3,    3,    3,    3,    3,    3,    3,    3,\n",
            "           3,    3,    3,    3,    3,    3,    3,    3,    3,    3,    3,    3,\n",
            "           3,    3,    3,    3,    3,    3,    3,    3,    3,    3,    3,    3,\n",
            "           3,    3,    3,    3,    3,    3,    3,    3,    3,    3,    3,    3,\n",
            "           3,    3,    3,    3,    3,    3,    3,    3,    3,    3,    3,    3,\n",
            "           3,    3,    3,    3,    3,    3,    3,    3,    3,    3,    3,    3,\n",
            "           3,    3,    3,    3,    3,    3,    3,    3,    3,    3,    3,    3,\n",
            "           3,    3,    3,    3,    3,    3,    3,    3,    3,    3,    3,    3,\n",
            "           3,    3,    3,    3,    3,    3,    3,    3,    3,    3,    3,    3,\n",
            "           3,    3,    3,    3,    3,    3,    3,    3,    3,    3,    3,    3,\n",
            "           3,    3,    3,    3,    3,    3,    3,    3,    3,    3,    3,    3,\n",
            "           3,    3,    3,    3,    3,    3,    3,    3,    3,    3,    3,    3,\n",
            "           3,    3,    3,    3,    3,    3,    3,    3,    3,    3,    3,    3,\n",
            "           3,    3,    3,    3,    3,    3,    3,    3,    3,    3,    3,    3,\n",
            "           3,    3,    3,    3,    3,    3,    3,    3,    3,    3,    3,    3,\n",
            "           3,    3,    3,    3,    3,    3,    3,    3,    3,    3,    3,    3,\n",
            "           3,    3,    3,    3])}\n",
            "256\n"
          ]
        }
      ],
      "source": [
        "class TrainTranslateDataset(Dataset):\n",
        "\n",
        "    def __init__(self, source_tokenizer, target_tokenizer, source_max_seq_len=256, target_max_seq_len=256):\n",
        "        self.source_tokenizer = source_tokenizer\n",
        "        self.target_tokenizer = target_tokenizer\n",
        "        self.source_max_seq_len = source_max_seq_len\n",
        "        self.target_max_seq_len = target_max_seq_len\n",
        "        self.sentences=train_features\n",
        "\n",
        "\n",
        "\n",
        "    def __len__(self):\n",
        "        return len(self.sentences)\n",
        "\n",
        "    # create decoder input mask\n",
        "    def create_decoder_mask(self, seq_len):\n",
        "        mask = torch.ones(seq_len, seq_len).tril()\n",
        "        return mask\n",
        "\n",
        "    def __getitem__(self, index):\n",
        "\n",
        "            tensor_source=torch.tensor(self.sentences[index][0])\n",
        "            tensor_target=torch.tensor(self.sentences[index][1])\n",
        "            return {\n",
        "                \"source_ids\": tensor_source,\n",
        "                \"target_ids\": tensor_target\n",
        "            }\n",
        "\n",
        "\n",
        "a=TrainTranslateDataset(source_tokenizer=en_tokenizer, target_tokenizer=de_tokenizer, source_max_seq_len=256, target_max_seq_len=256)\n",
        "print(a[0])\n",
        "print(len(a[0][\"source_ids\"]))"
      ]
    },
    {
      "cell_type": "code",
      "execution_count": 20,
      "metadata": {
        "id": "3BnNPOML1HAj"
      },
      "outputs": [],
      "source": [
        "class ValidTranslateDataset(Dataset):\n",
        "\n",
        "    def __init__(self, source_tokenizer, target_tokenizer, source_max_seq_len=256, target_max_seq_len=256):\n",
        "        self.source_tokenizer = source_tokenizer\n",
        "        self.target_tokenizer = target_tokenizer\n",
        "        self.source_max_seq_len = source_max_seq_len\n",
        "        self.target_max_seq_len = target_max_seq_len\n",
        "        self.sentences=val_features\n",
        "\n",
        "\n",
        "\n",
        "    def __len__(self):\n",
        "        return len(self.sentences)\n",
        "\n",
        "    # create decoder input mask\n",
        "    def create_decoder_mask(self, seq_len):\n",
        "        mask = torch.ones(seq_len, seq_len).tril()\n",
        "        return mask\n",
        "\n",
        "    def __getitem__(self, index):\n",
        "\n",
        "            tensor_source=torch.tensor(self.sentences[index][0])\n",
        "            tensor_target=torch.tensor(self.sentences[index][1])\n",
        "            return {\n",
        "                \"source_ids\": tensor_source,\n",
        "                \"target_ids\": tensor_target\n",
        "            }"
      ]
    },
    {
      "cell_type": "code",
      "execution_count": 21,
      "metadata": {
        "id": "keDxMOuU1fnW"
      },
      "outputs": [],
      "source": [
        "import torch\n",
        "import torch.nn as nn\n",
        "import numpy as np\n",
        "import math\n",
        "from torch.autograd import Variable\n",
        "\n",
        "class Embedding(nn.Module):\n",
        "    def __init__(self, vocab_size, embedding_dim):\n",
        "        super(Embedding, self).__init__()\n",
        "        # vocab_size=임베딩을 할 단어들의 개수, embedding_dim은 벡터 사이즈\n",
        "        self.embedding = nn.Embedding(vocab_size, embedding_dim)\n",
        "\n",
        "    def forward(self, x):\n",
        "        return self.embedding(x)\n",
        "\n",
        "# The positional encoding vector\n",
        "class PositionalEncoder(nn.Module):\n",
        "    def __init__(self, embedding_dim, max_seq_length=512, dropout=0.1):\n",
        "        super(PositionalEncoder, self).__init__()\n",
        "        self.embedding_dim = embedding_dim\n",
        "        self.dropout = nn.Dropout(dropout)\n",
        "        pe = torch.zeros(max_seq_length, embedding_dim)\n",
        "        for pos in range(max_seq_length):\n",
        "            #embedding 전까지 2씩 증가\n",
        "            for i in range(0, embedding_dim, 2):\n",
        "                pe[pos, i] = math.sin(pos/(10000**(2*i/embedding_dim)))\n",
        "                pe[pos, i+1] = math.cos(pos/(10000**((2*i+1)/embedding_dim)))\n",
        "        #for ex)[10,10]->[1,10,10]\n",
        "        pe = pe.unsqueeze(0)\n",
        "        #버퍼(backpropagation에 안쓰이고 gpu에서 돌아감, 데이터를 전송하면서 임시 보관소)\n",
        "        self.register_buffer('pe', pe)\n",
        "\n",
        "    def forward(self, x):\n",
        "        x = x*math.sqrt(self.embedding_dim)\n",
        "        #1\n",
        "        seq_length = x.size(1)\n",
        "        #\n",
        "        pe = Variable(self.pe[:, :seq_length], requires_grad=False).to(x.device)\n",
        "        # Add the positional encoding vector to the embedding vector\n",
        "        x = x + pe\n",
        "        x = self.dropout(x)\n",
        "        return x\n",
        "\n",
        "# Self-attention layer\n",
        "class SelfAttention(nn.Module):\n",
        "    ''' Scaled Dot-Product Attention '''\n",
        "\n",
        "    def __init__(self, dropout=0.1):\n",
        "        super(SelfAttention, self).__init__()\n",
        "        self.dropout = nn.Dropout(dropout)\n",
        "\n",
        "    def forward(self, query, key, value, mask=None):\n",
        "        #key.size=[20, 8, 256, 64]\n",
        "        #key_dim=64, same as the numbers of the paper\n",
        "        key_dim = key.size(-1)\n",
        "        #q*k의 transpose\n",
        "        attn = torch.matmul(query / np.sqrt(key_dim), key.transpose(2, 3))\n",
        "        if mask is not None:\n",
        "            #mask 차원 늘리기\n",
        "            mask = mask.unsqueeze(1)\n",
        "            #미래시점의 입력값이 고려되면 안되기 때문에\n",
        "            attn = attn.masked_fill(mask == 0, -1e9)\n",
        "        #attn의 마지막 차원에 대해 softmax\n",
        "        attn = self.dropout(torch.softmax(attn, dim=-1))\n",
        "        #value랑 곱해주는 부분\n",
        "        output = torch.matmul(attn, value)\n",
        "\n",
        "        return output\n",
        "\n",
        "# Multi-head attention layer\n",
        "class MultiHeadAttention(nn.Module):\n",
        "    def __init__(self, embedding_dim, num_heads, dropout=0.1):\n",
        "        super(MultiHeadAttention, self).__init__()\n",
        "        self.embedding_dim = embedding_dim\n",
        "        self.self_attention = SelfAttention(dropout)\n",
        "        # The number of heads\n",
        "        self.num_heads = num_heads\n",
        "        # The dimension of each head\n",
        "        self.dim_per_head = embedding_dim // num_heads\n",
        "        # The linear projections(fc layer)\n",
        "        self.query_projection = nn.Linear(embedding_dim, embedding_dim)\n",
        "        self.key_projection = nn.Linear(embedding_dim, embedding_dim)\n",
        "        self.value_projection = nn.Linear(embedding_dim, embedding_dim)\n",
        "        #dropout\n",
        "        self.dropout = nn.Dropout(dropout)\n",
        "        self.out = nn.Linear(embedding_dim, embedding_dim)\n",
        "\n",
        "    def forward(self, query, key, value, mask=None):\n",
        "        # Apply the linear projections\n",
        "        batch_size = query.size(0)\n",
        "        query = self.query_projection(query)\n",
        "        key = self.key_projection(key)\n",
        "        value = self.value_projection(value)\n",
        "        # Reshape the input\n",
        "        query = query.view(batch_size, -1, self.num_heads, self.dim_per_head).transpose(1, 2)\n",
        "        key = key.view(batch_size, -1, self.num_heads, self.dim_per_head).transpose(1, 2)\n",
        "        value = value.view(batch_size, -1, self.num_heads, self.dim_per_head).transpose(1, 2)\n",
        "        # Calculate the attention\n",
        "        scores = self.self_attention(query, key, value, mask)\n",
        "        # Reshape the output\n",
        "        output = scores.transpose(1, 2).contiguous().view(batch_size, -1, self.embedding_dim)\n",
        "        # Apply the linear projection\n",
        "        output = self.out(output)\n",
        "        return output\n",
        "\n",
        "# Norm layer\n",
        "class Norm(nn.Module):\n",
        "    def __init__(self, embedding_dim):\n",
        "        super(Norm, self).__init__()\n",
        "        self.norm = nn.LayerNorm(embedding_dim)\n",
        "\n",
        "    def forward(self, x):\n",
        "        return self.norm(x)\n",
        "\n",
        "\n",
        "# Transformer encoder layer\n",
        "class EncoderLayer(nn.Module):\n",
        "    def __init__(self, embedding_dim, num_heads, ff_dim=2048, dropout=0.1):\n",
        "        super(EncoderLayer, self).__init__()\n",
        "        self.self_attention = MultiHeadAttention(embedding_dim, num_heads, dropout)\n",
        "        #피드포워드 계층\n",
        "        self.feed_forward = nn.Sequential(\n",
        "            nn.Linear(embedding_dim, ff_dim),\n",
        "            nn.ReLU(),\n",
        "            nn.Linear(ff_dim, embedding_dim)\n",
        "        )\n",
        "\n",
        "        self.dropout1 = nn.Dropout(dropout)\n",
        "        self.dropout2 = nn.Dropout(dropout)\n",
        "        self.norm1 = Norm(embedding_dim)\n",
        "        self.norm2 = Norm(embedding_dim)\n",
        "\n",
        "    def forward(self, x, mask=None):\n",
        "        x2 = self.norm1(x)\n",
        "        # Add and Muti-head attention\n",
        "        x = x + self.dropout1(self.self_attention(x2, x2, x2, mask))\n",
        "        x2 = self.norm2(x)\n",
        "        x3=self.feed_forward[0](x2)\n",
        "        x4= self.feed_forward[1](x3)\n",
        "        x5= self.feed_forward[2](x4)\n",
        "        x = x + self.dropout2(x5)\n",
        "        return x\n",
        "\n",
        "# Transformer decoder layer\n",
        "class DecoderLayer(nn.Module):\n",
        "    def __init__(self, embedding_dim, num_heads, ff_dim=2048, dropout=0.1):\n",
        "        super(DecoderLayer, self).__init__()\n",
        "        #masked self attention\n",
        "        self.self_attention = MultiHeadAttention(embedding_dim, num_heads, dropout)\n",
        "        #인코더 디코더 어텐션\n",
        "        self.encoder_attention = MultiHeadAttention(embedding_dim, num_heads, dropout)\n",
        "        self.feed_forward = nn.Sequential(\n",
        "            nn.Linear(embedding_dim, ff_dim),\n",
        "            nn.ReLU(),\n",
        "            nn.Linear(ff_dim, embedding_dim)\n",
        "        )\n",
        "        self.dropout1 = nn.Dropout(dropout)\n",
        "        self.dropout2 = nn.Dropout(dropout)\n",
        "        self.dropout3 = nn.Dropout(dropout)\n",
        "        self.norm1 = Norm(embedding_dim)\n",
        "        self.norm2 = Norm(embedding_dim)\n",
        "        self.norm3 = Norm(embedding_dim)\n",
        "\n",
        "    def forward(self, x, memory, source_mask, target_mask):\n",
        "        x2 = self.norm1(x)\n",
        "        x = x + self.dropout1(self.self_attention(x2, x2, x2, target_mask))\n",
        "        x2 = self.norm2(x)\n",
        "        x = x + self.dropout2(self.encoder_attention(x2, memory, memory, source_mask))\n",
        "        x2 = self.norm3(x)\n",
        "        x = x + self.dropout3(self.feed_forward(x2))\n",
        "        return x\n",
        "\n",
        "# Encoder transformer\n",
        "class Encoder(nn.Module):\n",
        "    def __init__(self, vocab_size, embedding_dim, max_seq_len, num_heads, num_layers, dropout=0.1):\n",
        "        super(Encoder, self).__init__()\n",
        "        self.embedding = nn.Embedding(vocab_size, embedding_dim)\n",
        "        self.num_layers = num_layers\n",
        "        self.num_heads = num_heads\n",
        "        self.embedding_dim = embedding_dim\n",
        "        self.layers = nn.ModuleList([EncoderLayer(embedding_dim, num_heads, 2048, dropout) for _ in range(num_layers)])\n",
        "        self.norm = Norm(embedding_dim)\n",
        "        self.position_embedding = PositionalEncoder(embedding_dim, max_seq_len, dropout)\n",
        "\n",
        "    def forward(self, source, source_mask):\n",
        "        # Embed the source\n",
        "        x = self.embedding(source)\n",
        "        # Add the position embeddings\n",
        "        x = self.position_embedding(x)\n",
        "        # Propagate through the layers\n",
        "        for layer in self.layers:\n",
        "            x = layer(x, source_mask)\n",
        "            a=[]\n",
        "\n",
        "        # Normalize\n",
        "        x = self.norm(x)\n",
        "        return x\n",
        "\n",
        "# Decoder transformer\n",
        "class Decoder(nn.Module):\n",
        "    def __init__(self, vocab_size, embedding_dim, max_seq_len,num_heads, num_layers, dropout=0.1):\n",
        "        super(Decoder, self).__init__()\n",
        "        self.embedding = nn.Embedding(vocab_size, embedding_dim)\n",
        "        self.num_layers = num_layers\n",
        "        self.num_heads = num_heads\n",
        "        self.embedding_dim = embedding_dim\n",
        "        self.layers = nn.ModuleList([DecoderLayer(embedding_dim, num_heads, 2048, dropout) for _ in range(num_layers)])\n",
        "        self.norm = Norm(embedding_dim)\n",
        "        self.position_embedding = PositionalEncoder(embedding_dim, max_seq_len, dropout)\n",
        "\n",
        "    def forward(self, target, memory, source_mask, target_mask):\n",
        "        # Embed the source\n",
        "        x = self.embedding(target)\n",
        "        # Add the position embeddings\n",
        "        x = self.position_embedding(x)\n",
        "        # Propagate through the layers\n",
        "        for layer in self.layers:\n",
        "            x = layer(x, memory, source_mask, target_mask)\n",
        "        # Normalize\n",
        "        x = self.norm(x)\n",
        "        return x\n",
        "\n",
        "\n",
        "# Transformers\n",
        "class Transformer(nn.Module):\n",
        "    def __init__(self, source_vocab_size, target_vocab_size, source_max_seq_len, target_max_seq_len, embedding_dim, num_heads, num_layers, dropout=0.1):\n",
        "        super(Transformer, self).__init__()\n",
        "        self.source_vocab_size = source_vocab_size\n",
        "        self.target_vocab_size = target_vocab_size\n",
        "        self.source_max_seq_len = source_max_seq_len\n",
        "        self.target_max_seq_len = target_max_seq_len\n",
        "        self.embedding_dim = embedding_dim\n",
        "        self.num_heads = num_heads\n",
        "        self.num_layers = num_layers\n",
        "        self.dropout = dropout\n",
        "\n",
        "        self.encoder = Encoder(source_vocab_size, embedding_dim, source_max_seq_len, num_heads, num_layers, dropout)\n",
        "        self.decoder = Decoder(target_vocab_size, embedding_dim, target_max_seq_len, num_heads, num_layers, dropout)\n",
        "        self.final_linear = nn.Linear(embedding_dim, target_vocab_size)\n",
        "        self.dropout = nn.Dropout(dropout)\n",
        "\n",
        "    def forward(self, source, target, source_mask, target_mask):\n",
        "        # Encoder forward pass\n",
        "        memory = self.encoder(source, source_mask)\n",
        "        # Decoder forward pass\n",
        "        output = self.decoder(target, memory, source_mask, target_mask)\n",
        "        # Final linear layer\n",
        "        output = self.dropout(output)\n",
        "        output = self.final_linear(output)\n",
        "        return output\n",
        "\n",
        "    def make_source_mask(self, source_ids, source_pad_id):\n",
        "        return (source_ids != source_pad_id).unsqueeze(-2)\n",
        "\n",
        "    def make_target_mask(self, target_ids):\n",
        "        batch_size, len_target = target_ids.size()\n",
        "        subsequent_mask = (1 - torch.triu(torch.ones((1, len_target, len_target), device=target_ids.device), diagonal=1)).bool()\n",
        "        return subsequent_mask"
      ]
    },
    {
      "cell_type": "code",
      "source": [
        "def main():\n",
        "\n",
        "    def read_data(source_file, target_file):\n",
        "        source_data = open(source_file).read().strip().split(\"\\n\")\n",
        "        target_data = open(target_file).read().strip().split(\"\\n\")\n",
        "        return source_data, target_data\n",
        "\n",
        "    train_src_data, train_trg_data = read_data(configs[\"train_source_data\"], configs[\"train_target_data\"])\n",
        "    valid_src_data, valid_trg_data = read_data(configs[\"valid_source_data\"], configs[\"valid_target_data\"])\n",
        "\n",
        "    source_tokenizer = en_tokenizer\n",
        "    target_tokenizer = de_tokenizer\n",
        "    train_dataset = TrainTranslateDataset(\n",
        "        source_tokenizer=source_tokenizer,\n",
        "        target_tokenizer=target_tokenizer,\n",
        "        source_max_seq_len=configs[\"source_max_seq_len\"],\n",
        "        target_max_seq_len=configs[\"target_max_seq_len\"]\n",
        "    )\n",
        "\n",
        "    train_loaders = torch.utils.data.DataLoader(\n",
        "        train_dataset,\n",
        "        batch_size=configs[\"batch_size\"],\n",
        "        shuffle=False\n",
        "    )\n",
        "    for batch in train_loaders:\n",
        "        print(batch[\"source_ids\"])\n",
        "        print(batch[\"target_ids\"])\n",
        "        break\n",
        "\n",
        "\n",
        "if __name__ == \"__main__\":\n",
        "    main()"
      ],
      "metadata": {
        "colab": {
          "base_uri": "https://localhost:8080/"
        },
        "id": "zvtRTeBMy-9v",
        "outputId": "5a7ef708-591c-4afa-b5e1-4feb1464ec98"
      },
      "execution_count": 25,
      "outputs": [
        {
          "output_type": "stream",
          "name": "stdout",
          "text": [
            "tensor([[ 16,  24,  15,  ...,   3,   3,   3],\n",
            "        [112,  30,   6,  ...,   3,   3,   3],\n",
            "        [  4,  52,  33,  ...,   3,   3,   3],\n",
            "        ...,\n",
            "        [  4,   9,   6,  ...,   3,   3,   3],\n",
            "        [  4,   9,  13,  ...,   3,   3,   3],\n",
            "        [  4,  34, 268,  ...,   3,   3,   3]])\n",
            "tensor([[ 1, 18, 26,  ...,  3,  3,  3],\n",
            "        [ 1, 76, 30,  ...,  3,  3,  3],\n",
            "        [ 1,  5, 66,  ...,  3,  3,  3],\n",
            "        ...,\n",
            "        [ 1,  5, 13,  ...,  3,  3,  3],\n",
            "        [ 1,  5, 13,  ...,  3,  3,  3],\n",
            "        [ 1,  5, 26,  ...,  3,  3,  3]])\n"
          ]
        }
      ]
    },
    {
      "cell_type": "code",
      "source": [
        "import torch\n",
        "import torch.nn as nn\n",
        "import time\n",
        "import torch.nn.functional as F\n",
        "from transformers import AutoTokenizer\n",
        "from tqdm import tqdm\n",
        "import numpy as np\n",
        "from datetime import datetime, timedelta\n",
        "import json\n",
        "import os\n",
        "os.environ[\"TOKENIZERS_PARALLELISM\"] = \"false\"\n",
        "\n",
        "\n",
        "\n",
        "def validate_epoch(model, valid_loader, epoch, n_epochs, source_pad_id, target_pad_id, device):\n",
        "    model.eval()\n",
        "    total_loss = []\n",
        "    bar = tqdm(enumerate(valid_loader), total=len(valid_loader), desc=f\"Validating epoch {epoch+1}/{n_epochs}\")\n",
        "    for i, batch in bar:\n",
        "        source, target = batch[\"source_ids\"].to(device), batch[\"target_ids\"].to(device)\n",
        "        target_input = target[:, :-1]\n",
        "        source_mask, target_mask = model.make_source_mask(source, source_pad_id), model.make_target_mask(target_input)\n",
        "        preds = model(source, target_input, source_mask, target_mask)\n",
        "        gold = target[:, 1:].contiguous().view(-1)\n",
        "        loss = F.cross_entropy(preds.view(-1, preds.size(-1)), gold, ignore_index=target_pad_id)\n",
        "        total_loss.append(loss.item())\n",
        "        bar.set_postfix(loss=total_loss[-1])\n",
        "\n",
        "    valid_loss = sum(total_loss) / len(total_loss)\n",
        "    return valid_loss, total_loss\n",
        "\n",
        "\n",
        "def train_epoch(model, train_loader, optim, epoch, n_epochs, source_pad_id, target_pad_id, device):\n",
        "    model.train()\n",
        "    total_loss = []\n",
        "    bar = tqdm(enumerate(train_loader), total=len(train_loader), desc=f\"Training epoch {epoch+1}/{n_epochs}\")\n",
        "    for i, batch in bar:\n",
        "        source, target = batch[\"source_ids\"].to(device), batch[\"target_ids\"].to(device)\n",
        "        target_input = target[:, :-1]\n",
        "        source_mask, target_mask = model.make_source_mask(source, source_pad_id), model.make_target_mask(target_input)\n",
        "        preds = model(source, target_input, source_mask, target_mask)\n",
        "        optim.zero_grad()\n",
        "        gold = target[:, 1:].contiguous().view(-1)\n",
        "        loss = F.cross_entropy(preds.view(-1, preds.size(-1)), gold, ignore_index=target_pad_id)\n",
        "        loss.backward()\n",
        "        optim.step()\n",
        "        total_loss.append(loss.item())\n",
        "        bar.set_postfix(loss=total_loss[-1])\n",
        "\n",
        "    train_loss = sum(total_loss) / len(total_loss)\n",
        "    return train_loss, total_loss\n",
        "\n",
        "\n",
        "def train(model, train_loader, valid_loader, optim, n_epochs, source_pad_id, target_pad_id, device, model_path, early_stopping):\n",
        "    log_dir = \"./logs\"\n",
        "    if not os.path.exists(log_dir):\n",
        "        os.makedirs(log_dir)\n",
        "\n",
        "    best_val_loss = np.Inf\n",
        "    best_epoch = 1\n",
        "    count_early_stop = 0\n",
        "    log = {\"train_loss\": [], \"valid_loss\": [], \"train_batch_loss\": [], \"valid_batch_loss\": []}\n",
        "    for epoch in range(n_epochs):\n",
        "        train_loss, train_losses = train_epoch(\n",
        "            model=model,\n",
        "            train_loader=train_loader,\n",
        "            optim=optim,\n",
        "            epoch=epoch,\n",
        "            n_epochs=n_epochs,\n",
        "            source_pad_id=source_pad_id,\n",
        "            target_pad_id=target_pad_id,\n",
        "            device=device\n",
        "        )\n",
        "        valid_loss, valid_losses = validate_epoch(\n",
        "            model=model,\n",
        "            valid_loader=valid_loader,\n",
        "            epoch=epoch,\n",
        "            n_epochs=n_epochs,\n",
        "            source_pad_id=en_token2id['<pad>'],\n",
        "            target_pad_id=de_token2id['<pad>'],\n",
        "            device=device\n",
        "        )\n",
        "\n",
        "        if valid_loss < best_val_loss:\n",
        "            best_val_loss = valid_loss\n",
        "            best_epoch = epoch + 1\n",
        "            # save model\n",
        "            torch.save(model.state_dict(), model_path)\n",
        "            print(\"---- Detect improment and save the best model ----\")\n",
        "            count_early_stop = 0\n",
        "        else:\n",
        "            count_early_stop += 1\n",
        "            if count_early_stop >= early_stopping:\n",
        "                print(\"---- Early stopping ----\")\n",
        "                break\n",
        "\n",
        "        torch.cuda.empty_cache()\n",
        "\n",
        "        log[\"train_loss\"].append(train_loss)\n",
        "        log[\"valid_loss\"].append(valid_loss)\n",
        "        log[\"train_batch_loss\"].extend(train_losses)\n",
        "        log[\"valid_batch_loss\"].extend(valid_losses)\n",
        "        log[\"best_epoch\"] = best_epoch\n",
        "        log[\"best_val_loss\"] = best_val_loss\n",
        "        log[\"last_epoch\"] = epoch + 1\n",
        "\n",
        "        with open(os.path.join(log_dir, \"log.json\"), \"w\") as f:\n",
        "            json.dump(log, f)\n",
        "\n",
        "        print(f\"---- Epoch {epoch+1}/{n_epochs} | Train loss: {train_loss:.4f} | Valid loss: {valid_loss:.4f} | Best Valid loss: {best_val_loss:.4f} | Best epoch: {best_epoch}\")\n",
        "\n",
        "    return log\n",
        "\n",
        "\n",
        "def main():\n",
        "    train_src_data, train_trg_data = read_data(configs[\"train_source_data\"], configs[\"train_target_data\"])\n",
        "    valid_src_data, valid_trg_data = read_data(configs[\"valid_source_data\"], configs[\"valid_target_data\"])\n",
        "    source_tokenizer = en_tokenizer\n",
        "    target_tokenizer = de_tokenizer\n",
        "\n",
        "    model = Transformer(\n",
        "        source_vocab_size=10000,\n",
        "        target_vocab_size=10000,\n",
        "        embedding_dim=configs[\"embedding_dim\"],\n",
        "        source_max_seq_len=configs[\"source_max_seq_len\"],\n",
        "        target_max_seq_len=configs[\"target_max_seq_len\"],\n",
        "        num_layers=configs[\"n_layers\"],\n",
        "        num_heads=configs[\"n_heads\"],\n",
        "        dropout=configs[\"dropout\"]\n",
        "    )\n",
        "\n",
        "    for p in model.parameters():\n",
        "        if p.dim() > 1:\n",
        "            nn.init.xavier_uniform_(p)\n",
        "\n",
        "    optim = torch.optim.Adam(model.parameters(), lr=configs[\"lr\"], betas=(0.9, 0.98), eps=1e-9)\n",
        "\n",
        "    train_dataset = TrainTranslateDataset(\n",
        "        source_tokenizer=source_tokenizer,\n",
        "        target_tokenizer=target_tokenizer,\n",
        "        source_max_seq_len=configs[\"source_max_seq_len\"],\n",
        "        target_max_seq_len=configs[\"target_max_seq_len\"],\n",
        "    )\n",
        "    valid_dataset = ValidTranslateDataset(\n",
        "        source_tokenizer=source_tokenizer,\n",
        "        target_tokenizer=target_tokenizer,\n",
        "        source_max_seq_len=configs[\"source_max_seq_len\"],\n",
        "        target_max_seq_len=configs[\"target_max_seq_len\"],\n",
        "    )\n",
        "\n",
        "    device = torch.device(configs[\"device\"])\n",
        "    train_loader = torch.utils.data.DataLoader(\n",
        "        train_dataset,\n",
        "        batch_size=configs[\"batch_size\"],\n",
        "        shuffle=True\n",
        "    )\n",
        "    valid_loader = torch.utils.data.DataLoader(\n",
        "        valid_dataset,\n",
        "        batch_size=configs[\"batch_size\"],\n",
        "        shuffle=False\n",
        "    )\n",
        "\n",
        "    model.to(configs[\"device\"])\n",
        "    train(model=model,\n",
        "        train_loader=train_loader,\n",
        "        valid_loader=valid_loader,\n",
        "        optim=optim,\n",
        "        n_epochs=configs[\"n_epochs\"],\n",
        "        source_pad_id=en_token2id['<pad>'],\n",
        "        target_pad_id=de_token2id['<pad>'],\n",
        "        device=device,\n",
        "        model_path=configs[\"model_path\"],\n",
        "        early_stopping=configs[\"early_stopping\"]\n",
        "    )\n",
        "\n",
        "    plot_loss(log_path=\"./logs/log.json\", log_dir=\"./logs\")\n",
        "\n",
        "if __name__ == \"__main__\":\n",
        "    main()"
      ],
      "metadata": {
        "colab": {
          "base_uri": "https://localhost:8080/",
          "height": 1000
        },
        "id": "UlDxthxmr9ks",
        "outputId": "5b7ecceb-c3fb-4cf3-d07c-e5217e88a16f"
      },
      "execution_count": 26,
      "outputs": [
        {
          "output_type": "stream",
          "name": "stderr",
          "text": [
            "Training epoch 1/500: 100%|██████████| 580/580 [03:17<00:00,  2.94it/s, loss=3.77]\n",
            "Validating epoch 1/500: 100%|██████████| 21/21 [00:02<00:00,  8.67it/s, loss=3.6]\n"
          ]
        },
        {
          "output_type": "stream",
          "name": "stdout",
          "text": [
            "---- Detect improment and save the best model ----\n",
            "---- Epoch 1/500 | Train loss: 4.6461 | Valid loss: 3.7481 | Best Valid loss: 3.7481 | Best epoch: 1\n"
          ]
        },
        {
          "output_type": "stream",
          "name": "stderr",
          "text": [
            "Training epoch 2/500: 100%|██████████| 580/580 [03:16<00:00,  2.95it/s, loss=3.52]\n",
            "Validating epoch 2/500: 100%|██████████| 21/21 [00:02<00:00,  8.67it/s, loss=2.8]\n"
          ]
        },
        {
          "output_type": "stream",
          "name": "stdout",
          "text": [
            "---- Detect improment and save the best model ----\n",
            "---- Epoch 2/500 | Train loss: 3.5411 | Valid loss: 3.0393 | Best Valid loss: 3.0393 | Best epoch: 2\n"
          ]
        },
        {
          "output_type": "stream",
          "name": "stderr",
          "text": [
            "Training epoch 3/500: 100%|██████████| 580/580 [03:16<00:00,  2.95it/s, loss=2.99]\n",
            "Validating epoch 3/500: 100%|██████████| 21/21 [00:02<00:00,  8.62it/s, loss=2.41]\n"
          ]
        },
        {
          "output_type": "stream",
          "name": "stdout",
          "text": [
            "---- Detect improment and save the best model ----\n",
            "---- Epoch 3/500 | Train loss: 3.0455 | Valid loss: 2.6274 | Best Valid loss: 2.6274 | Best epoch: 3\n"
          ]
        },
        {
          "output_type": "stream",
          "name": "stderr",
          "text": [
            "Training epoch 4/500: 100%|██████████| 580/580 [03:16<00:00,  2.95it/s, loss=2.56]\n",
            "Validating epoch 4/500: 100%|██████████| 21/21 [00:02<00:00,  8.66it/s, loss=2.16]\n"
          ]
        },
        {
          "output_type": "stream",
          "name": "stdout",
          "text": [
            "---- Detect improment and save the best model ----\n",
            "---- Epoch 4/500 | Train loss: 2.7026 | Valid loss: 2.3413 | Best Valid loss: 2.3413 | Best epoch: 4\n"
          ]
        },
        {
          "output_type": "stream",
          "name": "stderr",
          "text": [
            "Training epoch 5/500: 100%|██████████| 580/580 [03:16<00:00,  2.95it/s, loss=2.03]\n",
            "Validating epoch 5/500: 100%|██████████| 21/21 [00:02<00:00,  8.64it/s, loss=2.04]\n"
          ]
        },
        {
          "output_type": "stream",
          "name": "stdout",
          "text": [
            "---- Detect improment and save the best model ----\n",
            "---- Epoch 5/500 | Train loss: 2.4559 | Valid loss: 2.1495 | Best Valid loss: 2.1495 | Best epoch: 5\n"
          ]
        },
        {
          "output_type": "stream",
          "name": "stderr",
          "text": [
            "Training epoch 6/500: 100%|██████████| 580/580 [03:16<00:00,  2.95it/s, loss=2.28]\n",
            "Validating epoch 6/500: 100%|██████████| 21/21 [00:02<00:00,  8.67it/s, loss=1.97]\n"
          ]
        },
        {
          "output_type": "stream",
          "name": "stdout",
          "text": [
            "---- Detect improment and save the best model ----\n",
            "---- Epoch 6/500 | Train loss: 2.2649 | Valid loss: 2.0263 | Best Valid loss: 2.0263 | Best epoch: 6\n"
          ]
        },
        {
          "output_type": "stream",
          "name": "stderr",
          "text": [
            "Training epoch 7/500: 100%|██████████| 580/580 [03:16<00:00,  2.95it/s, loss=2.08]\n",
            "Validating epoch 7/500: 100%|██████████| 21/21 [00:02<00:00,  8.59it/s, loss=1.75]\n"
          ]
        },
        {
          "output_type": "stream",
          "name": "stdout",
          "text": [
            "---- Detect improment and save the best model ----\n",
            "---- Epoch 7/500 | Train loss: 2.1192 | Valid loss: 1.9163 | Best Valid loss: 1.9163 | Best epoch: 7\n"
          ]
        },
        {
          "output_type": "stream",
          "name": "stderr",
          "text": [
            "Training epoch 8/500: 100%|██████████| 580/580 [03:16<00:00,  2.95it/s, loss=1.94]\n",
            "Validating epoch 8/500: 100%|██████████| 21/21 [00:02<00:00,  8.59it/s, loss=1.77]\n"
          ]
        },
        {
          "output_type": "stream",
          "name": "stdout",
          "text": [
            "---- Detect improment and save the best model ----\n",
            "---- Epoch 8/500 | Train loss: 1.9933 | Valid loss: 1.8267 | Best Valid loss: 1.8267 | Best epoch: 8\n"
          ]
        },
        {
          "output_type": "stream",
          "name": "stderr",
          "text": [
            "Training epoch 9/500: 100%|██████████| 580/580 [03:16<00:00,  2.95it/s, loss=1.88]\n",
            "Validating epoch 9/500: 100%|██████████| 21/21 [00:02<00:00,  8.66it/s, loss=1.64]\n"
          ]
        },
        {
          "output_type": "stream",
          "name": "stdout",
          "text": [
            "---- Detect improment and save the best model ----\n",
            "---- Epoch 9/500 | Train loss: 1.8905 | Valid loss: 1.7557 | Best Valid loss: 1.7557 | Best epoch: 9\n"
          ]
        },
        {
          "output_type": "stream",
          "name": "stderr",
          "text": [
            "Training epoch 10/500: 100%|██████████| 580/580 [03:16<00:00,  2.95it/s, loss=1.77]\n",
            "Validating epoch 10/500: 100%|██████████| 21/21 [00:02<00:00,  8.64it/s, loss=1.62]\n"
          ]
        },
        {
          "output_type": "stream",
          "name": "stdout",
          "text": [
            "---- Detect improment and save the best model ----\n",
            "---- Epoch 10/500 | Train loss: 1.8005 | Valid loss: 1.7193 | Best Valid loss: 1.7193 | Best epoch: 10\n"
          ]
        },
        {
          "output_type": "stream",
          "name": "stderr",
          "text": [
            "Training epoch 11/500: 100%|██████████| 580/580 [03:16<00:00,  2.95it/s, loss=1.7]\n",
            "Validating epoch 11/500: 100%|██████████| 21/21 [00:02<00:00,  8.64it/s, loss=1.56]\n"
          ]
        },
        {
          "output_type": "stream",
          "name": "stdout",
          "text": [
            "---- Detect improment and save the best model ----\n",
            "---- Epoch 11/500 | Train loss: 1.7257 | Valid loss: 1.6758 | Best Valid loss: 1.6758 | Best epoch: 11\n"
          ]
        },
        {
          "output_type": "stream",
          "name": "stderr",
          "text": [
            "Training epoch 12/500: 100%|██████████| 580/580 [03:16<00:00,  2.95it/s, loss=1.64]\n",
            "Validating epoch 12/500: 100%|██████████| 21/21 [00:02<00:00,  8.64it/s, loss=1.49]\n"
          ]
        },
        {
          "output_type": "stream",
          "name": "stdout",
          "text": [
            "---- Detect improment and save the best model ----\n",
            "---- Epoch 12/500 | Train loss: 1.6564 | Valid loss: 1.6341 | Best Valid loss: 1.6341 | Best epoch: 12\n"
          ]
        },
        {
          "output_type": "stream",
          "name": "stderr",
          "text": [
            "Training epoch 13/500: 100%|██████████| 580/580 [03:16<00:00,  2.95it/s, loss=1.49]\n",
            "Validating epoch 13/500: 100%|██████████| 21/21 [00:02<00:00,  8.61it/s, loss=1.48]\n"
          ]
        },
        {
          "output_type": "stream",
          "name": "stdout",
          "text": [
            "---- Detect improment and save the best model ----\n",
            "---- Epoch 13/500 | Train loss: 1.5961 | Valid loss: 1.6131 | Best Valid loss: 1.6131 | Best epoch: 13\n"
          ]
        },
        {
          "output_type": "stream",
          "name": "stderr",
          "text": [
            "Training epoch 14/500: 100%|██████████| 580/580 [03:16<00:00,  2.95it/s, loss=1.53]\n",
            "Validating epoch 14/500: 100%|██████████| 21/21 [00:02<00:00,  8.46it/s, loss=1.45]\n"
          ]
        },
        {
          "output_type": "stream",
          "name": "stdout",
          "text": [
            "---- Detect improment and save the best model ----\n",
            "---- Epoch 14/500 | Train loss: 1.5388 | Valid loss: 1.5826 | Best Valid loss: 1.5826 | Best epoch: 14\n"
          ]
        },
        {
          "output_type": "stream",
          "name": "stderr",
          "text": [
            "Training epoch 15/500: 100%|██████████| 580/580 [03:16<00:00,  2.95it/s, loss=1.51]\n",
            "Validating epoch 15/500: 100%|██████████| 21/21 [00:02<00:00,  8.61it/s, loss=1.43]\n"
          ]
        },
        {
          "output_type": "stream",
          "name": "stdout",
          "text": [
            "---- Epoch 15/500 | Train loss: 1.4848 | Valid loss: 1.5954 | Best Valid loss: 1.5826 | Best epoch: 14\n"
          ]
        },
        {
          "output_type": "stream",
          "name": "stderr",
          "text": [
            "Training epoch 16/500: 100%|██████████| 580/580 [03:16<00:00,  2.95it/s, loss=1.64]\n",
            "Validating epoch 16/500: 100%|██████████| 21/21 [00:02<00:00,  8.64it/s, loss=1.35]\n"
          ]
        },
        {
          "output_type": "stream",
          "name": "stdout",
          "text": [
            "---- Detect improment and save the best model ----\n",
            "---- Epoch 16/500 | Train loss: 1.4387 | Valid loss: 1.5442 | Best Valid loss: 1.5442 | Best epoch: 16\n"
          ]
        },
        {
          "output_type": "stream",
          "name": "stderr",
          "text": [
            "Training epoch 17/500: 100%|██████████| 580/580 [03:16<00:00,  2.95it/s, loss=1.31]\n",
            "Validating epoch 17/500: 100%|██████████| 21/21 [00:02<00:00,  8.67it/s, loss=1.42]\n"
          ]
        },
        {
          "output_type": "stream",
          "name": "stdout",
          "text": [
            "---- Detect improment and save the best model ----\n",
            "---- Epoch 17/500 | Train loss: 1.3923 | Valid loss: 1.5244 | Best Valid loss: 1.5244 | Best epoch: 17\n"
          ]
        },
        {
          "output_type": "stream",
          "name": "stderr",
          "text": [
            "Training epoch 18/500: 100%|██████████| 580/580 [03:16<00:00,  2.95it/s, loss=1.37]\n",
            "Validating epoch 18/500: 100%|██████████| 21/21 [00:02<00:00,  8.65it/s, loss=1.43]\n"
          ]
        },
        {
          "output_type": "stream",
          "name": "stdout",
          "text": [
            "---- Epoch 18/500 | Train loss: 1.3494 | Valid loss: 1.5368 | Best Valid loss: 1.5244 | Best epoch: 17\n"
          ]
        },
        {
          "output_type": "stream",
          "name": "stderr",
          "text": [
            "Training epoch 19/500: 100%|██████████| 580/580 [03:16<00:00,  2.95it/s, loss=1.51]\n",
            "Validating epoch 19/500: 100%|██████████| 21/21 [00:02<00:00,  8.66it/s, loss=1.38]\n"
          ]
        },
        {
          "output_type": "stream",
          "name": "stdout",
          "text": [
            "---- Detect improment and save the best model ----\n",
            "---- Epoch 19/500 | Train loss: 1.3108 | Valid loss: 1.5012 | Best Valid loss: 1.5012 | Best epoch: 19\n"
          ]
        },
        {
          "output_type": "stream",
          "name": "stderr",
          "text": [
            "Training epoch 20/500: 100%|██████████| 580/580 [03:16<00:00,  2.95it/s, loss=1.17]\n",
            "Validating epoch 20/500: 100%|██████████| 21/21 [00:02<00:00,  8.56it/s, loss=1.41]\n"
          ]
        },
        {
          "output_type": "stream",
          "name": "stdout",
          "text": [
            "---- Epoch 20/500 | Train loss: 1.2698 | Valid loss: 1.5125 | Best Valid loss: 1.5012 | Best epoch: 19\n"
          ]
        },
        {
          "output_type": "stream",
          "name": "stderr",
          "text": [
            "Training epoch 21/500: 100%|██████████| 580/580 [03:16<00:00,  2.95it/s, loss=1.29]\n",
            "Validating epoch 21/500: 100%|██████████| 21/21 [00:02<00:00,  8.65it/s, loss=1.38]\n"
          ]
        },
        {
          "output_type": "stream",
          "name": "stdout",
          "text": [
            "---- Detect improment and save the best model ----\n",
            "---- Epoch 21/500 | Train loss: 1.2349 | Valid loss: 1.4891 | Best Valid loss: 1.4891 | Best epoch: 21\n"
          ]
        },
        {
          "output_type": "stream",
          "name": "stderr",
          "text": [
            "Training epoch 22/500: 100%|██████████| 580/580 [03:16<00:00,  2.95it/s, loss=1.21]\n",
            "Validating epoch 22/500: 100%|██████████| 21/21 [00:02<00:00,  8.64it/s, loss=1.37]\n"
          ]
        },
        {
          "output_type": "stream",
          "name": "stdout",
          "text": [
            "---- Epoch 22/500 | Train loss: 1.2009 | Valid loss: 1.5075 | Best Valid loss: 1.4891 | Best epoch: 21\n"
          ]
        },
        {
          "output_type": "stream",
          "name": "stderr",
          "text": [
            "Training epoch 23/500: 100%|██████████| 580/580 [03:16<00:00,  2.95it/s, loss=1.07]\n",
            "Validating epoch 23/500: 100%|██████████| 21/21 [00:02<00:00,  8.65it/s, loss=1.3]\n"
          ]
        },
        {
          "output_type": "stream",
          "name": "stdout",
          "text": [
            "---- Epoch 23/500 | Train loss: 1.1665 | Valid loss: 1.4912 | Best Valid loss: 1.4891 | Best epoch: 21\n"
          ]
        },
        {
          "output_type": "stream",
          "name": "stderr",
          "text": [
            "Training epoch 24/500: 100%|██████████| 580/580 [03:16<00:00,  2.95it/s, loss=1.35]\n",
            "Validating epoch 24/500: 100%|██████████| 21/21 [00:02<00:00,  8.66it/s, loss=1.34]\n"
          ]
        },
        {
          "output_type": "stream",
          "name": "stdout",
          "text": [
            "---- Epoch 24/500 | Train loss: 1.1321 | Valid loss: 1.4953 | Best Valid loss: 1.4891 | Best epoch: 21\n"
          ]
        },
        {
          "output_type": "stream",
          "name": "stderr",
          "text": [
            "Training epoch 25/500: 100%|██████████| 580/580 [03:16<00:00,  2.95it/s, loss=0.971]\n",
            "Validating epoch 25/500: 100%|██████████| 21/21 [00:02<00:00,  8.62it/s, loss=1.3]\n"
          ]
        },
        {
          "output_type": "stream",
          "name": "stdout",
          "text": [
            "---- Epoch 25/500 | Train loss: 1.0993 | Valid loss: 1.4925 | Best Valid loss: 1.4891 | Best epoch: 21\n"
          ]
        },
        {
          "output_type": "stream",
          "name": "stderr",
          "text": [
            "Training epoch 26/500: 100%|██████████| 580/580 [03:16<00:00,  2.95it/s, loss=1.12]\n",
            "Validating epoch 26/500: 100%|██████████| 21/21 [00:02<00:00,  8.65it/s, loss=1.3]\n"
          ]
        },
        {
          "output_type": "stream",
          "name": "stdout",
          "text": [
            "---- Early stopping ----\n"
          ]
        },
        {
          "output_type": "display_data",
          "data": {
            "text/plain": [
              "<Figure size 640x480 with 1 Axes>"
            ],
            "image/png": "[encoded data removed]"
          },
          "metadata": {}
        },
        {
          "output_type": "display_data",
          "data": {
            "text/plain": [
              "<Figure size 640x480 with 1 Axes>"
            ],
            "image/png": "[encoded data removed]"
          },
          "metadata": {}
        }
      ]
    },
    {
      "cell_type": "code",
      "source": [
        "import torch\n",
        "import torch.nn as nn\n",
        "import torch.nn.functional as F\n",
        "import time\n",
        "import re\n",
        "import json\n",
        "from tqdm import tqdm\n",
        "from torchtext.data.metrics import bleu_score\n",
        "\n",
        "\n",
        "from nltk.translate.bleu_score import corpus_bleu, sentence_bleu\n",
        "\n",
        "from nltk.translate.bleu_score import SmoothingFunction\n",
        "smoothie = SmoothingFunction()\n",
        "\n",
        "def tgt_decode(ids):\n",
        "        sentence = list(map(lambda x: de_id2token[x], ids))[1:-1]\n",
        "        return \" \".join(sentence)\n",
        "\n",
        "\n",
        "def load_model_tokenizer(configs):\n",
        "    \"\"\"\n",
        "    This function will load model and tokenizer from pretrained model and tokenizer\n",
        "    \"\"\"\n",
        "    device = torch.device(configs[\"device\"])\n",
        "    source_tokenizer = en_tokenizer\n",
        "    target_tokenizer = de_tokenizer\n",
        "\n",
        "    # Load model Transformer\n",
        "    model = Transformer(\n",
        "        source_vocab_size=10000,\n",
        "        target_vocab_size=10000,\n",
        "        embedding_dim=configs[\"embedding_dim\"],\n",
        "        source_max_seq_len=configs[\"source_max_seq_len\"],\n",
        "        target_max_seq_len=configs[\"target_max_seq_len\"],\n",
        "        num_layers=configs[\"n_layers\"],\n",
        "        num_heads=configs[\"n_heads\"],\n",
        "        dropout=configs[\"dropout\"]\n",
        "    )\n",
        "    model.load_state_dict(torch.load(configs[\"model_path\"],map_location=torch.device('cpu')))\n",
        "    model.eval()\n",
        "    model.to(device)\n",
        "    print(f\"Done load model on the {device} device\")\n",
        "    return model, source_tokenizer, target_tokenizer\n",
        "\n",
        "def test_pad_features(pad_id, s):\n",
        "     for i in range(len(s)):\n",
        "      src_padding = np.full(256-len(s), pad_id, dtype=int)\n",
        "      src_features= s.extend(src_padding)\n",
        "     return s\n",
        "\n",
        "test_source_data, test_target_data = read_data(configs[\"test_source_data\"], configs[\"test_target_data\"])\n",
        "\n",
        "\n",
        "def translate(model, sentence, source_tokenizer, target_tokenizer, source_max_seq_len=256,\n",
        "    target_max_seq_len=256, beam_size=3, device=torch.device(\"cpu\"), print_process=False):\n",
        "    \"\"\"\n",
        "    This funciton will translate give a source sentence and return target sentence using beam search\n",
        "    \"\"\"\n",
        "    source_tensor = torch.tensor(sentence).unsqueeze(0).to(device)\n",
        "    # Create source sentence mask\n",
        "    source_mask = model.make_source_mask(source_tensor, pad_token_id).to(device)\n",
        "    # Feed forward Encoder\n",
        "    encoder_output = model.encoder.forward(source_tensor, source_mask)\n",
        "    # Initialize beam list\n",
        "    beams = [([sos_token_id], 0)]\n",
        "    completed = []\n",
        "\n",
        "    # Start decoding\n",
        "    for _ in range(target_max_seq_len):\n",
        "        new_beams = []\n",
        "        for beam in beams:\n",
        "            # Get input token\n",
        "            input_token = torch.tensor([beam[0]]).to(device)\n",
        "            # Create mask\n",
        "            target_mask = model.make_target_mask(input_token).to(device)\n",
        "            # Decoder forward pass\n",
        "            pred = model.decoder.forward(input_token, encoder_output, source_mask, target_mask)\n",
        "            # Forward to linear classify token in vocab and Softmax\n",
        "            pred = F.softmax(model.final_linear(pred), dim=-1)\n",
        "            # Get tail predict token\n",
        "            pred = pred[:, -1, :].view(-1)\n",
        "            # Get top k tokens\n",
        "            top_k_scores, top_k_tokens = pred.topk(beam_size)\n",
        "            # Update beams\n",
        "            for i in range(beam_size):\n",
        "                new_beams.append((beam[0] + [top_k_tokens[i].item()], beam[1] + top_k_scores[i].item()))\n",
        "\n",
        "        import copy\n",
        "        beams = copy.deepcopy(new_beams)\n",
        "        # Sort beams by score\n",
        "        beams = sorted(beams, key=lambda x: x[1], reverse=True)[:beam_size]\n",
        "        # Add completed beams to completed list and reduce beam size\n",
        "        for beam in beams:\n",
        "            if beam[0][-1] == eos_token_id:\n",
        "                completed.append(beam)\n",
        "                beams.remove(beam)\n",
        "                beam_size -= 1\n",
        "\n",
        "        if beam_size == 0:\n",
        "            break\n",
        "\n",
        "\n",
        "    # Sort the completed beams\n",
        "    completed.sort(key=lambda x: x[1], reverse=True)\n",
        "    # Get target sentence tokens\n",
        "    target_tokens = completed[0][0]\n",
        "    # Convert target sentence from tokens to string\n",
        "    target_sentence = tgt_decode(target_tokens)\n",
        "\n",
        "    return target_sentence\n",
        "\n",
        "\n",
        "def preprocess_seq(seq):\n",
        "        seq = re.sub(r\"[\\*\\\"“”\\n\\…\\+\\-\\/\\=‘•:\\|’\\!;]\", \" \", str(seq))\n",
        "        seq = re.sub(r\"[ ]+\", \" \", seq)\n",
        "        seq = re.sub(r\"\\!+\", \"!\", seq)\n",
        "        seq = re.sub(r\"\\,+\", \",\", seq)\n",
        "        seq = re.sub(r\"\\?+\", \"?\", seq)\n",
        "        seq = seq.lower()\n",
        "        return seq\n",
        "\n",
        "def calculate_bleu_score(model, source_tokenizer, target_tokenizer, configs):\n",
        "    device = torch.device(configs[\"device\"])\n",
        "    valid_src_data, valid_trg_data = read_data(configs[\"test_source_data\"], configs[\"test_target_data\"])\n",
        "\n",
        "    pred_sents = []\n",
        "\n",
        "    hypotheses=[]\n",
        "    for sentence in tqdm(valid_src_data):\n",
        "      preprocessed=preprocess_seq(sentence)\n",
        "      pred_sents.append(preprocessed)\n",
        "      for en in pred_sents:\n",
        "        source_before_padding=src_encode(en)\n",
        "      source_after_padding=test_pad_features(pad_token_id,source_before_padding)\n",
        "\n",
        "      pred_trg = translate(model, source_after_padding, source_tokenizer, target_tokenizer, configs[\"source_max_seq_len\"], configs[\"target_max_seq_len\"], configs[\"beam_size\"], device)\n",
        "      hypotheses.append(pred_trg)\n",
        "\n",
        "    references=[[preprocess_seq(sent).split()] for sent in valid_trg_data]\n",
        "    hypothesis=[sent.split() for sent in hypotheses]\n",
        "    print(references)\n",
        "    print(hypothesis)\n",
        "    bleu_score=corpus_bleu(references, hypothesis, weights=(0.25,0.25,0.25,0.25))\n",
        "    print(bleu_score)\n",
        "\n",
        "\n",
        "\n",
        "def main():\n",
        "    model, source_tokenizer, target_tokenizer = load_model_tokenizer(configs)\n",
        "    bleus = calculate_bleu_score(model, source_tokenizer, target_tokenizer, configs)\n",
        "\n",
        "if __name__ == \"__main__\":\n",
        "    main()"
      ],
      "metadata": {
        "colab": {
          "base_uri": "https://localhost:8080/"
        },
        "id": "j29lu8UXcMsm",
        "outputId": "a36f0a32-900b-4182-8d30-9b639e8f4ef3"
      },
      "execution_count": 27,
      "outputs": [
        {
          "output_type": "stream",
          "name": "stdout",
          "text": [
            "Done load model on the cuda:0 device\n"
          ]
        },
        {
          "output_type": "stream",
          "name": "stderr",
          "text": [
            "100%|██████████| 30/30 [00:13<00:00,  2.27it/s]"
          ]
        },
        {
          "output_type": "stream",
          "name": "stdout",
          "text": [
            "[[['ein', 'mann', 'mit', 'einem', 'orangefarbenen', 'hut,', 'der', 'etwas', 'anstarrt.']], [['ein', 'boston', 'terrier', 'läuft', 'über', 'saftig', 'grünes', 'gras', 'vor', 'einem', 'weißen', 'zaun.']], [['ein', 'mädchen', 'in', 'einem', 'karateanzug', 'bricht', 'ein', 'brett', 'mit', 'einem', 'tritt.']], [['fünf', 'leute', 'in', 'winterjacken', 'und', 'mit', 'helmen', 'stehen', 'im', 'schnee', 'mit', 'schneemobilen', 'im', 'hintergrund.']], [['leute', 'reparieren', 'das', 'dach', 'eines', 'hauses.']], [['ein', 'hell', 'gekleideter', 'mann', 'fotografiert', 'eine', 'gruppe', 'von', 'männern', 'in', 'dunklen', 'anzügen', 'und', 'mit', 'hüten,', 'die', 'um', 'eine', 'frau', 'in', 'einem', 'trägerlosen', 'kleid', 'herum', 'stehen.']], [['eine', 'gruppe', 'von', 'menschen', 'steht', 'vor', 'einem', 'iglu.']], [['ein', 'junge', 'in', 'einem', 'roten', 'trikot', 'versucht,', 'die', 'home', 'base', 'zu', 'erreichen,', 'während', 'der', 'catcher', 'im', 'blauen', 'trikot', 'versucht,', 'ihn', 'zu', 'fangen.']], [['ein', 'typ', 'arbeitet', 'an', 'einem', 'gebäude.']], [['ein', 'mann', 'in', 'einer', 'weste', 'sitzt', 'auf', 'einem', 'stuhl', 'und', 'hält', 'magazine.']], [['eine', 'mutter', 'und', 'ihr', 'kleiner', 'sohn', 'genießen', 'einen', 'schönen', 'tag', 'im', 'freien.']], [['männer,', 'die', 'volleyball', 'spielen,', 'wobei', 'ein', 'mann', 'den', 'ball', 'nicht', 'trifft,', 'während', 'seine', 'hände', 'immer', 'noch', 'in', 'der', 'luft', 'sind.']], [['eine', 'frau,', 'die', 'in', 'einer', 'küche', 'eine', 'schale', 'mit', 'essen', 'hält.']], [['ein', 'sitzender', 'mann,', 'der', 'an', 'einem', 'tisch', 'in', 'seinem', 'haus', 'mit', 'einem', 'werkzeug', 'arbeitet.']], [['drei', 'leute', 'sitzen', 'in', 'einer', 'höhle.']], [['ein', 'mädchen', 'in', 'einem', 'jeanskleid', 'läuft', 'über', 'einen', 'erhöhten', 'schwebebalken.']], [['eine', 'blondine', 'hält', 'mit', 'einem', 'mann', 'im', 'sand', 'händchen.']], [['eine', 'frau', 'in', 'einem', 'grauen', 'pulli', 'und', 'mit', 'einer', 'schwarzen', 'baseballmütze', 'steht', 'in', 'einem', 'geschäft', 'in', 'der', 'schlange.']], [['die', 'person', 'im', 'gestreiften', 'shirt', 'klettert', 'auf', 'einen', 'berg.']], [['zwei', 'männer', 'tun', 'so', 'als', 'seien', 'sie', 'statuen,', 'während', 'frauen', 'ihnen', 'zusehen.']], [['leute,', 'die', 'vor', 'einem', 'gebäude', 'stehen.']], [['eine', 'teenagerin', 'spielt', 'bei', 'einem', 'spiel', 'trompete', 'auf', 'dem', 'feld.']], [['eine', 'frau', 'macht', 'einen', 'salto', 'auf', 'einem', 'trampolin', 'am', 'strand.']], [['ein', 'mann', 'steht', 'bei', 'einigen', 'spielautomaten', 'in', 'einer', 'bar.']], [['eine', 'frau', 'verwendet', 'eine', 'bohrmaschine', 'während', 'ein', 'mann', 'sie', 'fotografiert.']], [['eine', 'frau', 'in', 'einem', 'pinken', 'pulli', 'und', 'einer', 'schürze', 'putzt', 'einen', 'tisch', 'mit', 'einem', 'schwamm.']], [['ein', 'mann', 'schneidet', 'äste', 'von', 'bäumen.']], [['eine', 'gruppe', 'asiatischer', 'jungen', 'wartet', 'am', 'grill', 'darauf,', 'dass', 'fleisch', 'gar', 'wird.']], [['frauen,', 'die', 'traditionelle', 'kleidung', 'tragen,', 'spielen', 'das', 'leben', 'einheimischer', 'nach.']], [['ein', 'mann', 'drückt', 'den', 'kopf', 'eines', 'anderen', 'mannes', 'nach', 'unten', 'und', 'will', 'ihm', 'ins', 'gesicht', 'schlagen.']]]\n",
            "[['ein', 'mann', 'mit', 'einem', 'orangefarbenen', 'hut', 'starrt', 'etwas', 'an', '.', '<eos>', '.'], ['vor', 'einem', 'weißen', 'zaun', 'läuft', 'ein', 'gehweg', 'auf', '<unk>', 'grünen', 'gras', '.'], ['ein', 'mädchen', 'in', 'einem', 'karateanzug', 'führt', 'einen', 'stock', 'vor', 'einem', '<unk>', 'auf', '.', '<eos>', 'zu', '.'], ['fünf', 'personen', 'mit', 'jacken', 'und', 'helmen', 'stehen', 'im', 'schnee', ',', 'und', 'im', 'hintergrund', 'sind', '<unk>', 'zu', 'sehen', '.'], ['leute', 'reparieren', 'das', 'dach', 'eines', 'hauses', '.', '<eos>', '.'], ['ein', 'mann', 'in', 'farbenfroher', 'kleidung', 'macht', 'fotos', 'von', 'männern', 'in', 'dunkler', 'kleidung', 'und', 'mit', 'dunklen', 'hüten', 'und', 'einer', 'frau', ',', 'die', 'in', 'einem', '<unk>', 'verkleidet', 'ist', '.', '<eos>', 'stehen', '.'], ['eine', 'gruppe', 'von', 'menschen', 'steht', 'vor', 'einem', 'bücherregal', '.'], ['ein', 'junge', 'in', 'einem', 'roten', 'trikot', 'versucht', ',', 'den', 'ball', 'in', 'einem', 'blauen', 'trikot', 'zu', '<unk>', ',', 'während', 'der', 'ball', 'in', 'der', 'blauen', 'uniform', 'versucht', ',', 'zu', 'fangen', '.'], ['ein', 'typ', 'arbeitet', 'an', 'einem', 'gebäude', '.', '<eos>', '.'], ['ein', 'mann', 'in', 'einer', 'weste', 'sitzt', 'in', 'einem', 'stuhl', 'und', 'hält', 'waren', 'in', 'der', 'hand', '.'], ['eine', 'mutter', 'und', 'ihr', 'junger', 'lied', 'genießen', 'draußen', 'an', 'einem', 'schönen', 'tag', '.', '<eos>', '.'], ['männer', 'spielen', 'volleyball', ',', 'wobei', 'einer', 'mit', 'einem', '<unk>', 'ball', 'den', 'ball', 'in', 'der', 'luft', 'hat', ',', 'aber', 'es', 'sich', 'gegenseitig', '.'], ['eine', 'frau', 'hält', 'in', 'einer', 'küche', 'eine', 'schüssel', 'mit', 'essen', 'in', 'der', 'hand', '.'], ['ein', 'mann', 'sitzt', 'an', 'einem', 'tisch', 'im', 'haus', 'und', 'benutzt', '<unk>', '.', 'er', '.'], ['drei', 'menschen', 'sitzen', 'in', 'einer', '<unk>', '.', '<eos>', '.'], ['ein', 'mädchen', 'in', 'einem', 'jeans', 'geht', 'auf', 'einem', 'balken', 'entlang', '.', '<eos>', '.'], ['ein', 'blonder', 'junge', 'hält', 'sich', 'mit', 'einem', 'mann', 'im', 'sand', 'fest', '.'], ['eine', 'frau', 'in', 'einem', 'grauen', 'pullover', 'und', 'mit', 'einer', 'schwarzen', 'baseballmütze', 'steht', 'in', 'einem', 'laden', '.', '<eos>', '.'], ['die', 'person', 'in', 'dem', 'gestreiften', 'oberteil', 'klettert', 'einen', 'berg', 'hinauf', '.', '<eos>', '.'], ['zwei', 'männer', 'füllen', '<unk>', '<unk>', ',', 'während', 'frauen', 'zusehen', '.', '<eos>', 'schauen', '.'], ['leute', 'stehen', 'vor', 'einem', 'gebäude', '.', '<eos>', '.'], ['ein', 'teenager', 'spielt', 'bei', 'einem', 'spiel', 'auf', 'dem', 'spielfeld', 'ihre', 'trompete', '.'], ['eine', 'frau', 'macht', 'am', 'strand', 'einen', 'salto', 'auf', 'einem', 'trampolin', '.', '<eos>', '.'], ['ein', 'mann', 'steht', 'neben', 'einer', 'gruppe', 'von', '<unk>', 'in', 'einer', 'bar', '.', '<eos>', '.'], ['eine', 'frau', 'benutzt', 'eine', 'blume', ',', 'während', 'ein', 'anderer', 'mann', 'ein', 'foto', 'macht', '.', '<eos>', 'macht', '.'], ['eine', 'frau', 'in', 'einem', 'rosafarbenen', 'pullover', 'und', 'einer', 'schürze', 'putzt', 'einen', 'tisch', 'mit', 'einem', '<unk>', '.', '<eos>', '.'], ['ein', 'mann', 'schneidet', 'sorgfältig', 'die', 'bäume', '.', '<eos>', '.'], ['eine', 'gruppe', 'asiatischer', 'jungen', 'wartet', 'darauf', ',', 'dass', 'fleisch', 'über', 'dem', 'fleisch', 'grillt', '.'], ['frauen', 'in', 'traditioneller', 'kleidung', 'fahren', '<unk>', 'ski', '.', '<eos>', '.'], ['ein', 'mann', 'hält', 'den', 'kopf', 'eines', 'anderen', 'mannes', 'und', 'bereitet', 'sich', 'darauf', 'vor', ',', 'einen', '<unk>', 'zu', 'schlagen', '.', '<eos>', 'zu', 'schlagen', '.']]\n",
            "0.24093181923137516\n"
          ]
        },
        {
          "output_type": "stream",
          "name": "stderr",
          "text": [
            "\n"
          ]
        }
      ]
    },
    {
      "cell_type": "code",
      "source": [
        "test=[6, 12, 7, 306, 316, 219, 1266, 4, 39, 13, 36, 21, 182, 639, 11, 287, 37, 87, 4, 16, 76, 7, 4, 0, 2364, 5, 0]\n",
        "def src_decode(ids):\n",
        "  sentence = list(map(lambda x: en_id2token[x], ids))\n",
        "  return \" \".join(sentence)\n",
        "a=src_decode(test)\n",
        "print(a)"
      ],
      "metadata": {
        "colab": {
          "base_uri": "https://localhost:8080/"
        },
        "id": "zwvPLe7WdP9f",
        "outputId": "cbc4363c-0095-4bb5-ef93-02688703318f"
      },
      "execution_count": null,
      "outputs": [
        {
          "output_type": "stream",
          "name": "stdout",
          "text": [
            "A man in light colored clothing photographs a group of men wearing dark suits and hats standing around a woman dressed in a <unk> gown . <unk>\n"
          ]
        }
      ]
    }
  ],
  "metadata": {
    "accelerator": "GPU",
    "colab": {
      "gpuType": "A100",
      "provenance": [],
      "machine_shape": "hm"
    },
    "kernelspec": {
      "display_name": "Python 3",
      "name": "python3"
    },
    "language_info": {
      "name": "python"
    }
  },
  "nbformat": 4,
  "nbformat_minor": 0
}